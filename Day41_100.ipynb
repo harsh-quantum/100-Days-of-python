{
 "cells": [
  {
   "cell_type": "markdown",
   "id": "255be152",
   "metadata": {},
   "source": [
    "##   Day 41 Challenge\n",
    "\n",
    "#### "
   ]
  },
  {
   "cell_type": "markdown",
   "id": "b8089c0c",
   "metadata": {},
   "source": [
    "\n",
    "\n",
    "1. Create a dictionary that stores the following information about a website: name, URL, description and a star rating (out of 5).\n",
    "2. Use a loop to output the names of the keys, ask the user to type in the details and store the input in the dictionary.\n",
    "3. Finally, output the whole dictionary (keys and values).\n",
    "\n",
    "🥳 Extra points for getting all the inputs with just one input command and the split function.\n",
    "\n",
    "\n",
    "![image.png](venv/picture_10.png)"
   ]
  },
  {
   "cell_type": "code",
   "execution_count": 42,
   "id": "77089d9c",
   "metadata": {},
   "outputs": [
    {
     "name": "stdout",
     "output_type": "stream",
     "text": [
      " 🌟Website Rating🌟 \n",
      "Input the website name: google\n",
      "\n",
      "Input the URL: gmail.com\n",
      "\n",
      "Input your a description: email website\n",
      "\n",
      "Input the a star rating out of 5: 4\n",
      "\n",
      " name: google, url: gmail.com, dsc: email website, rating: 4,"
     ]
    }
   ],
   "source": [
    "mydict = {}\n",
    "print(\" 🌟Website Rating🌟 \")\n",
    "mydict['name'] = input(\"Input the website name: \")\n",
    "print()\n",
    "mydict['url'] = input(\"Input the URL: \")\n",
    "print()\n",
    "mydict['dsc'] = input(\"Input your a description: \")\n",
    "print()\n",
    "mydict['rating'] = input(\"Input the a star rating out of 5: \")\n",
    "print()\n",
    "\n",
    "for name, value in mydict.items():\n",
    "  print(f\" {name}: {value},\",end=\"\")"
   ]
  }
 ],
 "metadata": {
  "kernelspec": {
   "display_name": "Python 3 (ipykernel)",
   "language": "python",
   "name": "python3"
  },
  "language_info": {
   "codemirror_mode": {
    "name": "ipython",
    "version": 3
   },
   "file_extension": ".py",
   "mimetype": "text/x-python",
   "name": "python",
   "nbconvert_exporter": "python",
   "pygments_lexer": "ipython3",
   "version": "3.11.5"
  }
 },
 "nbformat": 4,
 "nbformat_minor": 5
}
