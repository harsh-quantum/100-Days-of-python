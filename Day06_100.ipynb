{
 "cells": [
  {
   "cell_type": "markdown",
   "id": "c4823bfa",
   "metadata": {},
   "source": [
    "## What the elif is this?"
   ]
  },
  {
   "cell_type": "markdown",
   "id": "3808acec",
   "metadata": {},
   "source": [
    "###  Day 6 Challenge"
   ]
  },
  {
   "cell_type": "markdown",
   "id": "32951e80",
   "metadata": {},
   "source": [
    "Make your own login program.\n",
    "\n",
    "1: Create a program where someone logins with their username and password correctly and then gets a lovely individual greeting.\n",
    "\n",
    "2: Write a specific personalized greeting for 3 different people.\n",
    "\n",
    "3: Don't forget an else statement for everyone else who shouldn't be logging in."
   ]
  },
  {
   "cell_type": "code",
   "execution_count": 14,
   "id": "bd475993",
   "metadata": {},
   "outputs": [
    {
     "name": "stdout",
     "output_type": "stream",
     "text": [
      "Enter your usernameharsh\n",
      "\n",
      "Enter your passwordharsh01@\n",
      "\n",
      " Welcome Harsh!! \n"
     ]
    }
   ],
   "source": [
    "username = input(\"Enter your username\")\n",
    "print()\n",
    "password = input(\"Enter your password\")\n",
    "print()\n",
    "\n",
    "if username == \"harsh\" and password == \"harsh01@\":\n",
    "    print(\" Welcome Harsh!! \")\n",
    "elif username == \"ajay\" and password == \"ajay02#\":\n",
    "    print(\" Welcome Ajay!! \")\n",
    "elif username == \"sam\" and password == \"sam03&\":\n",
    "    print(\" Welcome Sam!! \")\n",
    "else:\n",
    "    print(\" Sorry! Try the next time\")"
   ]
  },
  {
   "cell_type": "code",
   "execution_count": null,
   "id": "016aa99f",
   "metadata": {},
   "outputs": [],
   "source": []
  }
 ],
 "metadata": {
  "kernelspec": {
   "display_name": "Python 3 (ipykernel)",
   "language": "python",
   "name": "python3"
  },
  "language_info": {
   "codemirror_mode": {
    "name": "ipython",
    "version": 3
   },
   "file_extension": ".py",
   "mimetype": "text/x-python",
   "name": "python",
   "nbconvert_exporter": "python",
   "pygments_lexer": "ipython3",
   "version": "3.11.2"
  }
 },
 "nbformat": 4,
 "nbformat_minor": 5
}
