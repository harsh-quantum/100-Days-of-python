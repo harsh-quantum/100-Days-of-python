{
 "cells": [
  {
   "cell_type": "markdown",
   "id": "7546c9f5",
   "metadata": {},
   "source": [
    "##  Day 10 Challenge\n",
    "\n",
    "### Extend your bill calculator"
   ]
  },
  {
   "cell_type": "markdown",
   "id": "efe82be8",
   "metadata": {},
   "source": [
    "Add a tip function that adds the total tip to the bill before splitting it equally between the people.\n",
    "\n",
    "1. Ask the user for the total bill amount.\n",
    "2. Ask what % of tip they will leave to be added to the bill total.\n",
    "3. Figure out how to get the total bill with tip then add that to original amount.\n",
    "4. Ask the user how many people are splitting the bill and divide by the total.\n",
    "5. You can use the same code to get started:\n",
    "\n",
    "    myBill = float(input(\"What was the bill?: \")) \n",
    "    \n",
    "    numberOfPeople = int(input(\"How many people?: \"))\n",
    "    \n",
    "    answer = myBill / numberOfPeople\n",
    "    \n",
    "    print(\"You all owe\", answer)"
   ]
  },
  {
   "cell_type": "code",
   "execution_count": 27,
   "id": "affa6e2b",
   "metadata": {},
   "outputs": [
    {
     "name": "stdout",
     "output_type": "stream",
     "text": [
      "What was the bill?: 1522\n",
      "\n",
      "What % of tip you want to be added to the bill total. 4\n",
      "\n",
      "Tip added to the bill :  60.88\n",
      "\n",
      "Total bill with tip:  1582.88\n",
      "How many people?: 36\n",
      "\n",
      "\n",
      "You all owe 43.96888888888889\n"
     ]
    }
   ],
   "source": [
    "myBill = float(input(\"What was the bill?: \"))\n",
    "print()\n",
    "tip = float(input(\"What % of tip you want to be added to the bill total. \"))\n",
    "print()\n",
    "tip_b = float((tip*myBill)/100)\n",
    "print(\"Tip added to the bill : \", tip_b)\n",
    "print()\n",
    "print(\"Total bill with tip: \",myBill+tip_b )\n",
    "numberOfPeople = int(input(\"How many people?: \"))\n",
    "print()\n",
    "\n",
    "answer = (myBill+tip_b)  / numberOfPeople\n",
    "print()\n",
    "print(\"You all owe\", answer)"
   ]
  },
  {
   "cell_type": "code",
   "execution_count": null,
   "id": "60af6e6d",
   "metadata": {},
   "outputs": [],
   "source": []
  }
 ],
 "metadata": {
  "kernelspec": {
   "display_name": "Python 3 (ipykernel)",
   "language": "python",
   "name": "python3"
  },
  "language_info": {
   "codemirror_mode": {
    "name": "ipython",
    "version": 3
   },
   "file_extension": ".py",
   "mimetype": "text/x-python",
   "name": "python",
   "nbconvert_exporter": "python",
   "pygments_lexer": "ipython3",
   "version": "3.11.2"
  }
 },
 "nbformat": 4,
 "nbformat_minor": 5
}
