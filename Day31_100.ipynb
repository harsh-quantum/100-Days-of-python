{
 "cells": [
  {
   "cell_type": "markdown",
   "id": "255be152",
   "metadata": {},
   "source": [
    "##   Day 31 Challenge\n",
    "\n"
   ]
  },
  {
   "cell_type": "markdown",
   "id": "b8089c0c",
   "metadata": {},
   "source": [
    "1. Create a classic user interface using string manipulation.\n",
    "\n",
    "2. Create these two user interfaces (below) using everything you know about extensions to print statements and f-strings.\n",
    "\n",
    "3. The second one is a bit more tricky as it involves alignment.\n",
    "\n",
    "4. There are no input statements. This is all about using print and variables in interesting ways. However, you may want to create a subroutine to make the color changing easier (like you did on Day 29).\n",
    "\n",
    "![SNOWFALL](venv/picture_5.png)"
   ]
  },
  {
   "cell_type": "code",
   "execution_count": null,
   "id": "77089d9c",
   "metadata": {},
   "outputs": [],
   "source": []
  },
  {
   "cell_type": "code",
   "execution_count": 14,
   "id": "12c7bd58",
   "metadata": {},
   "outputs": [
    {
     "name": "stdout",
     "output_type": "stream",
     "text": [
      "          \u001b[1;31m=\u001b[1;31m=\u001b[1;34m=\u001b[1;032m  Music App \u001b[1;31m=\u001b[1;1m=\u001b[1;34m=\n",
      "\n",
      "🎧🎼 ▶️ \u001b[1;37m Radio Gaga \n",
      " \u001b[32m       Queen\n",
      "\n",
      "\u001b[1;37m \u001b[1m PREV\n",
      "\t \u001b[1;36m NEXT\n",
      "\t\t \u001b[1;35m PAUSE\n",
      "\n",
      "\n",
      "\n",
      "\u001b[1;37m           WELCOME TO          \n",
      "\u001b[1;34m      --    ARMBOOK    --      \n",
      "\n",
      "\u001b[1;35m        Definitely not a rip off of\n",
      "           a certain other social\n",
      "               networking site.\n",
      "\n",
      "\u001b[1;31m            Honest.            \n",
      "\n",
      " \u001b[1;37m           Username:           \n",
      " \u001b[1;37m           Password:           \n"
     ]
    }
   ],
   "source": [
    "s =\"\"\n",
    "print(f\"{s:>10}\",\"\\033[1;31m\",\"=\",\"\\033[1;31m\",\"=\",\"\\033[1;34m\",\"=\",\"\\033[1;032m\",\"  Music App \",\"\\033[1;31m\",\"=\",\"\\033[1;1m\",\"=\",\"\\033[1;34m\",\"=\",sep=\"\")\n",
    "\n",
    "\n",
    "print()\n",
    "m = \"Radio Gaga\"\n",
    "n= \"Queen\"\n",
    "print(\"🎧🎼 ▶️\",\"\\033[1;37m\",f\"{m: >5}\",\"\\n\",\"\\033[32m\",f\"{n: >11}\")\n",
    "print()\n",
    "print(\"\\033[1;37m\",\"\\033[1m\",\"PREV\\n\\t\",\"\\033[1;36m\",\"NEXT\\n\\t\\t\",\"\\033[1;35m\",\"PAUSE\")\n",
    "\n",
    "print()\n",
    "print()\n",
    "print()\n",
    "\n",
    "q = \"WELCOME TO\"\n",
    "w = \"--    ARMBOOK    --\"\n",
    "e = \"Definitely not a rip off of\"\n",
    "p =\"a certain other social\"\n",
    "z = \"networking site.\"\n",
    "r = \"Honest.\"\n",
    "t = \"Username:\"\n",
    "p1 = \"Password:\"\n",
    "print(\"\\033[1;37m\",f\"{q: ^30}\")\n",
    "print(\"\\033[1;34m\",f\"{w: ^30}\")\n",
    "print()\n",
    "print(\"\\033[1;35m\",f\"{s: >7}{e}\\n{s: >11}{p}\\n{s: >15}{z}\")\n",
    "print()\n",
    "print(\"\\033[1;31m\",f\"{r: ^30}\\n\\n\",\"\\033[1;37m\",f\"{t: ^30}\\n\",\"\\033[1;37m\",f\"{p1: ^30}\")"
   ]
  },
  {
   "cell_type": "code",
   "execution_count": null,
   "id": "2b4ea2f6",
   "metadata": {},
   "outputs": [],
   "source": []
  }
 ],
 "metadata": {
  "kernelspec": {
   "display_name": "Python 3 (ipykernel)",
   "language": "python",
   "name": "python3"
  },
  "language_info": {
   "codemirror_mode": {
    "name": "ipython",
    "version": 3
   },
   "file_extension": ".py",
   "mimetype": "text/x-python",
   "name": "python",
   "nbconvert_exporter": "python",
   "pygments_lexer": "ipython3",
   "version": "3.11.2"
  }
 },
 "nbformat": 4,
 "nbformat_minor": 5
}
