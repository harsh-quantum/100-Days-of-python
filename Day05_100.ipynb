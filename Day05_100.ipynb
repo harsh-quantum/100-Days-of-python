{
 "cells": [
  {
   "cell_type": "markdown",
   "id": "b096e076",
   "metadata": {},
   "source": [
    "## If Statements"
   ]
  },
  {
   "cell_type": "markdown",
   "id": "065dc7a4",
   "metadata": {},
   "source": [
    "### Day 5 Challenge"
   ]
  },
  {
   "cell_type": "markdown",
   "id": "fcc02883",
   "metadata": {},
   "source": [
    "\"Which character are you?\" Generator\n",
    "\n",
    "You will need to:\n",
    "\n",
    "Ask your users a series of questions that identify if they're one of the characters in the world you have created.\n",
    "\n",
    "Add multiple if statements to check the result of each question.\n",
    "\n",
    "Make sure to have a final print if they haven't selected any of the characters so far."
   ]
  },
  {
   "cell_type": "markdown",
   "id": "a2230f3a",
   "metadata": {},
   "source": [
    "### Example \n",
    "\n",
    "#### Marvel Movie Character Creator\n",
    "--\n",
    "Do you like 'hanging around'?: No\n",
    "Then you're not Spider-man\n",
    "\n",
    "Do you have a 'gravelly' voice?: No\n",
    "Aww, then you're not Korg\n",
    "\n",
    "Do you often feel 'Marvelous'?: Yes\n",
    "Aha! You're Captain Marvel! Hi!"
   ]
  },
  {
   "cell_type": "code",
   "execution_count": 12,
   "id": "5a195e4d",
   "metadata": {},
   "outputs": [
    {
     "name": "stdout",
     "output_type": "stream",
     "text": [
      "Which character are you from 'Avengers?'\n",
      "\n",
      "Answer these questions and let's find out.\n",
      "\n",
      "Please use Yes or No for yes and no.\n",
      " Do you like Mjölnir No\n",
      "\n",
      " Do you want to fly ?No\n",
      "\n",
      " Do you often feel 'Marvelous' ?Yes\n",
      " Aha! You're Captain Marvel! Hi! \n"
     ]
    }
   ],
   "source": [
    "print(\"Which character are you from 'Avengers?'\")\n",
    "print()\n",
    "print(\"Answer these questions and let's find out.\")\n",
    "print()\n",
    "print(\"Please use Yes or No for yes and no.\")\n",
    "\n",
    "\n",
    "thing = input(\" Do you like Mjölnir \")\n",
    "if thing == \"Yes\":\n",
    "    print(\" Pertfect! You will fly \")\n",
    "print()\n",
    "character_m = input (\" Do you want to fly ?\")\n",
    "if character_m == \"Yes\":\n",
    "    print(\" Then you are not Spiderman Man\")\n",
    "\n",
    "print()\n",
    "marvel = input (\" Do you often feel 'Marvelous' ?\")\n",
    "if marvel == \"Yes\":\n",
    "    print(\" Aha! You're Captain Marvel! Hi! \")\n",
    "else:\n",
    "    print(\" OK. Welcome Aboard Iron man \")\n",
    "    \n",
    "\n"
   ]
  },
  {
   "cell_type": "code",
   "execution_count": null,
   "id": "28a0221d",
   "metadata": {},
   "outputs": [],
   "source": []
  }
 ],
 "metadata": {
  "kernelspec": {
   "display_name": "Python 3 (ipykernel)",
   "language": "python",
   "name": "python3"
  },
  "language_info": {
   "codemirror_mode": {
    "name": "ipython",
    "version": 3
   },
   "file_extension": ".py",
   "mimetype": "text/x-python",
   "name": "python",
   "nbconvert_exporter": "python",
   "pygments_lexer": "ipython3",
   "version": "3.11.2"
  }
 },
 "nbformat": 4,
 "nbformat_minor": 5
}
