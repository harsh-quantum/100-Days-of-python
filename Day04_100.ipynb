{
 "cells": [
  {
   "cell_type": "code",
   "execution_count": 8,
   "id": "d2cf2ceb",
   "metadata": {},
   "outputs": [
    {
     "name": "stdout",
     "output_type": "stream",
     "text": [
      "Welcome to your adventure simulator. I am going to ask you a bunch  of questions and then create an epic story with you as the star!\n",
      "\n",
      "What is your name?Harsh\n",
      "\n",
      "What is your worst enemy’s name?Ego\n",
      "\n",
      "What is your superpower?Smile\n",
      "\n",
      "Where do you live?Bhopal\n",
      "\n",
      "What is your favorite food?Idle\n",
      "\n",
      "Hello \u001b[31m Harsh \u001b[0m ! Your ability to \u001b[31m Smile \u001b[0m will make sure you never have to look at \u001b[31m Ego \u001b[0m again. Go eat \u001b[31m Idle \u001b[0m as you walk down the streets of \u001b[31m Bhopal \u001b[0m and use \u001b[31m Smile \u001b[0m for good and not evil!\n"
     ]
    }
   ],
   "source": [
    "print(\"Welcome to your adventure simulator. I am going to ask you a bunch  \\\n",
    "of questions and then create an epic story with you as the star!\")\n",
    "\n",
    "print()\n",
    "name = input(\"What is your name?\")\n",
    "print()\n",
    "e_name = input(\"What is your worst enemy’s name?\")\n",
    "print()\n",
    "superpower = input(\"What is your superpower?\")\n",
    "print()\n",
    "live = input(\"Where do you live?\")\n",
    "print()\n",
    "food = input(\"What is your favorite food?\")\n",
    "print()\n",
    "print(\"Hello\",\"\\033[31m\",name,\"\\033[0m\",\"! Your ability to\", \n",
    "      \"\\033[31m\",superpower,\"\\033[0m\" ,\"will make sure you never have to look at\",\n",
    "      \"\\033[31m\",e_name,\"\\033[0m\",\"again. Go eat\", \n",
    "      \"\\033[31m\",food,\"\\033[0m\",\"as you walk down the streets of\",\n",
    "      \"\\033[31m\",live,\"\\033[0m\", \"and use\",\"\\033[31m\", superpower,\"\\033[0m\", \"for good and not evil!\")"
   ]
  },
  {
   "cell_type": "code",
   "execution_count": null,
   "id": "3dfb32f6",
   "metadata": {},
   "outputs": [],
   "source": []
  }
 ],
 "metadata": {
  "kernelspec": {
   "display_name": "Python 3 (ipykernel)",
   "language": "python",
   "name": "python3"
  },
  "language_info": {
   "codemirror_mode": {
    "name": "ipython",
    "version": 3
   },
   "file_extension": ".py",
   "mimetype": "text/x-python",
   "name": "python",
   "nbconvert_exporter": "python",
   "pygments_lexer": "ipython3",
   "version": "3.11.2"
  }
 },
 "nbformat": 4,
 "nbformat_minor": 5
}
