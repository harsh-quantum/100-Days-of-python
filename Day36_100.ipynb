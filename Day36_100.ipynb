{
 "cells": [
  {
   "cell_type": "markdown",
   "id": "255be152",
   "metadata": {},
   "source": [
    "##   Day 36 Challenge\n",
    "\n",
    "#### Use .lower(), .strip(), .capitalize(), .upper()"
   ]
  },
  {
   "cell_type": "markdown",
   "id": "b8089c0c",
   "metadata": {},
   "source": [
    "1. Create a list of people's names. Ask for first and last name (surname) separately.\n",
    "2. Strip any extra spaces.\n",
    "3. Store names in a capitalized version.\n",
    "4. Create a new string using an fString that combines the tidied up version of the first name and tidied up version of the last name.\n",
    "5. Add those new versions to a list.\n",
    "6. Do not allow duplicates.\n",
    "7. Each time you add a new name, you should print out the full list.\n",
    "\n",
    "<!-- ![SNOWFALL](venv/picture_8.png) -->"
   ]
  },
  {
   "cell_type": "code",
   "execution_count": null,
   "id": "77089d9c",
   "metadata": {},
   "outputs": [
    {
     "name": "stdout",
     "output_type": "stream",
     "text": [
      "Enter your first name:dfscd\n",
      "\n",
      "Enter your last name:fgvf\n",
      "\n",
      "Dfscd Fgvf\n"
     ]
    }
   ],
   "source": [
    "import os, time\n",
    "\n",
    "list_of_names =[]\n",
    "\n",
    "def name_display():\n",
    "    print()\n",
    "    for names in list_of_names:\n",
    "        print(names)\n",
    "        \n",
    "while(True):\n",
    "    os.system(\"cls\")\n",
    "    first_name = input(\"Enter your first name:\").strip().capitalize()\n",
    "    print()\n",
    "    last_name = input(\"Enter your last name:\").strip().capitalize()\n",
    "    full_name = f\"{first_name} {last_name}\"\n",
    "    if full_name not in list_of_names:\n",
    "        list_of_names.append(full_name)\n",
    "        name_display()\n",
    "    else:\n",
    "        print(\"Name is already there\")\n",
    "   "
   ]
  },
  {
   "cell_type": "code",
   "execution_count": null,
   "id": "12c7bd58",
   "metadata": {},
   "outputs": [],
   "source": [
    "wsd\n",
    "\n",
    "\n"
   ]
  },
  {
   "cell_type": "code",
   "execution_count": null,
   "id": "2b4ea2f6",
   "metadata": {},
   "outputs": [],
   "source": []
  },
  {
   "cell_type": "code",
   "execution_count": null,
   "id": "47859e38",
   "metadata": {},
   "outputs": [],
   "source": []
  }
 ],
 "metadata": {
  "kernelspec": {
   "display_name": "Python 3 (ipykernel)",
   "language": "python",
   "name": "python3"
  },
  "language_info": {
   "codemirror_mode": {
    "name": "ipython",
    "version": 3
   },
   "file_extension": ".py",
   "mimetype": "text/x-python",
   "name": "python",
   "nbconvert_exporter": "python",
   "pygments_lexer": "ipython3",
   "version": "3.11.2"
  }
 },
 "nbformat": 4,
 "nbformat_minor": 5
}
