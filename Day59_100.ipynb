{
 "cells": [
  {
   "cell_type": "markdown",
   "id": "255be152",
   "metadata": {},
   "source": [
    "##   Day 59 Challenge\n",
    "\n",
    "#### Palindrome"
   ]
  },
  {
   "cell_type": "markdown",
   "id": "b8089c0c",
   "metadata": {},
   "source": [
    "This challenge is all about using the debugger.\n",
    "\n",
    "You're going to write a program that checks a string to see if it is a palindrome.\n",
    "\n",
    "Yes. We know that Python has the built in function string.reverse() that you could use.\n",
    "\n",
    "Zero points for that today, we want you to think hard and utilize your skills in:\n",
    "\n",
    "    recursion\n",
    "    string slicing\n",
    "    looping\n",
    "\n",
    "Your program should:\n",
    "\n",
    "    Prompt the user to input a word.\n",
    "    Analyze the word to see if it is a palindrome.\n",
    "    Output a relevant 'yes/no message.\n",
    "\n",
    "\n",
    "\n",
    "\n",
    "<!-- \n",
    "![image.png](venv/picture_10.png) -->"
   ]
  },
  {
   "cell_type": "code",
   "execution_count": 2,
   "id": "e306f6e1-929c-4407-9562-38521856f94a",
   "metadata": {
    "tags": []
   },
   "outputs": [
    {
     "name": "stdout",
     "output_type": "stream",
     "text": [
      "🌟Palindrome Checker🌟\n"
     ]
    },
    {
     "name": "stdin",
     "output_type": "stream",
     "text": [
      " Input a word >  Naman\n"
     ]
    },
    {
     "name": "stdout",
     "output_type": "stream",
     "text": [
      "Naman is a palindrome. Yay!\n"
     ]
    }
   ],
   "source": [
    "print(\"🌟Palindrome Checker🌟\")\n",
    "\n",
    "def palindrome(word):\n",
    "    \n",
    "    if len(word) == 1 or len(word) == 0 :\n",
    "        return True\n",
    "    first = word[0].lower()\n",
    "    last = word[-1].lower()\n",
    "    # print(word)\n",
    "    if first == last:\n",
    "        check = palindrome(word[1:-1])\n",
    "    else:\n",
    "        return False\n",
    "    return check\n",
    "\n",
    "\n",
    "word = input(\" Input a word > \")\n",
    "check =  palindrome(word)\n",
    "if check == True:\n",
    "    print(f\"{word} is a palindrome. Yay!\")\n",
    "else:\n",
    "    print(f\"{word} is not palindrome\")"
   ]
  },
  {
   "cell_type": "code",
   "execution_count": null,
   "id": "33f16735",
   "metadata": {},
   "outputs": [],
   "source": []
  },
  {
   "cell_type": "code",
   "execution_count": 8,
   "id": "f164470d",
   "metadata": {},
   "outputs": [
    {
     "data": {
      "text/plain": [
       "'ars'"
      ]
     },
     "execution_count": 8,
     "metadata": {},
     "output_type": "execute_result"
    }
   ],
   "source": [
    "word[1:-1]"
   ]
  },
  {
   "cell_type": "code",
   "execution_count": null,
   "id": "a33f393e",
   "metadata": {},
   "outputs": [],
   "source": []
  }
 ],
 "metadata": {
  "kernelspec": {
   "display_name": "Python 3.11 (XPython)",
   "language": "python",
   "name": "xpython"
  },
  "language_info": {
   "file_extension": ".py",
   "mimetype": "text/x-python",
   "name": "python",
   "version": "3.11.6"
  }
 },
 "nbformat": 4,
 "nbformat_minor": 5
}
