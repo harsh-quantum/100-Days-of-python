{
 "cells": [
  {
   "cell_type": "markdown",
   "id": "255be152",
   "metadata": {},
   "source": [
    "##   Day 38 Challenge\n",
    "\n",
    "#### Rainbow challenge"
   ]
  },
  {
   "cell_type": "markdown",
   "id": "b8089c0c",
   "metadata": {},
   "source": [
    "Code the rainbow!\n",
    "\n",
    "1. Ask the user to input any sentence (string).\n",
    "2. Now we'll rainbow-ize (nope, me neither) it.\n",
    "3. As soon as the string contains an 'r', every letter from that point on should be red.\n",
    "4. When the computer encounters a 'b', 'g', 'p' or 'y', from there the output should be blue for 'b', green for 'g'...you get the idea.\n",
    "5. Loop through the string and output it (so the color continues through the loop).\n",
    "6. The output should change color every time it encounters a new r,g,b,p or y.\n",
    "\n",
    "🥳 Extra points for resetting the output color back to default every time there's a space.\n",
    "\n",
    "Example:\n",
    "\n",
    "<!-- ![SNOWFALL](venv/picture_8.png) -->\n",
    "\n",
    "![image.png](venv/picture_9.png)"
   ]
  },
  {
   "cell_type": "code",
   "execution_count": 1,
   "id": "77089d9c",
   "metadata": {},
   "outputs": [
    {
     "name": "stdout",
     "output_type": "stream",
     "text": [
      "🌟Star Wars Name Generator🌟\n",
      "\n",
      "Input your first and last name :  \n",
      "\n",
      ">Harsh\n",
      ">Gupta\n",
      "\n",
      "What is your mother's maiden name and city where you born ? : \n",
      ">Anju\n",
      ">Delhi\n",
      "\n",
      "Your Star Wars name is Hargup  Anjdel\n"
     ]
    }
   ],
   "source": [
    "print(\"🌟Star Wars Name Generator🌟\")\n",
    "print()\n",
    "print(\"Input your first and last name :  \")\n",
    "print()\n",
    "firstName = input(\">\")\n",
    "lastName  = input(\">\")\n",
    "print()\n",
    "print(\"What is your mother's maiden name and city where you born ? : \")\n",
    "maidenName = input(\">\")\n",
    "cityName  = input(\">\")\n",
    "print()\n",
    "print(f\"Your Star Wars name is {firstName[:3].capitalize()}{lastName[:3].lower()}  {maidenName[:3].capitalize()}{cityName[:3].lower()}\")\n"
   ]
  },
  {
   "cell_type": "code",
   "execution_count": null,
   "id": "12c7bd58",
   "metadata": {},
   "outputs": [],
   "source": [
    "\n",
    "\n",
    "\n"
   ]
  },
  {
   "cell_type": "code",
   "execution_count": null,
   "id": "2b4ea2f6",
   "metadata": {},
   "outputs": [],
   "source": []
  },
  {
   "cell_type": "code",
   "execution_count": null,
   "id": "47859e38",
   "metadata": {},
   "outputs": [],
   "source": []
  }
 ],
 "metadata": {
  "kernelspec": {
   "display_name": "Python 3 (ipykernel)",
   "language": "python",
   "name": "python3"
  },
  "language_info": {
   "codemirror_mode": {
    "name": "ipython",
    "version": 3
   },
   "file_extension": ".py",
   "mimetype": "text/x-python",
   "name": "python",
   "nbconvert_exporter": "python",
   "pygments_lexer": "ipython3",
   "version": "3.11.5"
  }
 },
 "nbformat": 4,
 "nbformat_minor": 5
}
