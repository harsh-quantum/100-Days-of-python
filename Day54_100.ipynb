{
 "cells": [
  {
   "cell_type": "markdown",
   "id": "255be152",
   "metadata": {},
   "source": [
    "##   Day 54 Challenge\n",
    "\n",
    "#### "
   ]
  },
  {
   "cell_type": "markdown",
   "id": "b8089c0c",
   "metadata": {},
   "source": [
    "I've given you a CSV file called 'Day54Totals.csv' (look at your file tree) that contains multiple pieces of data in the fields 'cost' and 'quantity' of items sold. How much money did this shop earn in a day?\n",
    "\n",
    "Your program should:\n",
    "\n",
    "    Read the CSV file in.\n",
    "    Multiply the cost by the quantity.\n",
    "    Add it all together to calculate how much money the shop made in a day.\n",
    "\n",
    "<!-- \n",
    "![image.png](venv/picture_10.png) -->"
   ]
  },
  {
   "cell_type": "code",
   "execution_count": 225,
   "id": "822b4ff0",
   "metadata": {},
   "outputs": [
    {
     "name": "stdout",
     "output_type": "stream",
     "text": [
      "🌟Shop $$ Tracker🌟\n",
      "\n",
      "Your shop took £1557853.21 pounds today\n"
     ]
    }
   ],
   "source": [
    "import csv \n",
    "\n",
    "with open(\"Day54Totals.csv\") as file:\n",
    "\n",
    "  reader = csv.DictReader(file)\n",
    "  total = 0\n",
    "  for row in reader:\n",
    "    total+= float(row[\"Cost\"])*float(row[\"Quantity\"])\n",
    "\n",
    "print(\"🌟Shop $$ Tracker🌟\")\n",
    "print()\n",
    "print(f\"Your shop took £{total:.2f} pounds today\")\n"
   ]
  },
  {
   "cell_type": "code",
   "execution_count": null,
   "id": "a33e7f85",
   "metadata": {},
   "outputs": [],
   "source": [
    "\n",
    "    "
   ]
  },
  {
   "cell_type": "code",
   "execution_count": null,
   "id": "13c28e8c",
   "metadata": {},
   "outputs": [],
   "source": []
  },
  {
   "cell_type": "code",
   "execution_count": null,
   "id": "3fe170c4",
   "metadata": {},
   "outputs": [],
   "source": []
  }
 ],
 "metadata": {
  "kernelspec": {
   "display_name": "Python 3 (ipykernel)",
   "language": "python",
   "name": "python3"
  },
  "language_info": {
   "codemirror_mode": {
    "name": "ipython",
    "version": 3
   },
   "file_extension": ".py",
   "mimetype": "text/x-python",
   "name": "python",
   "nbconvert_exporter": "python",
   "pygments_lexer": "ipython3",
   "version": "3.11.5"
  }
 },
 "nbformat": 4,
 "nbformat_minor": 5
}
