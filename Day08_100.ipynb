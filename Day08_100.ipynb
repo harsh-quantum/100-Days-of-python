{
 "cells": [
  {
   "cell_type": "markdown",
   "id": "e8554495",
   "metadata": {},
   "source": [
    "##  Day 8 Challenge\n",
    "\n",
    "###  Affirmations (or insults) Generator"
   ]
  },
  {
   "cell_type": "markdown",
   "id": "a80479bd",
   "metadata": {},
   "source": [
    "Today's focus is using all the skills you have learned so far:\n",
    "\n",
    "input and output\n",
    "concatenation\n",
    "if statements\n",
    "nested if statements\n",
    "Build a custom affirmations generator to give the user a customized affirmation each day of the week.\n",
    "\n",
    "1. Make sure you ask the user for their name, the current day of the week, and a few of their favorite things. All of this information should be used to help you build your affirmations.\n",
    "\n",
    "2. The goal is to generate a unique message for each day of the week based on the user's answers.\n",
    "\n",
    "3. Use concatenation to generate the affirmation.\n",
    "\n",
    "4. If affirmations are not your jam, then you could do a daily joke or insult. Please don't be mean. Keep it light and funny.\n",
    "\n",
    "5. Final challenge: Can you create if statements that do not care about capital or lowercase letters of names.\n",
    "\n"
   ]
  },
  {
   "cell_type": "code",
   "execution_count": 22,
   "id": "50c14b27",
   "metadata": {},
   "outputs": [
    {
     "name": "stdout",
     "output_type": "stream",
     "text": [
      " Welcome! Welcoime ! Welcome!\n",
      "What is your name? efgv\n",
      "What is your day of the week? wrfvcf\n",
      "What is your favorite sport? ewrfwf\n",
      "What is your favorite music? wefe\n",
      "Do you like painting?wefw\n",
      "Please, seems like you are from another world\n"
     ]
    }
   ],
   "source": [
    "print(\" Welcome! Welcoime ! Welcome!\")\n",
    "name = input(\"What is your name? \")\n",
    "day = input(\"What is your day of the week? \")\n",
    "sports = input(\"What is your favorite sport? \")\n",
    "music = input(\"What is your favorite music? \")\n",
    "painting = input(\"Do you like painting?\")\n",
    "\n",
    "if day == 'monday' or day =='Monday':\n",
    "    print(\"Hello\", name, \"You look nice today may be becasue today is \", day)\n",
    "    if painting == \"Yes\":\n",
    "        print(\"Your favorite sport is\", sports, \"and your favorite music is\",music, \"but you like painting too\")\n",
    "    else:\n",
    "        print(\"Your favorite sport is\", sports, \"and your favorite music is\",music, \"but you don't like painting.\")\n",
    "\n",
    "elif day == 'tuesday' or day =='Tuesday':\n",
    "\n",
    "    print(\"Hello\", name,\"!\")\n",
    "    print(\"Honesty is the good policy\")\n",
    "    print(\"Today is my favourite day of the week i.e.\", day)\n",
    "    if painting == \"Yes\":\n",
    "        print(\"Your favorite sport is\", sports, \"and your favorite music is\",music, \"but you like painting too\")\n",
    "    else:\n",
    "        print(\"Your favorite sport is\", sports, \"and your favorite music is\",music, \"but you don't like painting.\")\n",
    "\n",
    "elif day == 'wednesday' or day =='Wednesday':\n",
    "    print(\"Hello\", name,\"!\")\n",
    "    print(\"Be Happy alwasys :)\")\n",
    "    print(\"On\",day,\"people go to church\")\n",
    "    if painting == \"Yes\":\n",
    "        print(\"Your favorite sport is\", sports, \"and your favorite music is\",music, \"but you like painting too\")\n",
    "    else:\n",
    "        print(\"Your favorite sport is\", sports, \"and your favorite music is\",music, \"but you don't like painting.\")\n",
    "\n",
    "elif day == 'thusday' or day =='Thusday':\n",
    "\n",
    "    print(\"Hello\", name,\"!\")\n",
    "    print(\"Time never wait!!\")\n",
    "    print(\"On\",day,\"peole give gift to their dear one\")\n",
    "    print(\" Ohh!! you are single, my bad \")\n",
    "    if painting == \"Yes\":\n",
    "        print(\"Your favorite sport is\", sports, \"and your favorite music is\",music, \"but you like painting too\")\n",
    "    else:\n",
    "        print(\"Your favorite sport is\", sports, \"and your favorite music is\",music, \"but you don't like painting.\")\n",
    "\n",
    "\n",
    "elif day == 'friday' or day =='Friday':\n",
    "\n",
    "    print(\"Hello\", name,\"!\")\n",
    "    print(\"Wait!, today is\", day, \"and you are going to make an impact and change the world!\")\n",
    "    if painting == \"Yes\":\n",
    "        print(\"Your favorite sport is\", sports, \"and your favorite music is\",music, \"but you like painting too\")\n",
    "    else:\n",
    "        print(\"Your favorite sport is\", sports, \"and your favorite music is\",music, \"but you don't like painting.\")\n",
    "\n",
    "elif day == 'saturday' or day =='Saturday':\n",
    "\n",
    "    print(\"Hello\", name,\"!\")\n",
    "    print(\" Rise and Shine\")\n",
    "    print(\"Wait!, today is\", day, \"and you are going to make an impact and change the world!\")\n",
    "    if painting == \"Yes\":\n",
    "        print(\"Your favorite sport is\", sports, \"and your favorite music is\",music, \"but you like painting too\")\n",
    "    else:\n",
    "        print(\"Your favorite sport is\", sports, \"and your favorite music is\",music, \"but you don't like painting.\")\n",
    "\n",
    "elif day == 'sunday' or day =='Sunday':\n",
    "\n",
    "    print(\"Hello\", name,\"!\")\n",
    "    print(\" Rise and Shine\")\n",
    "    print(\"Wait!, today is\", day, \"and you are going to make an impact and change the world!\")\n",
    "    if painting == \"Yes\":\n",
    "        print(\"Your favorite sport is\", sports, \"and your favorite music is\",music, \"but you like painting too\")\n",
    "    else:\n",
    "        print(\"Your favorite sport is\", sports, \"and your favorite music is\",music, \"but you don't like painting.\")\n",
    "\n",
    "else:\n",
    "    print(\"Please, seems like you are from another world\")"
   ]
  },
  {
   "cell_type": "code",
   "execution_count": null,
   "id": "3531aaba",
   "metadata": {},
   "outputs": [],
   "source": [
    "input(\"print\")"
   ]
  }
 ],
 "metadata": {
  "kernelspec": {
   "display_name": "Python 3 (ipykernel)",
   "language": "python",
   "name": "python3"
  },
  "language_info": {
   "codemirror_mode": {
    "name": "ipython",
    "version": 3
   },
   "file_extension": ".py",
   "mimetype": "text/x-python",
   "name": "python",
   "nbconvert_exporter": "python",
   "pygments_lexer": "ipython3",
   "version": "3.11.2"
  }
 },
 "nbformat": 4,
 "nbformat_minor": 5
}
