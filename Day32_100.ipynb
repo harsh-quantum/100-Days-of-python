{
 "cells": [
  {
   "cell_type": "markdown",
   "id": "255be152",
   "metadata": {},
   "source": [
    "##   Day 32 Challenge\n",
    "\n"
   ]
  },
  {
   "cell_type": "markdown",
   "id": "b8089c0c",
   "metadata": {},
   "source": [
    "1. Create a list that stores greetings in different languages. Start with the language you speak.\n",
    "2. Then, go on the internet to find other greetings in other languages. [Here is a list of greetings](https://www.babbel.com/en/magazine/how-to-say-hello-in-10-different-languages)\n",
    "to get you started.\n",
    "3. Import random library. Generate a random number between 0 and maximum number of items in your list.\n",
    "4. At random, when the user clicks run, print one of the greetings.\n",
    "\n",
    "Use an f-string.\n",
    "\n",
    "<!-- ![SNOWFALL](venv/picture_5.png) -->"
   ]
  },
  {
   "cell_type": "code",
   "execution_count": 33,
   "id": "77089d9c",
   "metadata": {},
   "outputs": [
    {
     "name": "stdout",
     "output_type": "stream",
     "text": [
      "Press \u001b[32m ENTER \u001b[0m for the greetings in random language\n",
      "\n",
      "----------------------\n",
      "Hello\n",
      "----------------------\n",
      "Press \u001b[32m ENTER \u001b[0m for the greetings in random language\n",
      "\n",
      "----------------------\n",
      "Hello\n",
      "----------------------\n",
      "Press \u001b[32m ENTER \u001b[0m for the greetings in random language\n",
      "\n",
      "----------------------\n",
      "Bonjour\n",
      "----------------------\n",
      "Press \u001b[32m ENTER \u001b[0m for the greetings in random language\n",
      "\n",
      "----------------------\n",
      "Hello\n",
      "----------------------\n",
      "Press \u001b[32m ENTER \u001b[0m for the greetings in random language\n",
      "\n",
      "----------------------\n",
      "Bonjour\n",
      "----------------------\n",
      "Press \u001b[32m ENTER \u001b[0m for the greetings in random language\n",
      "\n",
      "----------------------\n",
      "Namaste\n",
      "----------------------\n",
      "Press \u001b[32m ENTER \u001b[0m for the greetings in random language\n",
      "\n",
      "----------------------\n",
      "Bonjour\n",
      "----------------------\n",
      "Press \u001b[32m ENTER \u001b[0m for the greetings in random language\n",
      "q\n",
      "********************\n",
      " SEE YOU NEXT TIME  \n",
      "********************\n"
     ]
    }
   ],
   "source": [
    "import random\n",
    "lag_list = [\"Namaste\",\"Hello\",\"Asalaam alaikum\",\"Bonjour\",\"Hola\",\"Salve\"]\n",
    "length = len(lag_list) -1\n",
    "while(True):\n",
    "    generate = random.randint(0,length)\n",
    "    print(\"Press\",\"\\033[32m\",\"ENTER\",\"\\033[0m\",\"for the greetings in random language\")\n",
    "    user = input()\n",
    "    if user != \"\":\n",
    "        print(\"********************\")\n",
    "        print(\" SEE YOU NEXT TIME  \")\n",
    "        print(\"********************\")\n",
    "        break\n",
    "    print(\"----------------------\")    \n",
    "    print(f\"{lag_list[generate]}\") \n",
    "    print(\"----------------------\")"
   ]
  },
  {
   "cell_type": "code",
   "execution_count": null,
   "id": "12c7bd58",
   "metadata": {},
   "outputs": [],
   "source": [
    "\n",
    "\n"
   ]
  },
  {
   "cell_type": "code",
   "execution_count": null,
   "id": "2b4ea2f6",
   "metadata": {},
   "outputs": [],
   "source": []
  },
  {
   "cell_type": "code",
   "execution_count": null,
   "id": "47859e38",
   "metadata": {},
   "outputs": [],
   "source": []
  }
 ],
 "metadata": {
  "kernelspec": {
   "display_name": "Python 3 (ipykernel)",
   "language": "python",
   "name": "python3"
  },
  "language_info": {
   "codemirror_mode": {
    "name": "ipython",
    "version": 3
   },
   "file_extension": ".py",
   "mimetype": "text/x-python",
   "name": "python",
   "nbconvert_exporter": "python",
   "pygments_lexer": "ipython3",
   "version": "3.11.2"
  }
 },
 "nbformat": 4,
 "nbformat_minor": 5
}
