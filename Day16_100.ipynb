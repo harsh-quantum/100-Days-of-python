{
 "cells": [
  {
   "cell_type": "markdown",
   "id": "805761fc",
   "metadata": {},
   "source": [
    "##  Day 16 Challenge\n",
    "\n",
    "### While loop and break\n"
   ]
  },
  {
   "cell_type": "markdown",
   "id": "ccd3dfd5",
   "metadata": {},
   "source": [
    "Create a \"Name the Lyrics\" game. Write your favorite song lyrics with a word or two missing. The user has to figure out the correct song lyric in as few attempts as possible. Find the true lyric master among you!\n",
    "\n",
    "#### Example\n",
    "\n",
    "Fill in the blank lyrics!\n",
    "(Type in the blank lyrics and see if you are as cool as me.)\n",
    "\n",
    "Never going to ______ you up.\n",
    "put\n",
    "Nope, try again.\n",
    "\n",
    "Never going to ______ you up.\n",
    "let\n",
    "Nope, try again.\n",
    "\n",
    "Never going to ______ you up.\n",
    "give\n",
    "\n",
    "Well done! It only took you 3 attempts."
   ]
  },
  {
   "cell_type": "code",
   "execution_count": 7,
   "id": "f534fbbf",
   "metadata": {},
   "outputs": [
    {
     "name": "stdout",
     "output_type": "stream",
     "text": [
      " Lets guess the missing lyrics\n",
      " Country roads, take me ______ to the place I belong: efrg\n",
      " Try again\n",
      "\n",
      " Country roads, take me ______ to the place I belong: ewrgf\n",
      " Try again\n",
      "\n",
      " Country roads, take me ______ to the place I belong: werfwr\n",
      " Try again\n",
      "\n",
      " Country roads, take me ______ to the place I belong: wfrfr\n",
      " Try again\n",
      "\n",
      " Country roads, take me ______ to the place I belong: rth\n",
      "+++++++++++++++++++++++++++++++++++++\n",
      " Seems like you didnt listen the songs\n",
      "+++++++++++++++++++++++++++++++++++++\n",
      " Country roads, take me ______ to the place I belong: erge\n",
      " Try again\n",
      "\n",
      " Country roads, take me ______ to the place I belong: erger\n",
      " Try again\n",
      "\n",
      " Country roads, take me ______ to the place I belong: erger\n",
      " Try again\n",
      "\n",
      " Country roads, take me ______ to the place I belong: ergeg\n",
      " Try again\n",
      "\n",
      " Country roads, take me ______ to the place I belong: errgr\n",
      "*****************************************************\n",
      " Sadly, you absorb all the tries. Thankyou for playing\n",
      "*****************************************************\n"
     ]
    }
   ],
   "source": [
    "print(\" Lets guess the missing lyrics\")\n",
    "counter = 0\n",
    "    \n",
    "while(True):\n",
    "    guess = input(\" Country roads, take me ______ to the place I belong: \")\n",
    "    counter+=1\n",
    "    if guess ==\"home\":\n",
    "        print(\" Well done! It only took you\",counter,\"attempts.\")\n",
    "        print()\n",
    "        break\n",
    "    elif counter  == 5:\n",
    "        print(\"+++++++++++++++++++++++++++++++++++++\")\n",
    "        print(\" Seems like you didnt listen the songs\")\n",
    "        print(\"+++++++++++++++++++++++++++++++++++++\")\n",
    "    elif counter == 10:\n",
    "        print(\"*****************************************************\")\n",
    "        print(\" Sadly, you absorb all the tries. Thankyou for playing\")\n",
    "        print(\"*****************************************************\")\n",
    "        break\n",
    "    else:\n",
    "        print(\" Try again\")\n",
    "        print()"
   ]
  },
  {
   "cell_type": "code",
   "execution_count": null,
   "id": "0b644992",
   "metadata": {},
   "outputs": [],
   "source": []
  }
 ],
 "metadata": {
  "kernelspec": {
   "display_name": "Python 3 (ipykernel)",
   "language": "python",
   "name": "python3"
  },
  "language_info": {
   "codemirror_mode": {
    "name": "ipython",
    "version": 3
   },
   "file_extension": ".py",
   "mimetype": "text/x-python",
   "name": "python",
   "nbconvert_exporter": "python",
   "pygments_lexer": "ipython3",
   "version": "3.11.2"
  }
 },
 "nbformat": 4,
 "nbformat_minor": 5
}
