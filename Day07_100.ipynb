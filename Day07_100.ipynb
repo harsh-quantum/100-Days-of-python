{
 "cells": [
  {
   "cell_type": "markdown",
   "id": "e5747e1d",
   "metadata": {},
   "source": [
    "## Nesting"
   ]
  },
  {
   "cell_type": "markdown",
   "id": "2a68debb",
   "metadata": {},
   "source": [
    "Nesting is where we put an if statement within an if statement using the power of indenting. The second if statement within the first if statement must be indented and its print statement needs to be indented one more time."
   ]
  },
  {
   "cell_type": "markdown",
   "id": "14869017",
   "metadata": {},
   "source": [
    "###  Day 7 Challenge"
   ]
  },
  {
   "cell_type": "markdown",
   "id": "2651b57d",
   "metadata": {},
   "source": [
    "Fake Fan Question Generator\n",
    "\n",
    "Wanna find out if someone else is a true superfan of the same show, movie or interest as you? Create a program that asks what someone is interested in and includes nested if statements to ask annoying follow-up questions to see if someone is the real deal!\n",
    "\n",
    "Make sure you include multiple if/elif statements and nested if statements too!"
   ]
  },
  {
   "cell_type": "code",
   "execution_count": 18,
   "id": "22b5eb16",
   "metadata": {},
   "outputs": [
    {
     "name": "stdout",
     "output_type": "stream",
     "text": [
      "Do you like movie or shows or nothingmovie\n",
      "\n",
      "Awesome. Which one is your favouritespi\n",
      " Ok. Dont you think spiderman is the best one\n"
     ]
    }
   ],
   "source": [
    "ques = input(\"Do you like movie or shows or nothing\")\n",
    "print()\n",
    "\n",
    "if ques == \"movie\":\n",
    "    type_m = input(\"Awesome. Which one is your favourite:  \")\n",
    "    if type_m == \"spiderman\":\n",
    "        char_m = input(\"Tell me your best character in that movie: \")\n",
    "        if char_m == \"Peter\":\n",
    "            print(\" You are a Super fan buddy\")\n",
    "        else:\n",
    "            print(\" No. Peter is awesome\")\n",
    "    else:\n",
    "        print(\" Ok. Dont you think spiderman is the best one.\")\n",
    "    \n",
    "elif ques == \"shows\":\n",
    "    type_s = input(\"Awesome. Which one is your favourite: \")\n",
    "    if type_s == \"suits\":\n",
    "        char_s = input(\"Tell me your best character in that show\")\n",
    "        if char_c == \"Mike\":\n",
    "            print(\" You are a Super fan buddy\")\n",
    "        else:\n",
    "            print(\" No. Mike is awesome\")\n",
    "    else:\n",
    "        print(\" Ok. But Suits is the best one\")\n",
    "        \n",
    "else:\n",
    "    print(\" You are boaring!!.\")"
   ]
  },
  {
   "cell_type": "code",
   "execution_count": null,
   "id": "f4ffe17d",
   "metadata": {},
   "outputs": [],
   "source": []
  }
 ],
 "metadata": {
  "kernelspec": {
   "display_name": "Python 3 (ipykernel)",
   "language": "python",
   "name": "python3"
  },
  "language_info": {
   "codemirror_mode": {
    "name": "ipython",
    "version": 3
   },
   "file_extension": ".py",
   "mimetype": "text/x-python",
   "name": "python",
   "nbconvert_exporter": "python",
   "pygments_lexer": "ipython3",
   "version": "3.11.2"
  }
 },
 "nbformat": 4,
 "nbformat_minor": 5
}
