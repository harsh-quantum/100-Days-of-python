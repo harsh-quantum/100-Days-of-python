{
 "cells": [
  {
   "cell_type": "markdown",
   "id": "60644cda",
   "metadata": {},
   "source": [
    "##  Day 13 Challenge\n",
    "\n",
    "### Grade Generator.\n"
   ]
  },
  {
   "cell_type": "markdown",
   "id": "40330f0b",
   "metadata": {},
   "source": [
    "This project is going to take some time (and some hard thinking) but will be brilliant once you have it working!\n",
    "\n",
    "1. You are going to ask the user to type in the name of a test, maximum score they could receive, and how many points they received. For example, your test could be called \"Python Skills\" and the maximum score is 50 points and the user receives 30 points out of 50 possible points.\n",
    "\n",
    "2. Figure out the percentage the user received and round to 2 decimal places.\n",
    "\n",
    "3. Use if/elif statements to show users the letter grade they received.\n",
    "\n",
    "4. At the end, the user should see the letter grade they received and the percentage correct.\n",
    "\n",
    "5. Add in emojis to celebrate their good grade or different colors depending on what you think is a good or bad final grade.\n",
    "\n",
    "Here is a grading scale to help you decide the letter grade the user received (feel free to use a different grading scale if you like.)\n",
    "\n",
    "      Letter Grade\t     Percentage\n",
    "            A+\t          90-100\n",
    "            A\t          80-89\n",
    "            B\t          70-79\n",
    "            C\t          60-69\n",
    "            D\t          50-59\n",
    "            U\t          under 50"
   ]
  },
  {
   "cell_type": "code",
   "execution_count": null,
   "id": "f8de0d96",
   "metadata": {},
   "outputs": [],
   "source": []
  },
  {
   "cell_type": "code",
   "execution_count": 42,
   "id": "70eca51d",
   "metadata": {},
   "outputs": [
    {
     "name": "stdout",
     "output_type": "stream",
     "text": [
      " Enter you name :  Harsh\n",
      "\n",
      " Maximum marks you will get in python skils ?105\n",
      "\n",
      " Enter your marks :  68\n",
      " Your grdae is : 'C'\n",
      "\u001b[30m Improvement in performance is needed\n"
     ]
    }
   ],
   "source": [
    "name = input(\" Enter you name :  \")\n",
    "print()\n",
    "max_marks = int(input(\" Maximum marks you will get in python skils ?  \"))\n",
    "print()\n",
    "your_marks = int(input(\" Enter your marks :  \"))\n",
    "precentage = round(float(your_marks*100/max_marks),2)\n",
    "\n",
    "if  precentage < 50:\n",
    "    print(\" Your grdae is : 'U'\")\n",
    "    print(\"\\033[31m\",\" You failed your exam\")\n",
    "    \n",
    "elif precentage < 60:\n",
    "    \n",
    "    print(\" Your grdae is : 'D' \")\n",
    "    print(\"\\033[35m\" ,\" You need to work Hard as you just passed the exam \")\n",
    "elif precentage < 70:\n",
    "\n",
    "    print(\" Your grdae is : 'C'\")\n",
    "    print(\"\\033[30m\", \"Improvement in performance is needed\")\n",
    "elif precentage < 80:\n",
    "    print(\" Your grdae is : 'B'\" )\n",
    "    print(\"\\033[36m\",\" Performance is good, just focus on how to resolve some errors in program\")\n",
    "elif percentage < 90:\n",
    "    print(\" Your grdae is : 'A'\" )\n",
    "    print(\"\\033[34m\", \" Good Performance. Only silly mistakes you did, work on that\")\n",
    "elif percentage <=100:    \n",
    "    print(\" Your grdae is : 'A+'\" )\n",
    "    print(\"\\033[32m\",\" Well Done. Excellent performance, keep it up\")\n",
    "else:\n",
    "    print(\"\\033[31m\",\" You type the wrong marks\")"
   ]
  },
  {
   "cell_type": "code",
   "execution_count": null,
   "id": "e3d06c90",
   "metadata": {},
   "outputs": [],
   "source": []
  }
 ],
 "metadata": {
  "kernelspec": {
   "display_name": "Python 3 (ipykernel)",
   "language": "python",
   "name": "python3"
  },
  "language_info": {
   "codemirror_mode": {
    "name": "ipython",
    "version": 3
   },
   "file_extension": ".py",
   "mimetype": "text/x-python",
   "name": "python",
   "nbconvert_exporter": "python",
   "pygments_lexer": "ipython3",
   "version": "3.11.2"
  }
 },
 "nbformat": 4,
 "nbformat_minor": 5
}
