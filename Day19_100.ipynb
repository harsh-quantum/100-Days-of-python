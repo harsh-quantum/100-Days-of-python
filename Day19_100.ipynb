{
 "cells": [
  {
   "cell_type": "markdown",
   "id": "255be152",
   "metadata": {},
   "source": [
    "##   Day 19 Challenge\n",
    "\n",
    "\n"
   ]
  },
  {
   "cell_type": "markdown",
   "id": "b8089c0c",
   "metadata": {},
   "source": [
    "A common thing people do is borrow money. When people repay money, they pay interest which is paid back annually and added to the original amount the person borrowed.\n",
    "\n",
    "You are going to create a loan calculator that shows how much money you owe for a loan of $1,000 with a 5\\% APR (APR is fancy for Annual Percentage Rate) over 10 years.\n",
    "\n",
    "This means each year the amount of money you owe will increase 5\\%.\n",
    "\n",
    "Figure out how much you owe altogether for 10 years?\n",
    "\n",
    "Use a for loop and one or two lines of looped code to determine the answer. (Hint: Don't make this overcomplicated. It should only be a few lines of code altogether.)"
   ]
  },
  {
   "cell_type": "code",
   "execution_count": 7,
   "id": "693c9568",
   "metadata": {},
   "outputs": [
    {
     "name": "stdout",
     "output_type": "stream",
     "text": [
      " Amount of loan after 1  year :  1050.0\n",
      " Amount of loan after 2  year :  1102.5\n",
      " Amount of loan after 3  year :  1157.625\n",
      " Amount of loan after 4  year :  1215.50625\n",
      " Amount of loan after 5  year :  1276.2815624999998\n",
      " Amount of loan after 6  year :  1340.0956406249998\n",
      " Amount of loan after 7  year :  1407.1004226562497\n",
      " Amount of loan after 8  year :  1477.4554437890622\n",
      " Amount of loan after 9  year :  1551.3282159785153\n",
      " Amount of loan after 10  year :  1628.894626777441\n",
      "\n",
      " Total amount after 10 years : 12577.892535548828\n"
     ]
    }
   ],
   "source": [
    "principle = 1000\n",
    "total = 0\n",
    "for year in range(10):\n",
    "    total+=principle\n",
    "    principle = principle + (0.05*principle)\n",
    "    print(\" Amount of loan after\",year+1,\" year : \", principle) \n",
    "print()    \n",
    "print(\" Total amount after 10 years :\", total )    "
   ]
  },
  {
   "cell_type": "code",
   "execution_count": null,
   "id": "3fedca74",
   "metadata": {},
   "outputs": [],
   "source": []
  },
  {
   "cell_type": "code",
   "execution_count": null,
   "id": "1ccb5e0e",
   "metadata": {},
   "outputs": [],
   "source": []
  }
 ],
 "metadata": {
  "kernelspec": {
   "display_name": "Python 3 (ipykernel)",
   "language": "python",
   "name": "python3"
  },
  "language_info": {
   "codemirror_mode": {
    "name": "ipython",
    "version": 3
   },
   "file_extension": ".py",
   "mimetype": "text/x-python",
   "name": "python",
   "nbconvert_exporter": "python",
   "pygments_lexer": "ipython3",
   "version": "3.11.2"
  }
 },
 "nbformat": 4,
 "nbformat_minor": 5
}
