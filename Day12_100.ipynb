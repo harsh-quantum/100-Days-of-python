{
 "cells": [
  {
   "cell_type": "markdown",
   "id": "88a2a241",
   "metadata": {},
   "source": [
    "##  Day 12 Challenge\n",
    "\n",
    "### Debug 🚫🪲 my code.\n"
   ]
  },
  {
   "cell_type": "markdown",
   "id": "678d0013",
   "metadata": {},
   "source": [
    "Now that you have learned so much, your debugging skills are just getting better and better each day. Part of the fun of programming is finding that problem and squashing those bugs.\n",
    "\n",
    "I have given you a few programs and all of them have a significant problem. Your job is to run the program, identify from the error message where the errors are, and fix them. (HINT: Hit run again to see if the code is no longer broken).\n",
    "\n",
    "I'll be honest, some of these programs have multiple errors.\n",
    "\n",
    "Let's get to squashing those bugs!"
   ]
  },
  {
   "cell_type": "markdown",
   "id": "c8d68fc7",
   "metadata": {},
   "source": [
    "## Below is the code \n",
    "\n",
    "    print(\"100 Days of Code QUIZ\")\n",
    "    print()\n",
    "    print(\"How many can you answer correctly?)\n",
    "    ans1 = (\"What language are we writing in?\")\n",
    "    if ans1 == \"python\":\n",
    "      print(\"Correct\")\n",
    "    else:\n",
    "      print(\"Nope🙈\n",
    "    ans2 = input(\"Which lesson number is this?\")\n",
    "    if(ans2>12):\n",
    "    print(\"We're not quite that far yet\")\n",
    "    else:\n",
    "      print(\"We've gone well past that!\")\n",
    "    elif(ans2==12):\n",
    "      print(\"That's right!\")"
   ]
  },
  {
   "cell_type": "code",
   "execution_count": 33,
   "id": "f0fd6e1a",
   "metadata": {},
   "outputs": [
    {
     "name": "stdout",
     "output_type": "stream",
     "text": [
      "100 Days of Code QUIZ\n",
      "\n",
      "How many can you answer correctly?\n",
      "What language are we writing in?python\n",
      "Correct\n",
      "Which lesson number is this?11\n",
      "We've gone well past that!\n"
     ]
    }
   ],
   "source": [
    "print(\"100 Days of Code QUIZ\")\n",
    "print()\n",
    "print(\"How many can you answer correctly?\")\n",
    "ans1 = input(\"What language are we writing in?\")\n",
    "if ans1 == \"python\":\n",
    "    print(\"Correct\")\n",
    "else:\n",
    "    print(\"Nope🙈\")\n",
    "ans2 = int(input(\"Which lesson number is this?\"))\n",
    "\n",
    "if((ans2)>12):\n",
    "    print(\"We're not quite that far yet\")\n",
    "elif((ans2)==12):\n",
    "    print(\"That's right!\")\n",
    "else:\n",
    "    print(\"We've gone well past that!\")\n",
    "    "
   ]
  },
  {
   "cell_type": "code",
   "execution_count": null,
   "id": "5cccebb8",
   "metadata": {},
   "outputs": [],
   "source": []
  }
 ],
 "metadata": {
  "kernelspec": {
   "display_name": "Python 3 (ipykernel)",
   "language": "python",
   "name": "python3"
  },
  "language_info": {
   "codemirror_mode": {
    "name": "ipython",
    "version": 3
   },
   "file_extension": ".py",
   "mimetype": "text/x-python",
   "name": "python",
   "nbconvert_exporter": "python",
   "pygments_lexer": "ipython3",
   "version": "3.11.2"
  }
 },
 "nbformat": 4,
 "nbformat_minor": 5
}
