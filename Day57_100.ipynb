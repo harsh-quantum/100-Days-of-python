{
 "cells": [
  {
   "cell_type": "markdown",
   "id": "255be152",
   "metadata": {},
   "source": [
    "##   Day 57 Challenge\n",
    "\n",
    "#### Recursion"
   ]
  },
  {
   "cell_type": "markdown",
   "id": "b8089c0c",
   "metadata": {},
   "source": [
    "Try to use recursion to build a factorial program.\n",
    "\n",
    "Yep, it's a math challenge. Recursion is often good for this type of problem.\n",
    "\n",
    "It could be a real head scratcher, so don't be afraid to use 100 Days of Code Community or the Discord channel for help.\n",
    "\n",
    "A factorial is the product of all the numbers up to a value, starting from 1.\n",
    "\n",
    "For example, factorial 5 would be 1 * 2 * 3 * 4 * 5 = 120\n",
    "\n",
    "    Write a function that:\n",
    "        Starts at the highest number.\n",
    "        Multiplies that by factorial of itself minus one\n",
    "        Terminates when it reaches 1 and returns 1\n",
    "        Outputs the factorial.\n",
    "\n",
    "<!-- \n",
    "![image.png](venv/picture_10.png) -->"
   ]
  },
  {
   "cell_type": "code",
   "execution_count": 274,
   "id": "bcaf7328",
   "metadata": {},
   "outputs": [
    {
     "name": "stdout",
     "output_type": "stream",
     "text": [
      "🌟Factorial Finder🌟\n",
      "Input a number > 3\n",
      "6\n"
     ]
    }
   ],
   "source": [
    "def factorial(n):\n",
    "\n",
    "  if n == 0:\n",
    "    return 1\n",
    "  else:\n",
    "    return n * factorial(n - 1)\n",
    "\n",
    "\n",
    "print(\"🌟Factorial Finder🌟\")\n",
    "fact = int(input(\"Input a number > \"))\n",
    "print(factorial(fact))\n"
   ]
  },
  {
   "cell_type": "code",
   "execution_count": null,
   "id": "33f16735",
   "metadata": {},
   "outputs": [],
   "source": []
  },
  {
   "cell_type": "code",
   "execution_count": null,
   "id": "f164470d",
   "metadata": {},
   "outputs": [],
   "source": []
  },
  {
   "cell_type": "code",
   "execution_count": null,
   "id": "a33f393e",
   "metadata": {},
   "outputs": [],
   "source": []
  }
 ],
 "metadata": {
  "kernelspec": {
   "display_name": "Python 3 (ipykernel)",
   "language": "python",
   "name": "python3"
  },
  "language_info": {
   "codemirror_mode": {
    "name": "ipython",
    "version": 3
   },
   "file_extension": ".py",
   "mimetype": "text/x-python",
   "name": "python",
   "nbconvert_exporter": "python",
   "pygments_lexer": "ipython3",
   "version": "3.11.5"
  }
 },
 "nbformat": 4,
 "nbformat_minor": 5
}
