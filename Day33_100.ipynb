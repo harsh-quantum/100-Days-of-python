{
 "cells": [
  {
   "cell_type": "markdown",
   "id": "255be152",
   "metadata": {},
   "source": [
    "##   Day 33 Challenge\n",
    "\n"
   ]
  },
  {
   "cell_type": "markdown",
   "id": "b8089c0c",
   "metadata": {},
   "source": [
    "Create your own to do list manager. (This can be super useful!)\n",
    "\n",
    "1. Ask the user whether they want to view, add, or edit their to do list.\n",
    "2. If they want to view it, print it out in a nice way (Hint: subroutine).\n",
    "3. If they choose to add an item to the to do list, allow them to type in the item and then add it to the bottom of the list.\n",
    "4. If they want to edit the to do list, ask them which item they completed, and remove it from the list.\n",
    "5. Don't worry about duplicates!\n",
    "6. The first item you put in the list should be the first item you remove.\n",
    "7. Add a title, some color, alignment to the text, or emojis. Show off your skills!\n",
    "\n",
    "\n",
    "\n",
    "![SNOWFALL](venv/picture_.png)"
   ]
  },
  {
   "cell_type": "code",
   "execution_count": 2,
   "id": "77089d9c",
   "metadata": {},
   "outputs": [
    {
     "name": "stdout",
     "output_type": "stream",
     "text": [
      "      \u001b[1;32m LIST MANAGER \u001b[0m\n",
      "\n",
      "\n",
      " Below are the following options: \n",
      "\n",
      "\u001b[1;33m Add \n",
      "\t \u001b[1;34m View \n",
      "\t\t \u001b[1;35m Remove \n",
      "\t\t\t \u001b[1;36m Edit \n",
      "\t\t\t\t \u001b[1;40m Exit \u001b[1;40m\n",
      "\n",
      " ENTER your choice: Add\n",
      "\u001b[1;0m\n",
      "\n"
     ]
    },
    {
     "ename": "KeyboardInterrupt",
     "evalue": "Interrupted by user",
     "output_type": "error",
     "traceback": [
      "\u001b[1;31m---------------------------------------------------------------------------\u001b[0m",
      "\u001b[1;31mKeyboardInterrupt\u001b[0m                         Traceback (most recent call last)",
      "Cell \u001b[1;32mIn[2], line 23\u001b[0m\n\u001b[0;32m     20\u001b[0m \u001b[38;5;28mprint\u001b[39m()\n\u001b[0;32m     21\u001b[0m \u001b[38;5;28;01mif\u001b[39;00m choice \u001b[38;5;241m==\u001b[39m \u001b[38;5;124m\"\u001b[39m\u001b[38;5;124mAdd\u001b[39m\u001b[38;5;124m\"\u001b[39m:\n\u001b[1;32m---> 23\u001b[0m   item \u001b[38;5;241m=\u001b[39m \u001b[38;5;28;43minput\u001b[39;49m\u001b[43m(\u001b[49m\u001b[38;5;124;43m\"\u001b[39;49m\u001b[38;5;124;43m Tell me your item: \u001b[39;49m\u001b[38;5;124;43m\"\u001b[39;49m\u001b[43m)\u001b[49m\n\u001b[0;32m     24\u001b[0m   list_harsh\u001b[38;5;241m.\u001b[39mappend(item)\n\u001b[0;32m     26\u001b[0m \u001b[38;5;28;01melif\u001b[39;00m choice \u001b[38;5;241m==\u001b[39m \u001b[38;5;124m\"\u001b[39m\u001b[38;5;124mView\u001b[39m\u001b[38;5;124m\"\u001b[39m:\n",
      "File \u001b[1;32m~\\AppData\\Local\\Programs\\Python\\Python311\\Lib\\site-packages\\ipykernel\\kernelbase.py:1191\u001b[0m, in \u001b[0;36mKernel.raw_input\u001b[1;34m(self, prompt)\u001b[0m\n\u001b[0;32m   1189\u001b[0m     msg \u001b[38;5;241m=\u001b[39m \u001b[38;5;124m\"\u001b[39m\u001b[38;5;124mraw_input was called, but this frontend does not support input requests.\u001b[39m\u001b[38;5;124m\"\u001b[39m\n\u001b[0;32m   1190\u001b[0m     \u001b[38;5;28;01mraise\u001b[39;00m StdinNotImplementedError(msg)\n\u001b[1;32m-> 1191\u001b[0m \u001b[38;5;28;01mreturn\u001b[39;00m \u001b[38;5;28;43mself\u001b[39;49m\u001b[38;5;241;43m.\u001b[39;49m\u001b[43m_input_request\u001b[49m\u001b[43m(\u001b[49m\n\u001b[0;32m   1192\u001b[0m \u001b[43m    \u001b[49m\u001b[38;5;28;43mstr\u001b[39;49m\u001b[43m(\u001b[49m\u001b[43mprompt\u001b[49m\u001b[43m)\u001b[49m\u001b[43m,\u001b[49m\n\u001b[0;32m   1193\u001b[0m \u001b[43m    \u001b[49m\u001b[38;5;28;43mself\u001b[39;49m\u001b[38;5;241;43m.\u001b[39;49m\u001b[43m_parent_ident\u001b[49m\u001b[43m[\u001b[49m\u001b[38;5;124;43m\"\u001b[39;49m\u001b[38;5;124;43mshell\u001b[39;49m\u001b[38;5;124;43m\"\u001b[39;49m\u001b[43m]\u001b[49m\u001b[43m,\u001b[49m\n\u001b[0;32m   1194\u001b[0m \u001b[43m    \u001b[49m\u001b[38;5;28;43mself\u001b[39;49m\u001b[38;5;241;43m.\u001b[39;49m\u001b[43mget_parent\u001b[49m\u001b[43m(\u001b[49m\u001b[38;5;124;43m\"\u001b[39;49m\u001b[38;5;124;43mshell\u001b[39;49m\u001b[38;5;124;43m\"\u001b[39;49m\u001b[43m)\u001b[49m\u001b[43m,\u001b[49m\n\u001b[0;32m   1195\u001b[0m \u001b[43m    \u001b[49m\u001b[43mpassword\u001b[49m\u001b[38;5;241;43m=\u001b[39;49m\u001b[38;5;28;43;01mFalse\u001b[39;49;00m\u001b[43m,\u001b[49m\n\u001b[0;32m   1196\u001b[0m \u001b[43m\u001b[49m\u001b[43m)\u001b[49m\n",
      "File \u001b[1;32m~\\AppData\\Local\\Programs\\Python\\Python311\\Lib\\site-packages\\ipykernel\\kernelbase.py:1234\u001b[0m, in \u001b[0;36mKernel._input_request\u001b[1;34m(self, prompt, ident, parent, password)\u001b[0m\n\u001b[0;32m   1231\u001b[0m \u001b[38;5;28;01mexcept\u001b[39;00m \u001b[38;5;167;01mKeyboardInterrupt\u001b[39;00m:\n\u001b[0;32m   1232\u001b[0m     \u001b[38;5;66;03m# re-raise KeyboardInterrupt, to truncate traceback\u001b[39;00m\n\u001b[0;32m   1233\u001b[0m     msg \u001b[38;5;241m=\u001b[39m \u001b[38;5;124m\"\u001b[39m\u001b[38;5;124mInterrupted by user\u001b[39m\u001b[38;5;124m\"\u001b[39m\n\u001b[1;32m-> 1234\u001b[0m     \u001b[38;5;28;01mraise\u001b[39;00m \u001b[38;5;167;01mKeyboardInterrupt\u001b[39;00m(msg) \u001b[38;5;28;01mfrom\u001b[39;00m \u001b[38;5;28mNone\u001b[39m\n\u001b[0;32m   1235\u001b[0m \u001b[38;5;28;01mexcept\u001b[39;00m \u001b[38;5;167;01mException\u001b[39;00m:\n\u001b[0;32m   1236\u001b[0m     \u001b[38;5;28mself\u001b[39m\u001b[38;5;241m.\u001b[39mlog\u001b[38;5;241m.\u001b[39mwarning(\u001b[38;5;124m\"\u001b[39m\u001b[38;5;124mInvalid Message:\u001b[39m\u001b[38;5;124m\"\u001b[39m, exc_info\u001b[38;5;241m=\u001b[39m\u001b[38;5;28;01mTrue\u001b[39;00m)\n",
      "\u001b[1;31mKeyboardInterrupt\u001b[0m: Interrupted by user"
     ]
    }
   ],
   "source": [
    "import os, time\n",
    "list_harsh =[]\n",
    "s =\"\"\n",
    "def list_print():\n",
    "    print()\n",
    "    for i in list_harsh:\n",
    "        print(i)\n",
    "    print()  \n",
    "  \n",
    "while(True):\n",
    "  print(f\"{s: >5}\",\"\\033[1;32m\",\"LIST MANAGER\",\"\\033[0m\")\n",
    "  print()\n",
    "  print()\n",
    "  print(\" Below are the following options: \")\n",
    "  print()\n",
    "  print(\"\\033[1;33m\", \"Add \\n\\t\",\"\\033[1;34m\", \"View \\n\\t\\t\",\"\\033[1;35m\",\"Remove \\n\\t\\t\\t\",\"\\033[1;36m\",\"Edit \\n\\t\\t\\t\\t\",\"\\033[1;40m\",\"Exit\",\"\\033[1;40m\")\n",
    "  print()\n",
    "  choice = input(\" ENTER your choice: \")\n",
    "  print(\"\\033[1;0m\")\n",
    "  print()\n",
    "  if choice == \"Add\":\n",
    "   \n",
    "    item = input(\" Tell me your item: \")\n",
    "    list_harsh.append(item)\n",
    "    \n",
    "  elif choice == \"View\":\n",
    "    print(\" Here is the items of your list: \")\n",
    "    list_print()\n",
    "  \n",
    "  elif choice == \"Remove\":\n",
    "      item = input(\" Tell me your item which you want to remove: \")\n",
    "      if item in list_harsh:\n",
    "        list_harsh.remove(item)\n",
    "      else:\n",
    "        print(\" This item is not in your list: \")\n",
    "        \n",
    "  elif choice == \"Edit\":\n",
    "    item = input(\"Tell me your item which you want to edit: \")\n",
    "    print()\n",
    "    if item in list_harsh:\n",
    "      print(item, \" is removed form in your list\")\n",
    "      print()\n",
    "      list_harsh.remove(item)\n",
    "      item = input(\" Tell me your item: \")\n",
    "      print(item, \"added in your list\")\n",
    "      list_harsh.append(item)\n",
    "    else:\n",
    "      print(\" This item is not in your list: \")\n",
    "  elif choice == \"Exit\":\n",
    "    break\n",
    "  else:\n",
    "    print(\"Invalid choice\")\n",
    "  print()\n",
    "  time.sleep(1)\n",
    "  os.system(\"clear\")"
   ]
  },
  {
   "cell_type": "code",
   "execution_count": null,
   "id": "12c7bd58",
   "metadata": {},
   "outputs": [],
   "source": [
    "\n",
    "\n"
   ]
  },
  {
   "cell_type": "code",
   "execution_count": null,
   "id": "2b4ea2f6",
   "metadata": {},
   "outputs": [],
   "source": []
  },
  {
   "cell_type": "code",
   "execution_count": null,
   "id": "47859e38",
   "metadata": {},
   "outputs": [],
   "source": []
  }
 ],
 "metadata": {
  "kernelspec": {
   "display_name": "Python 3 (ipykernel)",
   "language": "python",
   "name": "python3"
  },
  "language_info": {
   "codemirror_mode": {
    "name": "ipython",
    "version": 3
   },
   "file_extension": ".py",
   "mimetype": "text/x-python",
   "name": "python",
   "nbconvert_exporter": "python",
   "pygments_lexer": "ipython3",
   "version": "3.11.2"
  }
 },
 "nbformat": 4,
 "nbformat_minor": 5
}
