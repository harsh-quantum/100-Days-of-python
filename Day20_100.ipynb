{
 "cells": [
  {
   "cell_type": "markdown",
   "id": "255be152",
   "metadata": {},
   "source": [
    "##   Day 20 Challenge\n",
    "\n",
    "\n",
    "### List Generator\n"
   ]
  },
  {
   "cell_type": "markdown",
   "id": "b8089c0c",
   "metadata": {},
   "source": [
    "Ask the user to list a starting number, ending number, and increment to use. Display an answer based on the users' answers (use the input command.)"
   ]
  },
  {
   "cell_type": "code",
   "execution_count": 2,
   "id": "693c9568",
   "metadata": {},
   "outputs": [
    {
     "name": "stdout",
     "output_type": "stream",
     "text": [
      "++++++++++++ Hello User, lets generate the list of numbers+++++++++++++++\n",
      "\n",
      " Enter the initial number : 34\n",
      "\n",
      " Enter the ending number : 10\n",
      "\n",
      "Enter at what difference you want to increment the number: -1\n",
      "34\n",
      "33\n",
      "32\n",
      "31\n",
      "30\n",
      "29\n",
      "28\n",
      "27\n",
      "26\n",
      "25\n",
      "24\n",
      "23\n",
      "22\n",
      "21\n",
      "20\n",
      "19\n",
      "18\n",
      "17\n",
      "16\n",
      "15\n",
      "14\n",
      "13\n",
      "12\n",
      "11\n"
     ]
    }
   ],
   "source": [
    "print(\"++++++++++++ Hello User, lets generate the list of numbers+++++++++++++++\")\n",
    "print()\n",
    "ini = int(input(\" Enter the initial number : \"))\n",
    "print()\n",
    "fin = int(input(\" Enter the ending number : \"))\n",
    "print()\n",
    "inc = int(input(\"Enter at what difference you want to increment the number: \"))\n",
    "if ini > fin and inc > 0 :\n",
    "    print(\" Not Possible \")\n",
    "elif ini > fin and inc < 0 :\n",
    "    for i in range(ini,fin,inc):\n",
    "        print(i)\n",
    "elif ini < fin and inc < 0:\n",
    "    print(\" Not Possible \")\n",
    "else:\n",
    "    for i in range(ini,fin,inc):\n",
    "        print(i)"
   ]
  },
  {
   "cell_type": "code",
   "execution_count": null,
   "id": "3fedca74",
   "metadata": {},
   "outputs": [],
   "source": []
  },
  {
   "cell_type": "code",
   "execution_count": null,
   "id": "1ccb5e0e",
   "metadata": {},
   "outputs": [],
   "source": []
  }
 ],
 "metadata": {
  "kernelspec": {
   "display_name": "Python 3 (ipykernel)",
   "language": "python",
   "name": "python3"
  },
  "language_info": {
   "codemirror_mode": {
    "name": "ipython",
    "version": 3
   },
   "file_extension": ".py",
   "mimetype": "text/x-python",
   "name": "python",
   "nbconvert_exporter": "python",
   "pygments_lexer": "ipython3",
   "version": "3.11.2"
  }
 },
 "nbformat": 4,
 "nbformat_minor": 5
}
