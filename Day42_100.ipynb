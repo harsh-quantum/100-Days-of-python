{
 "cells": [
  {
   "cell_type": "markdown",
   "id": "255be152",
   "metadata": {},
   "source": [
    "##   Day 42 Challenge\n",
    "\n",
    "#### "
   ]
  },
  {
   "cell_type": "markdown",
   "id": "b8089c0c",
   "metadata": {},
   "source": [
    "\n",
    "\n",
    "\"Some trainers have no fear. To them, this is just one more challenge\".\n",
    "\n",
    "1. Create a dictionary to store the details of your, ahem, MokéBeast.\n",
    "2. Ask the user to input the following details: name, type (earth, fire, air, water or spirit), special move, starting HP and starting MP. For now we're just taking in one set of values for one beast.\n",
    "3. Output the beast's details.\n",
    "\n",
    "<!-- \n",
    "![image.png](venv/picture_10.png) -->"
   ]
  },
  {
   "cell_type": "code",
   "execution_count": 47,
   "id": "77089d9c",
   "metadata": {},
   "outputs": [
    {
     "name": "stdout",
     "output_type": "stream",
     "text": [
      "\u001b[31;32m harsh\n"
     ]
    }
   ],
   "source": [
    "def color_btype(move):\n",
    "\n",
    "    if move.lower() == \"earth\":\n",
    "        return \"\\033[32m\"\n",
    "    elif move.lower() == \"fire\":\n",
    "        return \"\\033[31m\"\n",
    "    elif move.lower() == \"air\":\n",
    "        return \"\\033[33m\"\n",
    "    elif move.lower() == \"water\":\n",
    "        return \"\\033[34m\"\n",
    "    elif move.lower() == \"spirit\":\n",
    "        return \"\\033[35m\"\n",
    "    else:\n",
    "        return \"\\033[01m\"\n",
    "\n",
    "mydict = {}\n",
    "mydict['name'] = input(\"Enter your beast's name: \")\n",
    "mydict['btype'] = input(\"Enter your beast's type(earth, fire, air, water or spirit): \")\n",
    "mydict['move'] = input(\"Input your beast's special move: \")\n",
    "mydict['hp'] = input(\"Input your beast's starting HP: \")\n",
    "mydict['mp'] = input(\"Input your beast's starting MP: \")\n",
    "\n",
    "col = color_btype(mydict['btype'])\n",
    "print(col,\"Your beast is called\",mydict['name'],\". It is an\",mydict['btype'],\"beast with a special move of\",mydict['move'],\"those have HP and MP of\",mydict['hp'],\"and\",mydict['mp'],\"respectively.\" )"
   ]
  }
 ],
 "metadata": {
  "kernelspec": {
   "display_name": "Python 3 (ipykernel)",
   "language": "python",
   "name": "python3"
  },
  "language_info": {
   "codemirror_mode": {
    "name": "ipython",
    "version": 3
   },
   "file_extension": ".py",
   "mimetype": "text/x-python",
   "name": "python",
   "nbconvert_exporter": "python",
   "pygments_lexer": "ipython3",
   "version": "3.11.5"
  }
 },
 "nbformat": 4,
 "nbformat_minor": 5
}
