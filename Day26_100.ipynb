{
 "cells": [
  {
   "cell_type": "markdown",
   "id": "255be152",
   "metadata": {},
   "source": [
    "##   Day 26 Challenge\n",
    "\n"
   ]
  },
  {
   "cell_type": "markdown",
   "id": "b8089c0c",
   "metadata": {},
   "source": [
    "Play a song from this repl and build a menu to go with it. Make it look like an iPod!\n",
    "\n",
    "1. Use a while true loop to create a title for a music player.\n",
    "2. Allow the user to select to play a song and use subroutine called 'play' when they select the song.\n",
    "3. Give the user the option to exit the program.\n",
    "4. The title should pop up and pause along with the menu options.\n",
    "5. If the user chooses anything else, start again by clearing the screen.\n",
    "\n",
    "Use this code to get started:\n",
    "\n",
    "![SNOWFALL](pic_3.png)"
   ]
  },
  {
   "cell_type": "code",
   "execution_count": 1,
   "id": "77089d9c",
   "metadata": {},
   "outputs": [
    {
     "name": "stdout",
     "output_type": "stream",
     "text": [
      "pygame 2.5.0 (SDL 2.28.0, Python 3.11.2)\n",
      "Hello from the pygame community. https://www.pygame.org/contribute.html\n",
      " 🎵 MyPOD Music Player \n",
      "\n",
      "  Press 1 to Play \n",
      "  Press 2 to Exit \n",
      "\n",
      "  Press anything else to see the menu again.\n",
      "\n",
      " Enter your input:  1\n",
      "  Press 1 to pause the playback: \n",
      "  Press 2 to resume the playback: \n",
      "\n",
      " Press anything else to  to Exit : \n",
      "\n",
      " Enter your response :  2\n",
      "  Press 1 to pause the playback: \n",
      "  Press 2 to resume the playback: \n",
      "\n",
      " Press anything else to  to Exit : \n",
      "\n",
      " Enter your response :  1\n",
      "  Press 1 to pause the playback: \n",
      "  Press 2 to resume the playback: \n",
      "\n",
      " Press anything else to  to Exit : \n",
      "\n",
      " Enter your response :  2\n",
      "  Press 1 to pause the playback: \n",
      "  Press 2 to resume the playback: \n",
      "\n",
      " Press anything else to  to Exit : \n",
      "\n",
      " Enter your response :  dfv\n",
      " 🎵 MyPOD Music Player \n",
      "\n",
      "  Press 1 to Play \n",
      "  Press 2 to Exit \n",
      "\n",
      "  Press anything else to see the menu again.\n",
      "\n",
      " Enter your input:  2\n"
     ]
    }
   ],
   "source": [
    "import pygame \n",
    "import os, time\n",
    "\n",
    "\n",
    "\n",
    "# Play the sound\n",
    "\n",
    "pygame.mixer.init() \n",
    "sound_file =\"F:\\\\Acad work\\\\100_days_of_python\\\\audio.wav\" \n",
    "sound = pygame.mixer.Sound(sound_file)  \n",
    "\n",
    "def play():\n",
    "#     pygame.mixer.init() \n",
    "#     sound_file =\"F:\\\\Acad work\\\\100_days_of_python\\\\audio.wav\" \n",
    "#     sound = pygame.mixer.Sound(sound_file) \n",
    "    sound.play()\n",
    "#     source.paused = False # unpause the playback\n",
    "    while True:\n",
    "    # Start taking user input and doing something with it\n",
    "        os.system(\"clear\")\n",
    "        print(\"  Press 1 to pause the playback: \")\n",
    "        print(\"  Press 2 to resume the playback: \")\n",
    "        print()\n",
    "        print(\" Press anything else to  to Exit : \")\n",
    "        print()\n",
    "        pla = input(\" Enter your response :  \")\n",
    "        if pla == '1':\n",
    "            sound.stop()\n",
    "#             source.paused = True\n",
    "            continue \n",
    "        elif pla == '2':\n",
    "            sound.play()\n",
    "        else:\n",
    "            break\n",
    "\n",
    "\n",
    "while True:\n",
    "  # clear the screen \n",
    "    \n",
    "    os.system(\"clear\")\n",
    "  # Show the menu\n",
    "    print(\" 🎵 MyPOD Music Player \")\n",
    "    print()\n",
    "    print(\"  Press 1 to Play \")\n",
    "    print(\"  Press 2 to Exit \")\n",
    "    print()   \n",
    "    print(\"  Press anything else to see the menu again.\")\n",
    "    print()\n",
    "    a = input(\" Enter your input:  \")\n",
    "  # take user's input\n",
    "    if a == '1':\n",
    "        play()\n",
    "    elif a == '2':\n",
    "        sound.stop()\n",
    "        break\n",
    "    else:\n",
    "        continue\n",
    "  # check whether y"
   ]
  },
  {
   "cell_type": "code",
   "execution_count": 8,
   "id": "fc870349",
   "metadata": {},
   "outputs": [],
   "source": []
  },
  {
   "cell_type": "code",
   "execution_count": 4,
   "id": "b1f255de",
   "metadata": {},
   "outputs": [],
   "source": [
    "sound.stop()"
   ]
  },
  {
   "cell_type": "code",
   "execution_count": null,
   "id": "00265586",
   "metadata": {},
   "outputs": [],
   "source": []
  }
 ],
 "metadata": {
  "kernelspec": {
   "display_name": "Python 3 (ipykernel)",
   "language": "python",
   "name": "python3"
  },
  "language_info": {
   "codemirror_mode": {
    "name": "ipython",
    "version": 3
   },
   "file_extension": ".py",
   "mimetype": "text/x-python",
   "name": "python",
   "nbconvert_exporter": "python",
   "pygments_lexer": "ipython3",
   "version": "3.11.2"
  }
 },
 "nbformat": 4,
 "nbformat_minor": 5
}
