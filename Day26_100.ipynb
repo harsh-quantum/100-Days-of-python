{
 "cells": [
  {
   "cell_type": "markdown",
   "id": "255be152",
   "metadata": {},
   "source": [
    "##   Day 26 Challenge\n",
    "\n"
   ]
  },
  {
   "cell_type": "markdown",
   "id": "b8089c0c",
   "metadata": {},
   "source": [
    " Play a song from this repl and build a menu to go with it. Make it look like an iPod!\n",
    "\n",
    "1. Use a while true loop to create a title for a music player.\n",
    "2. Allow the user to select to play a song and use subroutine called 'play' when they select the song.\n",
    "3. Give the user the option to exit the program.\n",
    "4. The title should pop up and pause along with the menu options.\n",
    "5. If the user chooses anything else, start again by clearing the screen.\n",
    "\n",
    "Use this code to get started:\n",
    "\n",
    "![SNOWFALL](pic_3.png) "
   ]
  },
  {
   "cell_type": "code",
   "execution_count": 1,
   "id": "77089d9c",
   "metadata": {},
   "outputs": [
    {
     "name": "stdout",
     "output_type": "stream",
     "text": [
      "Warning: error initializing database. Replit DB is not configured.\n",
      " 🎵 MyPOD Music Player \n",
      "\n",
      "  Press 1 to Play \n",
      "  Press 2 to Exit \n",
      "\n",
      "Press anything else to see the menu again.\n",
      "\n",
      " Enter your input:  1\n"
     ]
    },
    {
     "ename": "FileNotFoundError",
     "evalue": "[Errno 2] No such file or directory: '/tmp/audio'",
     "output_type": "error",
     "traceback": [
      "\u001b[1;31m---------------------------------------------------------------------------\u001b[0m",
      "\u001b[1;31mFileNotFoundError\u001b[0m                         Traceback (most recent call last)",
      "Cell \u001b[1;32mIn[1], line 40\u001b[0m\n\u001b[0;32m     38\u001b[0m \u001b[38;5;66;03m# take user's input\u001b[39;00m\n\u001b[0;32m     39\u001b[0m   \u001b[38;5;28;01mif\u001b[39;00m a \u001b[38;5;241m==\u001b[39m \u001b[38;5;124m'\u001b[39m\u001b[38;5;124m1\u001b[39m\u001b[38;5;124m'\u001b[39m:\n\u001b[1;32m---> 40\u001b[0m       \u001b[43mplay\u001b[49m\u001b[43m(\u001b[49m\u001b[43m)\u001b[49m\n\u001b[0;32m     41\u001b[0m   \u001b[38;5;28;01melif\u001b[39;00m a \u001b[38;5;241m==\u001b[39m \u001b[38;5;124m'\u001b[39m\u001b[38;5;124m2\u001b[39m\u001b[38;5;124m'\u001b[39m:\n\u001b[0;32m     42\u001b[0m       \u001b[38;5;28;01mbreak\u001b[39;00m\n",
      "Cell \u001b[1;32mIn[1], line 5\u001b[0m, in \u001b[0;36mplay\u001b[1;34m()\u001b[0m\n\u001b[0;32m      4\u001b[0m \u001b[38;5;28;01mdef\u001b[39;00m \u001b[38;5;21mplay\u001b[39m():\n\u001b[1;32m----> 5\u001b[0m     source \u001b[38;5;241m=\u001b[39m \u001b[43maudio\u001b[49m\u001b[38;5;241;43m.\u001b[39;49m\u001b[43mplay_file\u001b[49m\u001b[43m(\u001b[49m\u001b[38;5;124;43m'\u001b[39;49m\u001b[38;5;124;43maudio.wav\u001b[39;49m\u001b[38;5;124;43m'\u001b[39;49m\u001b[43m)\u001b[49m\n\u001b[0;32m      6\u001b[0m     source\u001b[38;5;241m.\u001b[39mpaused \u001b[38;5;241m=\u001b[39m \u001b[38;5;28;01mFalse\u001b[39;00m \u001b[38;5;66;03m# unpause the playback\u001b[39;00m\n\u001b[0;32m      7\u001b[0m     \u001b[38;5;28;01mwhile\u001b[39;00m \u001b[38;5;28;01mTrue\u001b[39;00m:\n\u001b[0;32m      8\u001b[0m     \u001b[38;5;66;03m# Start taking user input and doing something with it\u001b[39;00m\n",
      "File \u001b[1;32m~\\AppData\\Local\\Programs\\Python\\Python311\\Lib\\site-packages\\replit\\audio\\__init__.py:291\u001b[0m, in \u001b[0;36mAudio.play_file\u001b[1;34m(self, file_path, volume, does_loop, loop_count, name)\u001b[0m\n\u001b[0;32m    280\u001b[0m     \u001b[38;5;28;01mraise\u001b[39;00m InvalidFileType(\u001b[38;5;124mf\u001b[39m\u001b[38;5;124m\"\u001b[39m\u001b[38;5;124mType \u001b[39m\u001b[38;5;132;01m{\u001b[39;00mfile_type\u001b[38;5;132;01m}\u001b[39;00m\u001b[38;5;124m is not supported.\u001b[39m\u001b[38;5;124m\"\u001b[39m)\n\u001b[0;32m    282\u001b[0m data \u001b[38;5;241m=\u001b[39m RequestData(\n\u001b[0;32m    283\u001b[0m     Type\u001b[38;5;241m=\u001b[39mfile_type,\n\u001b[0;32m    284\u001b[0m     Volume\u001b[38;5;241m=\u001b[39mvolume,\n\u001b[1;32m   (...)\u001b[0m\n\u001b[0;32m    288\u001b[0m     Args\u001b[38;5;241m=\u001b[39mRequestArgs(Path\u001b[38;5;241m=\u001b[39mfile_path),\n\u001b[0;32m    289\u001b[0m )\n\u001b[1;32m--> 291\u001b[0m \u001b[38;5;28;01mwith\u001b[39;00m \u001b[38;5;28;43mopen\u001b[39;49m\u001b[43m(\u001b[49m\u001b[38;5;124;43m\"\u001b[39;49m\u001b[38;5;124;43m/tmp/audio\u001b[39;49m\u001b[38;5;124;43m\"\u001b[39;49m\u001b[43m,\u001b[49m\u001b[43m \u001b[49m\u001b[38;5;124;43m\"\u001b[39;49m\u001b[38;5;124;43mw\u001b[39;49m\u001b[38;5;124;43m\"\u001b[39;49m\u001b[43m)\u001b[49m \u001b[38;5;28;01mas\u001b[39;00m p:\n\u001b[0;32m    292\u001b[0m     p\u001b[38;5;241m.\u001b[39mwrite(json\u001b[38;5;241m.\u001b[39mdumps(\u001b[38;5;28mdict\u001b[39m(data)))\n\u001b[0;32m    294\u001b[0m \u001b[38;5;28;01mreturn\u001b[39;00m \u001b[38;5;28mself\u001b[39m\u001b[38;5;241m.\u001b[39m__get_new_source(name, does_loop)\n",
      "\u001b[1;31mFileNotFoundError\u001b[0m: [Errno 2] No such file or directory: '/tmp/audio'"
     ]
    }
   ],
   "source": [
    "from replit import audio\n",
    "import os, time\n",
    "\n",
    "def play():\n",
    "    source = audio.play_file('audio.wav')\n",
    "    source.paused = False # unpause the playback\n",
    "    while True:\n",
    "    # Start taking user input and doing something with it\n",
    "        os.system(\"clear\")\n",
    "        print(\"  Press 1 to pause the playback: \")\n",
    "        print(\"  Press 2 to resume the playback: \")\n",
    "        print()\n",
    "        print(\" Press anything else to  to Exit : \")\n",
    "        print()\n",
    "        pla = input(\" Enter your response :  \")\n",
    "        if pla == '1':\n",
    "            source.paused = True\n",
    "            continue \n",
    "        elif pla == '2':\n",
    "            source.paused = False\n",
    "        else:\n",
    "            break\n",
    "\n",
    "\n",
    "while True:\n",
    "  # clear the screen \n",
    "    \n",
    "    os.system(\"clear\")\n",
    "  # Show the menu\n",
    "    print(\" 🎵 MyPOD Music Player \")\n",
    "    print()\n",
    "    print(\"  Press 1 to Play \")\n",
    "    print(\"  Press 2 to Exit \")\n",
    "    print()   \n",
    "    print(\"Press anything else to see the menu again.\")\n",
    "    print()\n",
    "    a = input(\" Enter your input:  \")\n",
    "  # take user's input\n",
    "    if a == '1':\n",
    "        play()\n",
    "    elif a == '2':\n",
    "        break\n",
    "    else:\n",
    "        continue\n",
    "  # check whether you should call the play() subroutine depending on user's input"
   ]
  },
  {
   "cell_type": "code",
   "execution_count": null,
   "id": "ab551fef",
   "metadata": {},
   "outputs": [],
   "source": []
  },
  {
   "cell_type": "code",
   "execution_count": null,
   "id": "5689fb2f",
   "metadata": {},
   "outputs": [],
   "source": []
  }
 ],
 "metadata": {
  "kernelspec": {
   "display_name": "Python 3 (ipykernel)",
   "language": "python",
   "name": "python3"
  },
  "language_info": {
   "codemirror_mode": {
    "name": "ipython",
    "version": 3
   },
   "file_extension": ".py",
   "mimetype": "text/x-python",
   "name": "python",
   "nbconvert_exporter": "python",
   "pygments_lexer": "ipython3",
   "version": "3.11.2"
  }
 },
 "nbformat": 4,
 "nbformat_minor": 5
}
