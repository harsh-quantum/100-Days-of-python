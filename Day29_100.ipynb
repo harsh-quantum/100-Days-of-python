{
 "cells": [
  {
   "cell_type": "markdown",
   "id": "255be152",
   "metadata": {},
   "source": [
    "##   Day 29 Challenge\n",
    "\n"
   ]
  },
  {
   "cell_type": "markdown",
   "id": "b8089c0c",
   "metadata": {},
   "source": [
    "1. Write a subroutine that writes text in color. All it will do is print out the text in that color and turn the color back to normal when it's finished.\n",
    "\n",
    "2. Control end and sep so there are not random symbols or spaces.\n",
    "\n",
    "3. Check out this github resource for the color codes."
   ]
  },
  {
   "cell_type": "code",
   "execution_count": null,
   "id": "77089d9c",
   "metadata": {},
   "outputs": [],
   "source": []
  },
  {
   "cell_type": "code",
   "execution_count": 4,
   "id": "218d86d0",
   "metadata": {},
   "outputs": [
    {
     "name": "stdout",
     "output_type": "stream",
     "text": [
      "Super Subroutine\n",
      "With my \u001b[31mnew program\u001b[0m I can just call red('and') \u001b[31mit will print in red \u001b[34mor even blue"
     ]
    }
   ],
   "source": [
    "def newPrint(color, word):\n",
    "    if color==\"red\":\n",
    "        print(\"\\033[31m\", word, sep=\"\", end=\"\")\n",
    "    elif color==\"green\":\n",
    "        print(\"\\033[32m\", word, sep=\"\", end=\"\")\n",
    "    elif color==\"blue\":\n",
    "        print(\"\\033[34m\", word, sep=\"\", end=\"\")\n",
    "    else:\n",
    "        print(\"\\033[0m\", word, sep=\"\", end=\"\")\n",
    "\n",
    "print(\"Super Subroutine\")\n",
    "print(\"With my \", end=\"\")\n",
    "newPrint(\"red\", \"new program\")\n",
    "newPrint(\"reset\", \" I can just call red('and') \")\n",
    "newPrint(\"red\", \"it will print in red \")\n",
    "newPrint(\"blue\", \"or even blue\")"
   ]
  },
  {
   "cell_type": "code",
   "execution_count": null,
   "id": "12ca26a5",
   "metadata": {},
   "outputs": [],
   "source": []
  },
  {
   "cell_type": "code",
   "execution_count": null,
   "id": "caf61cbe",
   "metadata": {},
   "outputs": [],
   "source": []
  },
  {
   "cell_type": "code",
   "execution_count": null,
   "id": "90774245",
   "metadata": {},
   "outputs": [],
   "source": []
  }
 ],
 "metadata": {
  "kernelspec": {
   "display_name": "Python 3 (ipykernel)",
   "language": "python",
   "name": "python3"
  },
  "language_info": {
   "codemirror_mode": {
    "name": "ipython",
    "version": 3
   },
   "file_extension": ".py",
   "mimetype": "text/x-python",
   "name": "python",
   "nbconvert_exporter": "python",
   "pygments_lexer": "ipython3",
   "version": "3.11.2"
  }
 },
 "nbformat": 4,
 "nbformat_minor": 5
}
