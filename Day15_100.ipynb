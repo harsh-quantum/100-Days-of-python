{
 "cells": [
  {
   "cell_type": "markdown",
   "id": "2daaec38",
   "metadata": {},
   "source": [
    "##  Day 15 Challenge\n",
    "\n",
    "### ALL about loop\n"
   ]
  },
  {
   "cell_type": "markdown",
   "id": "d2cb24d5",
   "metadata": {},
   "source": [
    "Write a program that loops. Inside the loop, ask the user what animal sound they want to hear\n",
    "\n",
    "What animal do you want?: Cow\n",
    "A cow goes moo.\n",
    "\n",
    "Do you want to exit?: no\n",
    "\n",
    "What animal do you want?: A Lesser Spotted lemur\n",
    "Ummm...the Lesser Spotter Lemur goes awooga.\n",
    "\n",
    "Do you want to exit?: yes"
   ]
  },
  {
   "cell_type": "code",
   "execution_count": 1,
   "id": "5c476efd",
   "metadata": {},
   "outputs": [
    {
     "name": "stdout",
     "output_type": "stream",
     "text": [
      "What animal do you want?: cat\n",
      "A cat goes meow.\n",
      " Do you want to exit? If yes type 'y':  y\n"
     ]
    }
   ],
   "source": [
    "exit1 = \"\"\n",
    "while exit1!= \"y\":\n",
    "    ani = input(\"What animal do you want?: \")\n",
    "    if ani == \"cow\":\n",
    "        print(\"A cow goes moo.\")\n",
    "        \n",
    "    elif ani == \"dog\":\n",
    "         print(\"A dog goes bhaww.\")\n",
    "            \n",
    "    elif ani == \"monkey\":\n",
    "         print(\"A monkey goes gibber.\")\n",
    "            \n",
    "    elif ani == \"elephant\":\n",
    "         print(\"A elephent goes trumpet.\")\n",
    "            \n",
    "    elif ani == \"chicken\":\n",
    "         print(\"A chicken goes cluck.\")\n",
    "            \n",
    "    elif ani == \"cat\":\n",
    "         print(\"A cat goes meow.\")\n",
    "            \n",
    "    elif ani == \"bird\":\n",
    "         print(\"A bird goes chirp.\")        \n",
    "    else:\n",
    "        print(\" Voice of that anaimal is not exist \")\n",
    "    \n",
    "    exit1 = input(\" Do you want to exit? If yes type 'y':  \")"
   ]
  },
  {
   "cell_type": "code",
   "execution_count": null,
   "id": "e3eee21c",
   "metadata": {},
   "outputs": [],
   "source": []
  }
 ],
 "metadata": {
  "kernelspec": {
   "display_name": "Python 3 (ipykernel)",
   "language": "python",
   "name": "python3"
  },
  "language_info": {
   "codemirror_mode": {
    "name": "ipython",
    "version": 3
   },
   "file_extension": ".py",
   "mimetype": "text/x-python",
   "name": "python",
   "nbconvert_exporter": "python",
   "pygments_lexer": "ipython3",
   "version": "3.11.2"
  }
 },
 "nbformat": 4,
 "nbformat_minor": 5
}
