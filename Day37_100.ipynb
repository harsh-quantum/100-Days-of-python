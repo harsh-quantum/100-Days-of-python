{
 "cells": [
  {
   "cell_type": "markdown",
   "id": "255be152",
   "metadata": {},
   "source": [
    "##   Day 37 Challenge\n",
    "\n",
    "#### split in list"
   ]
  },
  {
   "attachments": {},
   "cell_type": "markdown",
   "id": "b8089c0c",
   "metadata": {},
   "source": [
    "This is the challenge you're looking for. This program will generate your Star Wars Name.\n",
    "\n",
    "1. Ask the user to input their first & last names.\n",
    "2. Slice the first 3 letters of the first name.\n",
    "3. Slice the first 3 letters of the last name (surname).\n",
    "4. Join them together. Ideally change the case so that it looks good - think fStrings or .upper()/.lower(). This is the user's Star Wars first name.\n",
    "5. Now ask the user for their mother's maiden name and the city where they were born. (Maiden name is the last name they had before they got married. If you are not sure, make up a last name.)\n",
    "6. Combine the first two letters of the maiden name with the last 3 letters of the city to make the user's Star Wars last name. Remember, fStrings and .upper()/.lower().\n",
    "7. Finally, print them both as part of a sentence.\n",
    "\n",
    "🥳 Extra points for getting all the inputs with just one input command and the split function.\n",
    "\n",
    "Example:\n",
    "\n",
    "<!-- ![SNOWFALL](venv/picture_8.png) -->\n",
    "\n",
    "![image.png](venv/picture_9.png)"
   ]
  },
  {
   "cell_type": "code",
   "execution_count": 1,
   "id": "77089d9c",
   "metadata": {},
   "outputs": [
    {
     "name": "stdout",
     "output_type": "stream",
     "text": [
      "🌟Star Wars Name Generator🌟\n",
      "\n",
      "Input your first and last name :  \n",
      "\n",
      ">Harsh\n",
      ">Gupta\n",
      "\n",
      "What is your mother's maiden name and city where you born ? : \n",
      ">Anju\n",
      ">Delhi\n",
      "\n",
      "Your Star Wars name is Hargup  Anjdel\n"
     ]
    }
   ],
   "source": [
    "print(\"🌟Star Wars Name Generator🌟\")\n",
    "print()\n",
    "print(\"Input your first and last name :  \")\n",
    "print()\n",
    "firstName = input(\">\")\n",
    "lastName  = input(\">\")\n",
    "print()\n",
    "print(\"What is your mother's maiden name and city where you born ? : \")\n",
    "maidenName = input(\">\")\n",
    "cityName  = input(\">\")\n",
    "print()\n",
    "print(f\"Your Star Wars name is {firstName[:3].capitalize()}{lastName[:3].lower()}  {maidenName[:3].capitalize()}{cityName[:3].lower()}\")\n"
   ]
  },
  {
   "cell_type": "code",
   "execution_count": null,
   "id": "12c7bd58",
   "metadata": {},
   "outputs": [],
   "source": [
    "\n",
    "\n",
    "\n"
   ]
  },
  {
   "cell_type": "code",
   "execution_count": null,
   "id": "2b4ea2f6",
   "metadata": {},
   "outputs": [],
   "source": []
  },
  {
   "cell_type": "code",
   "execution_count": null,
   "id": "47859e38",
   "metadata": {},
   "outputs": [],
   "source": []
  }
 ],
 "metadata": {
  "kernelspec": {
   "display_name": "Python 3 (ipykernel)",
   "language": "python",
   "name": "python3"
  },
  "language_info": {
   "codemirror_mode": {
    "name": "ipython",
    "version": 3
   },
   "file_extension": ".py",
   "mimetype": "text/x-python",
   "name": "python",
   "nbconvert_exporter": "python",
   "pygments_lexer": "ipython3",
   "version": "3.11.5"
  }
 },
 "nbformat": 4,
 "nbformat_minor": 5
}
