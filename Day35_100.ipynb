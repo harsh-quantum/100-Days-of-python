{
 "cells": [
  {
   "cell_type": "markdown",
   "id": "255be152",
   "metadata": {},
   "source": [
    "##   Day 35 Challenge\n",
    "\n"
   ]
  },
  {
   "cell_type": "markdown",
   "id": "b8089c0c",
   "metadata": {},
   "source": [
    "Build a really cool to do list manager. (I know we did this before...hold on!)\n",
    "\n",
    "We are going to upgrade the last to do list manager we created:\n",
    "\n",
    "1. Create a menu where the user can view, add, or remove an item.\n",
    "2. The user should be able to edit the text of an item on the list too.\n",
    "3. Don't allow the user to add duplicates.\n",
    "4. Double check with the user they want to remove an item from the list before it is actually removed. (Is this the item they really want to remove?)\n",
    "5. Give the user the option to completely erase the to do list. (You should be able to do this in one line of code!)\n",
    "\n",
    "![SNOWFALL](venv/picture_8.png)"
   ]
  },
  {
   "cell_type": "code",
   "execution_count": null,
   "id": "77089d9c",
   "metadata": {},
   "outputs": [
    {
     "name": "stdout",
     "output_type": "stream",
     "text": [
      "      \u001b[1;32m LIST MANAGER \u001b[0m\n",
      "\n",
      "\n",
      " Below are the following options: \n",
      "\n",
      "\u001b[1;33m Add \n",
      "\t \u001b[1;34m View \n",
      "\t\t \u001b[1;35m Remove \n",
      "\t\t\t \u001b[1;36m Edit \n",
      "\t\t\t\t \u001b[1;40m Exit \u001b[0;40m\n",
      "\n",
      " ENTER your choice: Add\n",
      "\u001b[1;0m\n",
      "\n",
      " Tell me your item: Apple\n",
      "\n",
      "      \u001b[1;32m LIST MANAGER \u001b[0m\n",
      "\n",
      "\n",
      " Below are the following options: \n",
      "\n",
      "\u001b[1;33m Add \n",
      "\t \u001b[1;34m View \n",
      "\t\t \u001b[1;35m Remove \n",
      "\t\t\t \u001b[1;36m Edit \n",
      "\t\t\t\t \u001b[1;40m Exit \u001b[0;40m\n",
      "\n"
     ]
    }
   ],
   "source": [
    "import os, time\n",
    "list_harsh =[]\n",
    "s =\"\"\n",
    "def list_print():\n",
    "    print()\n",
    "    for i in list_harsh:\n",
    "        print(i)\n",
    "    print()  \n",
    "\n",
    "while(True):\n",
    "  print(f\"{s: >5}\",\"\\033[1;32m\",\"LIST MANAGER\",\"\\033[0m\")\n",
    "  print()\n",
    "  print()\n",
    "  print(\" Below are the following options: \")\n",
    "  print()\n",
    "  print(\"\\033[1;33m\", \"Add \\n\\t\",\"\\033[1;34m\", \"View \\n\\t\\t\",\"\\033[1;35m\",\"Remove \\n\\t\\t\\t\",\"\\033[1;36m\",\"Edit \\n\\t\\t\\t\\t\",\"\\033[1;40m\",\"Exit\",\"\\033[0;40m\")\n",
    "  print()\n",
    "  choice = input(\" ENTER your choice: \")\n",
    "  print(\"\\033[1;0m\")\n",
    "  print()\n",
    "  if choice == \"Add\":\n",
    "\n",
    "    item = input(\" Tell me your item: \")\n",
    "    if item in list_harsh:\n",
    "      print(\" This item is already in the list\")\n",
    "    else:  \n",
    "      list_harsh.append(item)\n",
    "\n",
    "  elif choice == \"View\":\n",
    "    print(\" Here is the items of your list: \")\n",
    "    list_print()\n",
    "\n",
    "  elif choice == \"Remove\":\n",
    "    print(\" Choose the below option \\n\\t\")\n",
    "    print(\"\\033[1;33m\", \"1. Delete an item Add\\n\",\"\\033[1;34m\",\"2. Delete the whole list\\n\",\"\\033[0;01m\")\n",
    "    user1 = input()\n",
    "    if user1 == \"1\":\n",
    "      item = input(\" Tell me your item which you want to remove: \")\n",
    "      if item in list_harsh:\n",
    "        print(f\"Are you sure you want to delete(Y/N) : {item}\")\n",
    "        if input() == \"Y\":\n",
    "          list_harsh.remove(item)\n",
    "      else:\n",
    "        print(\" This item is not in your list: \")\n",
    "    \n",
    "    elif user1 == \"2\":\n",
    "      final = input(\"Are you sure you want to delete the whole list(Y/N): \")\n",
    "      if final == \"Y\":\n",
    "        list_harsh = []\n",
    "    else:\n",
    "      print(\" Invalid input\")\n",
    "        \n",
    "  elif choice == \"Edit\":\n",
    "    item = input(\"Tell me your item which you want to edit: \")\n",
    "    print()\n",
    "    if item in list_harsh:\n",
    "      print(item, \" is removed form in your list\")\n",
    "      print()\n",
    "      list_harsh.remove(item)\n",
    "      item = input(\" Tell me your item: \")\n",
    "      print(item, \"added in your list\")\n",
    "      list_harsh.append(item)\n",
    "    else:\n",
    "      print(\" This item is not in your list: \")\n",
    "  elif choice == \"Exit\":\n",
    "    break\n",
    "  else:\n",
    "    print(\"Invalid choice\")\n",
    "  print()\n",
    "  time.sleep(1)\n",
    "  os.system(\"clear\")"
   ]
  },
  {
   "cell_type": "code",
   "execution_count": null,
   "id": "12c7bd58",
   "metadata": {},
   "outputs": [],
   "source": [
    "\n",
    "\n"
   ]
  },
  {
   "cell_type": "code",
   "execution_count": null,
   "id": "2b4ea2f6",
   "metadata": {},
   "outputs": [],
   "source": []
  },
  {
   "cell_type": "code",
   "execution_count": null,
   "id": "47859e38",
   "metadata": {},
   "outputs": [],
   "source": []
  }
 ],
 "metadata": {
  "kernelspec": {
   "display_name": "Python 3 (ipykernel)",
   "language": "python",
   "name": "python3"
  },
  "language_info": {
   "codemirror_mode": {
    "name": "ipython",
    "version": 3
   },
   "file_extension": ".py",
   "mimetype": "text/x-python",
   "name": "python",
   "nbconvert_exporter": "python",
   "pygments_lexer": "ipython3",
   "version": "3.11.2"
  }
 },
 "nbformat": 4,
 "nbformat_minor": 5
}
