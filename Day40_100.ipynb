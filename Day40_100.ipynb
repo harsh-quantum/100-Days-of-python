{
 "cells": [
  {
   "cell_type": "markdown",
   "id": "255be152",
   "metadata": {},
   "source": [
    "##   Day 40 Challenge\n",
    "\n",
    "#### Dictionary"
   ]
  },
  {
   "cell_type": "markdown",
   "id": "b8089c0c",
   "metadata": {},
   "source": [
    "Ooday's challenge is to create a contact card using a dictionary.\n",
    "\n",
    "    Ask the user to input their name, date of birth, telephone number, email and physical address.\n",
    "    Store it all in a dictionary.\n",
    "    Print it out in a nice way once its stored.\n",
    "\n",
    "\n",
    "Example \n",
    "\n",
    "\n",
    "![image.png](venv/picture_10.png)"
   ]
  },
  {
   "cell_type": "code",
   "execution_count": 41,
   "id": "77089d9c",
   "metadata": {},
   "outputs": [
    {
     "name": "stdout",
     "output_type": "stream",
     "text": [
      " Input your name > Harsh\n",
      "\n",
      " Input your date of birth > 04021994\n",
      "\n",
      " Input your telephone number > 965482315\n",
      "\n",
      " Input your email > @gmail.com\n",
      "\n",
      " Input your address > Delhi\n",
      "Hi Harsh. Our dictionary says that you were born on 04021994, we can call you on 965482315, email @gmail.com, or write to Delhi\n"
     ]
    }
   ],
   "source": [
    "myuser = {}\n",
    "name = input(\" Input your name > \")\n",
    "myuser[\"name\"] = name\n",
    "print()\n",
    "birthday = input(\" Input your date of birth > \")\n",
    "myuser[\"birthday\"] = birthday\n",
    "print()\n",
    "telephone = input(\" Input your telephone number > \")\n",
    "myuser[\"telephone\"] = telephone\n",
    "print()\n",
    "email = input(\" Input your email > \")\n",
    "myuser[\"email\"] = email\n",
    "print()\n",
    "address = input(\" Input your address > \")\n",
    "myuser[\"address\"] = address\n",
    "\n",
    "print(\n",
    "  f\"Hi {myuser['name']}. Our dictionary says that you were born on {myuser['birthday']}, we can call you on {myuser['telephone']}, email {myuser['email']}, or write to {myuser['address']}\"\n",
    ")\n"
   ]
  },
  {
   "cell_type": "markdown",
   "id": "9b0366d0",
   "metadata": {},
   "source": []
  },
  {
   "cell_type": "code",
   "execution_count": null,
   "id": "47859e38",
   "metadata": {},
   "outputs": [],
   "source": []
  }
 ],
 "metadata": {
  "kernelspec": {
   "display_name": "Python 3 (ipykernel)",
   "language": "python",
   "name": "python3"
  },
  "language_info": {
   "codemirror_mode": {
    "name": "ipython",
    "version": 3
   },
   "file_extension": ".py",
   "mimetype": "text/x-python",
   "name": "python",
   "nbconvert_exporter": "python",
   "pygments_lexer": "ipython3",
   "version": "3.11.5"
  }
 },
 "nbformat": 4,
 "nbformat_minor": 5
}
