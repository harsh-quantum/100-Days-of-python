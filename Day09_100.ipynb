
{
 "cells": [
  {
   "cell_type": "markdown",
   "id": "4e4fb7b0",
   "metadata": {},
   "source": [
    "##  Day 9 Challenge\n",
    "\n",
    "###  Generation Generator"
   ]
  },
  {
   "cell_type": "markdown",
   "id": "9cce3e79",
   "metadata": {},
   "source": [
    "What generation are you a part of?\n",
    "\n",
    "Use this list to guide you.\n",
    "\n",
    "Generation Name\tStarting Birth Year\tEnding Birth Year\n",
    "\n",
    "    Traditionalists 1925\t1946\n",
    "\n",
    "    Baby Boomers\t1947\t1964\n",
    "\n",
    "    Generation X\t1965\t1981\n",
    "\n",
    "    Millenials\t1982\t1995\n",
    "\n",
    "    Generation Z\t1996\t2023\n",
    "    \n",
    "    \n",
    "1. Have a user type in the year they were born.\n",
    "\n",
    "2. Use their answer to tell them the generation they are a part of.\n",
    "\n",
    "3. Add emojis or a fun statement to go along with the answers if you like.\n",
    "    \n",
    "    "
   ]
  },
  {
   "cell_type": "code",
   "execution_count": 23,
   "id": "5dcb6efd",
   "metadata": {},
   "outputs": [
    {
     "name": "stdout",
     "output_type": "stream",
     "text": [
      "Tell me in which year were born1954\n",
      " Hello Baby Boomers. Your generation started when my country got independence.\n"
     ]
    }
   ],
   "source": [
    "year = int(input(\"Tell me in which year were born\"))\n",
    "\n",
    "if year>= 1996 and year <=2023:\n",
    "    print(\"Hello Newbie. You are from Generation Z\")\n",
    "elif year >=1982:\n",
    "    print(\"90's time is best time. Welcome Millenials\")\n",
    "elif year >= 1965:\n",
    "    print(\" Heyy, my parentsa are from same generation\")\n",
    "    print(\" You must be from Generation X\")\n",
    "elif year>=1947:\n",
    "    print(\" Hello Baby Boomers. Your generation started when my country got independence.\")\n",
    "elif year >=1925:    \n",
    "    print(\" I never met that old person. Traditionalists are still alive, WOW\")\n",
    "else :\n",
    "    print(\"Either u born today or you must be ghost of someone who like programming\")"
   ]
  },
  {
   "cell_type": "code",
   "execution_count": null,
   "id": "2f79118b",
   "metadata": {},
   "outputs": [],
   "source": []
  }
 ],
 "metadata": {
  "kernelspec": {
   "display_name": "Python 3 (ipykernel)",
   "language": "python",
   "name": "python3"
  },
  "language_info": {
   "codemirror_mode": {
    "name": "ipython",
    "version": 3
   },
   "file_extension": ".py",
   "mimetype": "text/x-python",
   "name": "python",
   "nbconvert_exporter": "python",
   "pygments_lexer": "ipython3",
   "version": "3.11.2"
  }
 },
 "nbformat": 4,
 "nbformat_minor": 5
}
