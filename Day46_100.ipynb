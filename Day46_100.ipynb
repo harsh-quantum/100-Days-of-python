{
 "cells": [
  {
   "cell_type": "markdown",
   "id": "255be152",
   "metadata": {},
   "source": [
    "##   Day 46 Challenge\n",
    "\n",
    "#### "
   ]
  },
  {
   "cell_type": "markdown",
   "id": "b8089c0c",
   "metadata": {},
   "source": [
    "oday, you're going to program a full on Mokébeast Mokédex. Yep, think we're getting away with it so far...\n",
    "\n",
    "Don't forget, you can reuse your code from Day 42 here.\n",
    "\n",
    "Your Mokédex should:\n",
    "\n",
    "    Store multiple Mokébeasts using a loop.\n",
    "    Get user input of the beasts' details.\n",
    "    Add the details to a 2D dictionary.\n",
    "    Repeat until the user wants to stop.\n",
    "    Output the full Mokédex using a prettyPrint() function.\n",
    "\n",
    "\n",
    "<!-- \n",
    "![image.png](venv/picture_10.png) -->"
   ]
  },
  {
   "cell_type": "code",
   "execution_count": null,
   "id": "cadb0b69",
   "metadata": {},
   "outputs": [
    {
     "name": "stdout",
     "output_type": "stream",
     "text": [
      "Enter your beast's name: H\n",
      "\n",
      "Enter your beast's type(earth, fire, air, water or spirit): earth\n",
      "\n",
      "Input your beast's special move: dd\n",
      "\n",
      "Input your beast's starting HP: sd\n",
      "\n",
      "Input your beast's starting MP: sd\n",
      "\n",
      "Again? y/n > y\n",
      "Enter your beast's name: air\n",
      "\n",
      "Enter your beast's type(earth, fire, air, water or spirit): air\n",
      "\n",
      "Input your beast's special move: wef\n",
      "\n",
      "Input your beast's starting HP: wedf\n",
      "\n",
      "Input your beast's starting MP: we\n",
      "\n"
     ]
    }
   ],
   "source": [
    "\n",
    "def color_btype(move):\n",
    "\n",
    "    if move.lower() == \"earth\":\n",
    "        return \"\\033[32m\"\n",
    "    elif move.lower() == \"fire\":\n",
    "        return \"\\033[31m\"\n",
    "    elif move.lower() == \"air\":\n",
    "        return \"\\033[33m\"\n",
    "    elif move.lower() == \"water\":\n",
    "        return \"\\033[34m\"\n",
    "    elif move.lower() == \"spirit\":\n",
    "        return \"\\033[35m\"\n",
    "    else:\n",
    "        return \"\\033[01m\"\n",
    "\n",
    "def prettyprint():\n",
    "\n",
    "    print()\n",
    "    for key, value in mokedex.items():\n",
    "        print(color_btype(value['type']),key,end=\": \")\n",
    "#         print(value)\n",
    "        for i, j in value.items():\n",
    "          print(i, j, end=\" | \")\n",
    "        print()\n",
    "\n",
    "\n",
    "mokedex = {}\n",
    "while(True):\n",
    "\n",
    "  name = input(\"Enter your beast's name: \")\n",
    "  print()\n",
    "  btype = input(\"Enter your beast's type(earth, fire, air, water or spirit): \")\n",
    "  print()\n",
    "  move= input(\"Input your beast's special move: \")\n",
    "  print()\n",
    "  hp= input(\"Input your beast's starting HP: \")\n",
    "  print()\n",
    "  mp = input(\"Input your beast's starting MP: \")\n",
    "  \n",
    "  mokedex[name] = {\"type\": btype, \"move\": move, \"hp\": hp, \"mp\": mp}\n",
    "\n",
    "  print()\n",
    "  c = input(\"Again? y/n > \")\n",
    "\n",
    " \n",
    "  if c == \"n\":\n",
    "    prettyprint()\n",
    "    break\n",
    "\n",
    "\n",
    "# print(col,\"Your beast is called\",mydict['name'],\". It is an\",mydict['btype'],\"beast with a special move of\",mydict['move'],\"those have HP and MP of\",mydict['hp'],\"and\",mydict['mp'],\"respectively.\" )\n",
    "\n",
    "\n",
    "\n"
   ]
  },
  {
   "cell_type": "code",
   "execution_count": null,
   "id": "0db1a027",
   "metadata": {},
   "outputs": [],
   "source": []
  }
 ],
 "metadata": {
  "kernelspec": {
   "display_name": "Python 3 (ipykernel)",
   "language": "python",
   "name": "python3"
  },
  "language_info": {
   "codemirror_mode": {
    "name": "ipython",
    "version": 3
   },
   "file_extension": ".py",
   "mimetype": "text/x-python",
   "name": "python",
   "nbconvert_exporter": "python",
   "pygments_lexer": "ipython3",
   "version": "3.11.5"
  }
 },
 "nbformat": 4,
 "nbformat_minor": 5
}
