{
 "cells": [
  {
   "cell_type": "markdown",
   "id": "255be152",
   "metadata": {},
   "source": [
    "##   Day 50 Challenge\n",
    "\n",
    "####  add and read idea through text file  "
   ]
  },
  {
   "cell_type": "markdown",
   "id": "b8089c0c",
   "metadata": {},
   "source": [
    "Day 50! Boy, you are smashing this 100 days! 🎊 To celebrate, here's a project for you.\n",
    "\n",
    "Your idea storage system should:\n",
    "\n",
    "    Prompt the user to add an idea, or load a random one.\n",
    "    Choosing 'Add an idea' results in:\n",
    "        A prompt for the user to input their idea.\n",
    "        Add the idea to a text file called 'my.ideas'.\n",
    "        Add the idea in append mode, with every new idea on a brand new line.\n",
    "    Choosing 'Load random' results in:\n",
    "        Load the list of ideas.\n",
    "        Choose one at random.\n",
    "        Display it on screen for a few seconds.\n",
    "        Return to the menu.\n",
    "\n",
    "<!-- \n",
    "![image.png](venv/picture_10.png) -->"
   ]
  },
  {
   "cell_type": "code",
   "execution_count": 166,
   "id": "c6479f57",
   "metadata": {},
   "outputs": [
    {
     "name": "stdout",
     "output_type": "stream",
     "text": [
      "Idea Storage🌟\n",
      "\n",
      "1: Add an idea\n",
      "2: Load up a random idea\n",
      "3: Exit\n",
      "\n",
      "> 2\n",
      "\n",
      "Rise and Shine\n",
      "Idea Storage🌟\n",
      "\n",
      "1: Add an idea\n",
      "2: Load up a random idea\n",
      "3: Exit\n",
      "\n",
      "> 2\n",
      "\n",
      "Rise and Shine\n",
      "Idea Storage🌟\n",
      "\n",
      "1: Add an idea\n",
      "2: Load up a random idea\n",
      "3: Exit\n",
      "\n",
      "> 2\n",
      "\n",
      "Good Morning\n",
      "Idea Storage🌟\n",
      "\n",
      "1: Add an idea\n",
      "2: Load up a random idea\n",
      "3: Exit\n",
      "\n",
      "> 3\n"
     ]
    }
   ],
   "source": [
    "import random \n",
    "import time \n",
    "\n",
    "\n",
    "\n",
    "while True:\n",
    "  f = open(\"my.ideas\", \"a+\")\n",
    "  print(\"Idea Storage🌟\")\n",
    "  print()\n",
    "  print(\"1: Add an idea\")\n",
    "  print(\"2: Load up a random idea\")\n",
    "  print(\"3: Exit\")\n",
    "  print()\n",
    "  choice = input(\"> \")\n",
    "  if choice == \"1\":\n",
    "    print()\n",
    "    f.write(input(\"Idea: \") + \"\\n\")\n",
    "    f.close()\n",
    "  elif choice == \"2\":\n",
    "    print()\n",
    "    f.seek(0)\n",
    "    ideas = f.read().split(\"\\n\")\n",
    "    q = ideas[:-1]\n",
    "    print(random.choice(q))\n",
    "    time.sleep(2)\n",
    "  else:\n",
    "    f.close()\n",
    "    break\n",
    "    "
   ]
  },
  {
   "cell_type": "code",
   "execution_count": null,
   "id": "142a9459",
   "metadata": {},
   "outputs": [],
   "source": [
    "f.seek"
   ]
  }
 ],
 "metadata": {
  "kernelspec": {
   "display_name": "Python 3 (ipykernel)",
   "language": "python",
   "name": "python3"
  },
  "language_info": {
   "codemirror_mode": {
    "name": "ipython",
    "version": 3
   },
   "file_extension": ".py",
   "mimetype": "text/x-python",
   "name": "python",
   "nbconvert_exporter": "python",
   "pygments_lexer": "ipython3",
   "version": "3.11.5"
  }
 },
 "nbformat": 4,
 "nbformat_minor": 5
}
