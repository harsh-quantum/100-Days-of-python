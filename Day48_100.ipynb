{
 "cells": [
  {
   "cell_type": "markdown",
   "id": "255be152",
   "metadata": {},
   "source": [
    "##   Day 48 Challenge\n",
    "\n",
    "#### Save file in txt format"
   ]
  },
  {
   "cell_type": "markdown",
   "id": "b8089c0c",
   "metadata": {},
   "source": [
    "Today's challenge is to create a high score table.\n",
    "\n",
    "Your program should:\n",
    "\n",
    "    Ask the user to input their three letter initials and score (out of about 100,000).\n",
    "    Save both those values into a file called 'high.score'.\n",
    "    This should use append mode. If the file doesn't exist, it should be created. \n",
    "    If it does, the score should be added to the end.\n",
    "    Each new entry score should go on a new line as initials space score. \n",
    "    Then start a new line for the next entry.\n",
    "    Add 2-3 scores for testing in a loop.\n",
    "    The loop should ask the user if they've finished entering data and stop if they have.\n",
    "\n",
    "🥳 Extra points for getting all the inputs with just one input command and the split function.\n",
    "\n",
    "<!-- \n",
    "![image.png](venv/picture_10.png) -->"
   ]
  },
  {
   "cell_type": "code",
   "execution_count": 150,
   "id": "e1ab75fb",
   "metadata": {},
   "outputs": [
    {
     "name": "stdout",
     "output_type": "stream",
     "text": [
      "🌟HIGH SCORE TABLE🌟\n",
      "Input your initials > HAR\n",
      "Input your score > 44545\n",
      "\n",
      "Added to high score table.\n",
      "Add another? y/n? y\n",
      "\n",
      "Input your initials > AJA\n",
      "Input your score > 7788\n",
      "\n",
      "Added to high score table.\n",
      "Add another? y/n? n\n",
      "\n"
     ]
    }
   ],
   "source": [
    "print(\"🌟HIGH SCORE TABLE🌟\")\n",
    "f= open(\"high_score.text\",\"a+\")\n",
    "while(True):\n",
    "\n",
    "  \n",
    "    name = input(\"Input your initials > \")\n",
    "    score = input(\"Input your score > \")\n",
    "    f.write(f\"{name}\\n{score}\\n\")\n",
    "\n",
    "    print()\n",
    "    print(\"Added to high score table.\")\n",
    "    h = input(\"Add another? y/n? \")\n",
    "    print()\n",
    "    if h == \"n\":\n",
    "        f.close()\n",
    "        break"
   ]
  },
  {
   "cell_type": "code",
   "execution_count": null,
   "id": "a7d3e322",
   "metadata": {},
   "outputs": [],
   "source": []
  }
 ],
 "metadata": {
  "kernelspec": {
   "display_name": "Python 3 (ipykernel)",
   "language": "python",
   "name": "python3"
  },
  "language_info": {
   "codemirror_mode": {
    "name": "ipython",
    "version": 3
   },
   "file_extension": ".py",
   "mimetype": "text/x-python",
   "name": "python",
   "nbconvert_exporter": "python",
   "pygments_lexer": "ipython3",
   "version": "3.11.5"
  }
 },
 "nbformat": 4,
 "nbformat_minor": 5
}
