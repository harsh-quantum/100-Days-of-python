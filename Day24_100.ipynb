{
 "cells": [
  {
   "cell_type": "markdown",
   "id": "255be152",
   "metadata": {},
   "source": [
    "##   Day 24 Challenge\n",
    "\n"
   ]
  },
  {
   "cell_type": "markdown",
   "id": "b8089c0c",
   "metadata": {},
   "source": [
    "Let's build an infinity dice!\n",
    "\n",
    "Create subroutines that will roll a dice with any number of sides (essentially as big of a number as you like). Write one subroutine with one parameter that allows us to call a function (such as rollDice)."
   ]
  },
  {
   "cell_type": "code",
   "execution_count": 1,
   "id": "1ccb5e0e",
   "metadata": {
    "scrolled": true
   },
   "outputs": [],
   "source": [
    "# from getpass import getpass as input\n",
    "import random"
   ]
  },
  {
   "cell_type": "code",
   "execution_count": 3,
   "id": "2f436f45",
   "metadata": {},
   "outputs": [
    {
     "name": "stdout",
     "output_type": "stream",
     "text": [
      "Infinity Dice 🎲\n",
      " How many sides the dice should be: 54\n",
      "You rolled:  30\n",
      " Do you want to rill a dice again(Yes/No) grbr\n",
      " How many sides the dice should be: 545\n",
      "You rolled:  4\n",
      " Do you want to rill a dice again(Yes/No) No\n",
      " Thankyou for playing this game\n"
     ]
    }
   ],
   "source": [
    "print(\"Infinity Dice 🎲\")\n",
    "    \n",
    "def Rolladice(sides):\n",
    "    ss = random.randint(1,sides)\n",
    "    print(\"You rolled: \",ss)\n",
    "    \n",
    "check = True\n",
    "while(check):\n",
    "    sides = int(input(\" How many sides the dice should be: \"))\n",
    "    Rolladice(sides)\n",
    "    check1 = input(\" Do you want to rill a dice again(Yes/No) \")\n",
    "    if check1 == \"No\":\n",
    "        check = False\n",
    "        print(\" Thankyou for playing this game\")"
   ]
  },
  {
   "cell_type": "code",
   "execution_count": null,
   "id": "ab0e6264",
   "metadata": {},
   "outputs": [],
   "source": []
  },
  {
   "cell_type": "code",
   "execution_count": null,
   "id": "facde793",
   "metadata": {},
   "outputs": [],
   "source": []
  },
  {
   "cell_type": "code",
   "execution_count": null,
   "id": "b45abf14",
   "metadata": {},
   "outputs": [],
   "source": []
  },
  {
   "cell_type": "code",
   "execution_count": null,
   "id": "142bc80a",
   "metadata": {},
   "outputs": [],
   "source": []
  },
  {
   "cell_type": "code",
   "execution_count": null,
   "id": "53509691",
   "metadata": {},
   "outputs": [],
   "source": []
  }
 ],
 "metadata": {
  "kernelspec": {
   "display_name": "Python 3 (ipykernel)",
   "language": "python",
   "name": "python3"
  },
  "language_info": {
   "codemirror_mode": {
    "name": "ipython",
    "version": 3
   },
   "file_extension": ".py",
   "mimetype": "text/x-python",
   "name": "python",
   "nbconvert_exporter": "python",
   "pygments_lexer": "ipython3",
   "version": "3.11.2"
  }
 },
 "nbformat": 4,
 "nbformat_minor": 5
}
