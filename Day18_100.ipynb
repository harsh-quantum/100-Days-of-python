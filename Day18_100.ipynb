{
 "cells": [
  {
   "cell_type": "markdown",
   "id": "255be152",
   "metadata": {},
   "source": [
    "##   Day 18 Challenge\n",
    "\n",
    "\n"
   ]
  },
  {
   "cell_type": "markdown",
   "id": "b8089c0c",
   "metadata": {},
   "source": [
    "We are going to build a \"Guess the Number\" guessing game.\n",
    "\n",
    "You are going to use a while loop and some of the concepts from the past few days.\n",
    "\n",
    "Start by picking a number between 0 and 1,000,000. This will be your first variable.\n",
    "\n",
    "1. Create a while loop to keep asking the user to guess your number.\n",
    "\n",
    "2. If they are too low, tell them \"too low.\" If they guess too high tell, them \"too high.\"\n",
    "\n",
    "3. If the user guesses correctly, tell them they are a winner (maybe add a fun emoji too!)\n",
    "\n",
    "4. Count the number of attempts it took for the user to guess number. Make sure you only show that after they get the answer correct.\n",
    "\n",
    "####  Extra challenge: If the user types a negative number, exit program"
   ]
  },
  {
   "cell_type": "code",
   "execution_count": 2,
   "id": "693c9568",
   "metadata": {},
   "outputs": [],
   "source": [
    "from getpass import getpass as input"
   ]
  },
  {
   "cell_type": "code",
   "execution_count": 3,
   "id": "3fedca74",
   "metadata": {},
   "outputs": [
    {
     "name": "stdout",
     "output_type": "stream",
     "text": [
      " *****Wecolme to the Guess the Number game******** \n",
      "\n",
      " There are two player one will give the number and other will guess the number \n",
      "\n",
      " Enter the number between 0 and 1,000,000. : ········\n",
      " Enter you guess (0 and 1,000,000):  ········\n",
      " Your guess is too low\n",
      " Enter you guess (0 and 1,000,000):  ········\n",
      " Your guess is too high\n",
      " Enter you guess (0 and 1,000,000):  ········\n",
      " Your guess is too low\n",
      " Enter you guess (0 and 1,000,000):  ········\n",
      " Your guess is too high\n",
      " Enter you guess (0 and 1,000,000):  ········\n",
      " Your guess is too high\n",
      " Enter you guess (0 and 1,000,000):  ········\n",
      " Your guess is too high\n",
      " Enter you guess (0 and 1,000,000):  ········\n",
      " Your guess is too high\n",
      " Enter you guess (0 and 1,000,000):  ········\n",
      " Your guess is too low\n",
      " Enter you guess (0 and 1,000,000):  ········\n",
      " Your guess is too high\n",
      " Enter you guess (0 and 1,000,000):  ········\n",
      " Yeah. You guess the correct number  121\n",
      " Total number of attempts : 10\n"
     ]
    }
   ],
   "source": [
    "print(\" *****Wecolme to the Guess the Number game******** \")\n",
    "print()\n",
    "print(\" There are two player one will give the number and other will guess the number \")\n",
    "print()\n",
    "\n",
    "n1 = int(input(\" Enter the number between 0 and 1,000,000. : \"))\n",
    "count = 0\n",
    "while(True):\n",
    "    \n",
    "    \n",
    "    p1 = int(input(\" Enter you guess (0 and 1,000,000):  \"))\n",
    "    if p1 < 0:\n",
    "        print(\"You Entered the neagtive number \")\n",
    "        break\n",
    "        \n",
    "    if p1 < n1 :\n",
    "        print(\" Your guess is too low\")\n",
    "        count+=1\n",
    "        continue\n",
    "    elif p1 > n1 :\n",
    "        print(\" Your guess is too high\")\n",
    "        count+=1\n",
    "        continue\n",
    "    else:\n",
    "        print(\" Yeah. You guess the correct number \", n1)\n",
    "        count+=1\n",
    "        print(\" Total number of attempts :\", count)\n",
    "        break"
   ]
  },
  {
   "cell_type": "code",
   "execution_count": null,
   "id": "1ccb5e0e",
   "metadata": {},
   "outputs": [],
   "source": []
  }
 ],
 "metadata": {
  "kernelspec": {
   "display_name": "Python 3 (ipykernel)",
   "language": "python",
   "name": "python3"
  },
  "language_info": {
   "codemirror_mode": {
    "name": "ipython",
    "version": 3
   },
   "file_extension": ".py",
   "mimetype": "text/x-python",
   "name": "python",
   "nbconvert_exporter": "python",
   "pygments_lexer": "ipython3",
   "version": "3.11.2"
  }
 },
 "nbformat": 4,
 "nbformat_minor": 5
}
