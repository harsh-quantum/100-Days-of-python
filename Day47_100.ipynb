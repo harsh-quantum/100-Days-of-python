{
 "cells": [
  {
   "cell_type": "markdown",
   "id": "255be152",
   "metadata": {},
   "source": [
    "##   Day 47 Challenge\n",
    "\n",
    "#### Trumph cards"
   ]
  },
  {
   "cell_type": "markdown",
   "id": "b8089c0c",
   "metadata": {},
   "source": [
    "Alright Top Trumpers. Your program should work like this.\n",
    "\n",
    "    Pick a category. Something popular. You know like 'most handsome computer science teachers'. 😆\n",
    "    Store the information of two different objects in a 2D dictionary.\n",
    "    The key field should be name.\n",
    "    The data in the sub dictionary should be some stats about the object. For example:\n",
    "        Intelligence\n",
    "        Handsomeness\n",
    "        L33t c0ding skillz\n",
    "        Baldness level\n",
    "    Use an infinite loop to get the user to pick one of the two cards, then pick a stat from that card.\n",
    "    Display the chosen stat for both cards and output which has won.\n",
    "\n",
    "🥳 Extra points for:\n",
    "\n",
    "    Making the dictionary dynamic so you can add your own cards.\n",
    "    Using a loop to play the game in a 2 player format, keeping track of points scored.\n",
    "\n",
    "\n",
    "<!-- \n",
    "![image.png](venv/picture_10.png) -->"
   ]
  },
  {
   "cell_type": "code",
   "execution_count": 149,
   "id": "02d7eb64",
   "metadata": {},
   "outputs": [
    {
     "name": "stdout",
     "output_type": "stream",
     "text": [
      "🌟Top Trumps🌟\n",
      "\n",
      "Welcome to the Top Trumps 'Most Handsome Computing Teachers' Simulator\n",
      "\n",
      "Choose your card: 1 - Mr. Morgan 2 - Mr.Colley\n",
      "\n",
      " > 1\n",
      "\n",
      "Choose your stat:\n",
      "  1. Intelligence\n",
      "  2. Handsomeness\n",
      "  3. L33t c0ding skillz\n",
      "  4. Baldness level \n",
      "\n",
      " > 3\n",
      "\n",
      "Morgan has a L33t c0ding skillz of 100\n",
      "Colley has a L33t c0ding skillz of 10\n",
      "\n",
      "************** Mr. Morgan wins*************\n",
      "\n",
      "Again? y/n > n\n"
     ]
    }
   ],
   "source": [
    "Morgan = {'Intelligence':45, 'Handsomeness':80, 'L33t c0ding skillz':100, 'Baldness level':78 }\n",
    "Colley = {'Intelligence':65, 'Handsomeness':98, 'L33t c0ding skillz':10, 'Baldness level':88 }\n",
    "card = {'Morgan':Morgan,'Colley':Colley}\n",
    "\n",
    "def winner(choose_card,stat):\n",
    "  # list1 = list(card.keys()) # two keys \n",
    "  list2 = list(card['Morgan'].keys()) # All the values like Intelligence, Handsomeness, L33t_c0ding skillz, Baldness_level\n",
    "  print(f\"Morgan has a {list2[stat-1]} of {card['Morgan'][list2[stat-1]]}\")\n",
    "  print(f\"Colley has a {list2[stat-1]} of {card['Colley'][list2[stat-1]]}\")\n",
    "  print()\n",
    "  if choose_card == 1:\n",
    "    if card['Morgan'][list2[stat-1]] > card['Colley'][list2[stat-1]]:\n",
    "      print(\"************** Mr. Morgan wins*************\")\n",
    "    else:\n",
    "      print(\"************** Mr. Morgan lost*************\")\n",
    "  else:\n",
    "    if card['Morgan'][list2[stat-1]] < card['Colley'][list2[stat-1]]:\n",
    "      print(\"************** Mr. Colley wins*************\")\n",
    "    else:\n",
    "      print(\"************** Mr. Colley lost*************\")\n",
    "  print()\n",
    "\n",
    "print(\"🌟Top Trumps🌟\")\n",
    "print()\n",
    "print(\"Welcome to the Top Trumps 'Most Handsome Computing Teachers' Simulator\")\n",
    "print()\n",
    "while(True):\n",
    "  chosee_card = int(input(\"Choose your card: 1 - Mr. Morgan 2 - Mr.Colley\\n\\n > \"))\n",
    "  print()\n",
    "\n",
    "  state = int(input(\"\"\"Choose your stat:\n",
    "  1. Intelligence\n",
    "  2. Handsomeness\n",
    "  3. L33t c0ding skillz\n",
    "  4. Baldness level \\n\\n > \"\"\"\n",
    "        ))\n",
    "  print()\n",
    "  winner(chosee_card,state)\n",
    "  ask = input(\"Again? y/n > \")\n",
    "  if ask == 'n':\n",
    "    break\n",
    "  print()"
   ]
  },
  {
   "cell_type": "code",
   "execution_count": null,
   "id": "90a42593",
   "metadata": {},
   "outputs": [],
   "source": []
  }
 ],
 "metadata": {
  "kernelspec": {
   "display_name": "Python 3 (ipykernel)",
   "language": "python",
   "name": "python3"
  },
  "language_info": {
   "codemirror_mode": {
    "name": "ipython",
    "version": 3
   },
   "file_extension": ".py",
   "mimetype": "text/x-python",
   "name": "python",
   "nbconvert_exporter": "python",
   "pygments_lexer": "ipython3",
   "version": "3.11.5"
  }
 },
 "nbformat": 4,
 "nbformat_minor": 5
}
