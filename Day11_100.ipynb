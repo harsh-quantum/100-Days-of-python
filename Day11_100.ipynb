{
 "cells": [
  {
   "cell_type": "markdown",
   "id": "f12ee4c3",
   "metadata": {},
   "source": [
    "##  Day 11 Challenge\n",
    "\n",
    "### How many seconds are in a year?\n"
   ]
  },
  {
   "cell_type": "markdown",
   "id": "628b3a68",
   "metadata": {},
   "source": [
    "Use the power of breaking a program down into its parts. We could Google this, but why not make a program for this instead.\n",
    "\n",
    "    60 seconds = 1 minute\n",
    "\n",
    "    60 minutes = 1 hour\n",
    "\n",
    "    24 hours = 1 day\n",
    "\n",
    "    31 days = 1 month\n",
    "\n",
    "    12 months = 1 year\n",
    "\n",
    "    365 days = 1 year\n",
    "\n",
    "    366 day = 1 leap year (this is every four years)\n",
    "    \n",
    "1: You can multiply a bunch of numbers to figure out how many seconds are in a year.\n",
    "\n",
    "2: Use input and if statements to add the extra day for leap year.\n",
    "\n",
    "3: Make the computer do all the hard work and math for you. You do the thinking beforehand."
   ]
  },
  {
   "cell_type": "code",
   "execution_count": 29,
   "id": "52c9c719",
   "metadata": {},
   "outputs": [
    {
     "name": "stdout",
     "output_type": "stream",
     "text": [
      " We want to give you how many seconds in a year\n",
      " Type 'YES' or 'NO' to calculate how many seconds in leap yearNO\n",
      " Number of seconds in a leap year 31536000\n"
     ]
    }
   ],
   "source": [
    "print(\" We want to give you how many seconds in a year\")\n",
    "year = input (\" Type 'YES' or 'NO' to calculate how many seconds in leap year\")\n",
    "\n",
    "minute = 60\n",
    "hour = 60 * minute\n",
    "day = 24 * hour \n",
    "jan = 31 * day\n",
    "feb = 28 * day\n",
    "april =30 * day\n",
    "\n",
    "year_sec = 7* jan + feb + 4*april\n",
    "leap_year = year_sec + day \n",
    "\n",
    "if year == \"YES\":\n",
    "    print(\" Number of seconds in a leap year\", leap_year)\n",
    "    \n",
    "elif year == \"NO\":\n",
    "    print(\" Number of seconds in a leap year\", year_sec)\n",
    "\n",
    "else:\n",
    "    print(\" You input is wrong\")"
   ]
  },
  {
   "cell_type": "code",
   "execution_count": null,
   "id": "b9e691a5",
   "metadata": {},
   "outputs": [],
   "source": []
  }
 ],
 "metadata": {
  "kernelspec": {
   "display_name": "Python 3 (ipykernel)",
   "language": "python",
   "name": "python3"
  },
  "language_info": {
   "codemirror_mode": {
    "name": "ipython",
    "version": 3
   },
   "file_extension": ".py",
   "mimetype": "text/x-python",
   "name": "python",
   "nbconvert_exporter": "python",
   "pygments_lexer": "ipython3",
   "version": "3.11.2"
  }
 },
 "nbformat": 4,
 "nbformat_minor": 5
}
