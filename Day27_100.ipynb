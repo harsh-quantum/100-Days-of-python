{
 "cells": [
  {
   "cell_type": "markdown",
   "id": "255be152",
   "metadata": {},
   "source": [
    "##   Day 26 Challenge\n",
    "\n"
   ]
  },
  {
   "cell_type": "markdown",
   "id": "b8089c0c",
   "metadata": {},
   "source": [
    "Welcome to your first video game creation. You will create a video game that creates a character's health and attack stats...along with an epic name for your character.\n",
    "\n",
    "Do not delete today's code. You will be building upon it on Day 28.\n",
    "\n",
    "1. Write a subroutine that generates a character: first name and character type (human, imp, wizard, elf, etc.).\n",
    "2. Write a subroutine that multiplies a bunch of random dice rolls together to generate the character's health stats. Use this formula:\n",
    "\n",
    "\n",
    "![SNOWFALL](picture_1.png) \n",
    "\n",
    "3. Write a second subroutine that multiplies a bunch of random dice rolls together to generate the character's strength stats. Use this formula:\n",
    "\n",
    "![SNOWFALL1](pictur_2.png)\n",
    "\n",
    "4. Present the data in a menu with time.sleep and os.system(\"clear\") to make it appealing.\n",
    "5. Wrap it in a loop so the user has the option to create another character.\n",
    "\n",
    "Example:\n",
    "\n",
    "Character Builder\n",
    "\n",
    "Name Your Legend:\n",
    "Sheila the Almighty\n",
    "\n",
    "Character Type (Human, Elf, Wiard, Orc):\n",
    "Human\n",
    "\n",
    "Sheila the Almighty\n",
    "HEALTH: 40\n",
    "STRENGTH: 26\n",
    "\n",
    "May your name go down in Legend...\n"
   ]
  },
  {
   "cell_type": "code",
   "execution_count": 5,
   "id": "77089d9c",
   "metadata": {},
   "outputs": [
    {
     "name": "stdout",
     "output_type": "stream",
     "text": [
      "Character Builder\n",
      "\n",
      " Name your Builder: \n",
      "ds\n",
      "\n",
      "Character Type (Human, Elf, Wiard, Orc): \n",
      " d\n",
      "ds\n",
      "HEALTH:  12.5\n",
      "STRENGTH:  14.5\n",
      "\n",
      "May your name go down in Legend...\n",
      "Do you want to create another character (Y/N)? \n",
      "Y\n",
      "Character Builder\n",
      "\n",
      " Name your Builder: \n",
      "eqd\n",
      "\n",
      "Character Type (Human, Elf, Wiard, Orc): \n",
      " wd\n",
      "eqd\n",
      "HEALTH:  23.5\n",
      "STRENGTH:  25.5\n",
      "\n",
      "May your name go down in Legend...\n",
      "Do you want to create another character (Y/N)? \n",
      "N\n"
     ]
    }
   ],
   "source": [
    "import os \n",
    "import time\n",
    "import random\n",
    "\n",
    "def gen_char():\n",
    "    legend_name = input(\" Name your Builder: \\n\")\n",
    "    print()\n",
    "    char_name = input(\"Character Type (Human, Elf, Wiard, Orc): \\n \")\n",
    "    return legend_name\n",
    "\n",
    "def score_gen():\n",
    "    score_6 = random.randint(1,6)\n",
    "    score_12 = random.randint(1,12)\n",
    "    health = (score_12 *score_6)/2 + 10\n",
    "    strength = (score_12 *score_6)/2 + 12\n",
    "    return health, strength\n",
    "\n",
    "\n",
    "while True:\n",
    "    os.system(\"clear\")\n",
    "    print(\"Character Builder\")\n",
    "    print()\n",
    "    leg_name = gen_char()\n",
    "    health, strength = score_gen()\n",
    "    print(leg_name)\n",
    "    print(\"HEALTH: \", health)\n",
    "    print(\"STRENGTH: \", strength)\n",
    "    print()\n",
    "    print(\"May your name go down in Legend...\")\n",
    "\n",
    "    ask = input(\"Do you want to create another character (Y/N)? \\n\")\n",
    "    if ask == 'N':\n",
    "        break\n",
    "    time.sleep(1)\n",
    "    os.system(\"clear\")"
   ]
  },
  {
   "cell_type": "code",
   "execution_count": null,
   "id": "ab551fef",
   "metadata": {},
   "outputs": [],
   "source": []
  },
  {
   "cell_type": "code",
   "execution_count": null,
   "id": "5689fb2f",
   "metadata": {},
   "outputs": [],
   "source": []
  }
 ],
 "metadata": {
  "kernelspec": {
   "display_name": "Python 3 (ipykernel)",
   "language": "python",
   "name": "python3"
  },
  "language_info": {
   "codemirror_mode": {
    "name": "ipython",
    "version": 3
   },
   "file_extension": ".py",
   "mimetype": "text/x-python",
   "name": "python",
   "nbconvert_exporter": "python",
   "pygments_lexer": "ipython3",
   "version": "3.11.2"
  }
 },
 "nbformat": 4,
 "nbformat_minor": 5
}
