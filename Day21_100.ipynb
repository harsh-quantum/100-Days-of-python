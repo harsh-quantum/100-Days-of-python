{
 "cells": [
  {
   "cell_type": "markdown",
   "id": "255be152",
   "metadata": {},
   "source": [
    "##   Day 21 Challenge\n",
    "\n",
    "\n",
    "### Maths Game\n"
   ]
  },
  {
   "cell_type": "markdown",
   "id": "b8089c0c",
   "metadata": {},
   "source": [
    "Test your family and friends on their multiplication knowledge (or just be really mean to people you know and ask them to work out their multiplication tables for 5,474,000,000....)\n",
    "\n",
    "1. Prompt the user by asking for a multiplication table for the number of their choice.\n",
    "2. Generate the multiplication table for 1 to 10 times that number and ask each math fact as a question (psst...that's a hint).\n",
    "3. If the user gets the math correct, award them a point. If they get it wrong, do not give them any points.\n",
    "4. At the end of the 10 rounds, show the user their score out of 10 for how many math facts they got correct.\n",
    "5. Why not give users an emoji if they get all 10 math facts correct?"
   ]
  },
  {
   "cell_type": "markdown",
   "id": "d777ec80",
   "metadata": {},
   "source": [
    "Math Game!\n",
    "\n",
    "Name your multiples: 7\n",
    "\n",
    "1 X 7 = 7\n",
    "Great work! \n",
    "\n",
    "2 X 7 = 14\n",
    "Awesome!\n",
    "\n",
    "3 X 7 = 54\n",
    "Nope. The answer was 21. \n",
    "\n",
    "---\n",
    "\n",
    "You scored 3 out of 10."
   ]
  },
  {
   "cell_type": "code",
   "execution_count": 14,
   "id": "1ccb5e0e",
   "metadata": {
    "scrolled": true
   },
   "outputs": [
    {
     "name": "stdout",
     "output_type": "stream",
     "text": [
      " WElcome to the MATH game\n",
      " You need enter the number and work out its multiple table\n",
      " Lets Begin: *************************\n",
      "\n",
      " Enter the number : 2\n",
      "1 x 2 = 2\n",
      "Nice\n",
      "\n",
      "2 x 2 = 1\n",
      " Wrong\n",
      " The answer was  4\n",
      " You scored 1 out of 10\n"
     ]
    }
   ],
   "source": [
    "print(\" WElcome to the MATH game\")\n",
    "print(\" You need enter the number and work out its multiple table\")\n",
    "print(\" Lets Begin: *************************\")\n",
    "print()\n",
    "number = int(input(\" Enter the number : \"))\n",
    "point= 0\n",
    "counter =1\n",
    "while(True):\n",
    "    x = int(input(f\"{counter} x {number} = \"))\n",
    "    \n",
    "    if x != counter * number:\n",
    "            print(\" Wrong\")\n",
    "            print(\" The answer was \", counter * number)\n",
    "            print(\" You scored\",point,\"out of 10\")\n",
    "            break\n",
    "    elif x == counter * number :\n",
    "        print(\"Nice\")\n",
    "        print()\n",
    "        point+=1\n",
    "        counter+=1        \n",
    "    \n",
    "    else:\n",
    "        print(\" You entered the wrong input\")\n",
    "        \n",
    "    if counter == 11:\n",
    "        print(\" Well done. You did great\")\n",
    "        print(\" You scored\",point,\"out of 10\")\n",
    "        break    \n",
    "        \n",
    "        "
   ]
  },
  {
   "cell_type": "code",
   "execution_count": null,
   "id": "d4139910",
   "metadata": {},
   "outputs": [],
   "source": []
  },
  {
   "cell_type": "code",
   "execution_count": null,
   "id": "c4317927",
   "metadata": {},
   "outputs": [],
   "source": []
  },
  {
   "cell_type": "code",
   "execution_count": null,
   "id": "ffaaa18a",
   "metadata": {},
   "outputs": [],
   "source": []
  },
  {
   "cell_type": "code",
   "execution_count": null,
   "id": "3afa9ee6",
   "metadata": {},
   "outputs": [],
   "source": []
  }
 ],
 "metadata": {
  "kernelspec": {
   "display_name": "Python 3 (ipykernel)",
   "language": "python",
   "name": "python3"
  },
  "language_info": {
   "codemirror_mode": {
    "name": "ipython",
    "version": 3
   },
   "file_extension": ".py",
   "mimetype": "text/x-python",
   "name": "python",
   "nbconvert_exporter": "python",
   "pygments_lexer": "ipython3",
   "version": "3.11.2"
  }
 },
 "nbformat": 4,
 "nbformat_minor": 5
}
