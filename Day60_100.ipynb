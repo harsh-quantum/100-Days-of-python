{
 "cells": [
  {
   "cell_type": "markdown",
   "id": "255be152",
   "metadata": {},
   "source": [
    "##   Day 60 Challenge\n",
    "\n",
    "#### Date"
   ]
  },
  {
   "cell_type": "markdown",
   "id": "8c848ec9-16e6-41df-8b44-99aaab21b959",
   "metadata": {
    "tags": []
   },
   "source": [
    "Today's challenge is an events countdown timer.\n",
    "\n",
    "Your program should:\n",
    "\n",
    "    Austomatically work out today's date.\n",
    "    Prompt the user to input the name and date of their event (year, month and day).\n",
    "    Work out the number of days until the event and output it.\n",
    "    If the event is happening today, insert some party emojis.\n",
    "    If the event was in the past, sad face emojis and tell the user how many days ago it was.\n",
    "\n",
    "\n",
    "\n",
    "\n",
    "\n",
    "![image.png](venv/picture_10.png)"
   ]
  },
  {
   "cell_type": "code",
   "execution_count": 1,
   "id": "e306f6e1-929c-4407-9562-38521856f94a",
   "metadata": {
    "tags": []
   },
   "outputs": [],
   "source": [
    "import datetime"
   ]
  },
  {
   "cell_type": "code",
   "execution_count": 10,
   "id": "33f16735",
   "metadata": {},
   "outputs": [
    {
     "name": "stdin",
     "output_type": "stream",
     "text": [
      "Input the event >  30th Birthday\n",
      "\n",
      "Enter the  year >  2024\n",
      "\n",
      "Enter the  month >  2\n",
      "\n",
      "Enter the  day >  4\n"
     ]
    },
    {
     "name": "stdout",
     "output_type": "stream",
     "text": [
      "Opps!! 30th Birthday past by  7 days\n"
     ]
    }
   ],
   "source": [
    "import datetime\n",
    "\n",
    "today = datetime.date.today() \n",
    "\n",
    "event = input(\"Input the event > \")\n",
    "\n",
    "year = int(input(\"\\nEnter the  year > \"))\n",
    "month = int(input(\"\\nEnter the  month > \"))\n",
    "day = int(input(\"\\nEnter the  day > \"))\n",
    "\n",
    "\n",
    "holiday = datetime.date(year = year,month = month, day = day) \n",
    "difference = holiday - today\n",
    "difference_days = difference.days\n",
    "\n",
    "if difference_days > 0:\n",
    "    print(f\"Opps!! {event} will be coming in {difference_days} days\")\n",
    "elif difference_days < 0 :\n",
    "    print(f\"Opps!! {event} past by  {-difference_days} days\")\n",
    "else: \n",
    "    print(f\"🎉🎉 {event}  is today!\")"
   ]
  },
  {
   "cell_type": "code",
   "execution_count": null,
   "id": "f164470d",
   "metadata": {},
   "outputs": [],
   "source": []
  },
  {
   "cell_type": "code",
   "execution_count": null,
   "id": "a33f393e",
   "metadata": {},
   "outputs": [],
   "source": []
  }
 ],
 "metadata": {
  "kernelspec": {
   "display_name": "Python 3 (ipykernel)",
   "language": "python",
   "name": "python3"
  },
  "language_info": {
   "codemirror_mode": {
    "name": "ipython",
    "version": 3
   },
   "file_extension": ".py",
   "mimetype": "text/x-python",
   "name": "python",
   "nbconvert_exporter": "python",
   "pygments_lexer": "ipython3",
   "version": "3.11.5"
  }
 },
 "nbformat": 4,
 "nbformat_minor": 5
}
