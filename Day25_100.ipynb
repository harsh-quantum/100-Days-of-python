{
 "cells": [
  {
   "cell_type": "markdown",
   "id": "255be152",
   "metadata": {},
   "source": [
    "##   Day 25 Challenge\n",
    "\n"
   ]
  },
  {
   "cell_type": "markdown",
   "id": "b8089c0c",
   "metadata": {},
   "source": [
    "Let's extend Day 24's project and create a health stats generator for a character in a video game.\n",
    "\n",
    "1. Create a subroutine that rolls a dice of any size and returns that number.\n",
    "2. Then, create a second subroutine that rolls one six-sided dice and one eight-sided dice.\n",
    "3. Multiply the number from the six-sided dice and eight-sided dice together and return that subroutine as a character's health stats for a video game.\n",
    "4. Print out the character's health stats.\n",
    "5. Add a loop to give the user the option to generate health stats for another character.\n",
    "(We genuinely see this in video games!)\n",
    "\n",
    "🥳 Extra points if you ask for the character's name and double extra points if you use different colors!"
   ]
  },
  {
   "cell_type": "code",
   "execution_count": 1,
   "id": "1ccb5e0e",
   "metadata": {
    "scrolled": true
   },
   "outputs": [],
   "source": [
    "# from getpass import getpass as input\n",
    "import random"
   ]
  },
  {
   "cell_type": "code",
   "execution_count": 50,
   "id": "75eb8021",
   "metadata": {},
   "outputs": [
    {
     "name": "stdout",
     "output_type": "stream",
     "text": [
      "Generate health stats\n",
      " Enter your chacter name: Harsh\n",
      "\u001b[31m Harsh \u001b[0m  your health stat is :  \u001b[34m 18\n",
      "\u001b[0m\n",
      " Do you want to generate health stats for another character again(Yes/No) Yes\n",
      "=================================================================================\n",
      " Enter your chacter name: Ajay\n",
      "\u001b[31m Ajay \u001b[0m  your health stat is :  \u001b[34m 8\n",
      "\u001b[0m\n",
      " Do you want to generate health stats for another character again(Yes/No) No\n",
      "=================================================================================\n",
      " Thankyou for playing this game\n"
     ]
    }
   ],
   "source": [
    "print(\"Generate health stats\")\n",
    "    \n",
    "def Rolladice(sides):\n",
    "    ss = random.randint(1,sides)\n",
    "    return ss\n",
    "\n",
    "def Rollsix_and_eight():\n",
    "    x_6 = Rolladice(6)\n",
    "    x_8 = Rolladice(6)\n",
    "    return str(x_6 *x_8)\n",
    "\n",
    "while(True):\n",
    " \n",
    "    character = input(\" Enter your chacter name: \" )\n",
    "    print(\"\\033[31m\",character,\"\\033[0m\",\" your health stat is : \",\"\\033[34m\", Rollsix_and_eight() )\n",
    "    print(\"\\033[0m\")\n",
    "    check = input(\" Do you want to generate health stats for another character again(Yes/No) \")\n",
    "    print(\"=================================================================================\")\n",
    "    if check == \"No\":\n",
    "        print(\" Thankyou for playing this game\")\n",
    "        break\n",
    "    "
   ]
  },
  {
   "cell_type": "code",
   "execution_count": null,
   "id": "74a8d7e8",
   "metadata": {},
   "outputs": [],
   "source": []
  },
  {
   "cell_type": "code",
   "execution_count": null,
   "id": "1b7bdc52",
   "metadata": {},
   "outputs": [],
   "source": []
  },
  {
   "cell_type": "code",
   "execution_count": null,
   "id": "90ce5d96",
   "metadata": {},
   "outputs": [],
   "source": []
  }
 ],
 "metadata": {
  "kernelspec": {
   "display_name": "Python 3 (ipykernel)",
   "language": "python",
   "name": "python3"
  },
  "language_info": {
   "codemirror_mode": {
    "name": "ipython",
    "version": 3
   },
   "file_extension": ".py",
   "mimetype": "text/x-python",
   "name": "python",
   "nbconvert_exporter": "python",
   "pygments_lexer": "ipython3",
   "version": "3.11.2"
  }
 },
 "nbformat": 4,
 "nbformat_minor": 5
}
