{
 "cells": [
  {
   "cell_type": "markdown",
   "id": "a0402c8d",
   "metadata": {},
   "source": [
    "### Fix My Code"
   ]
  },
  {
   "cell_type": "code",
   "execution_count": 1,
   "id": "dd69372c",
   "metadata": {},
   "outputs": [
    {
     "ename": "SyntaxError",
     "evalue": "invalid syntax. Perhaps you forgot a comma? (1353839132.py, line 11)",
     "output_type": "error",
     "traceback": [
      "\u001b[1;36m  Cell \u001b[1;32mIn[1], line 11\u001b[1;36m\u001b[0m\n\u001b[1;33m    print(\"There was a person called\" name)\u001b[0m\n\u001b[1;37m          ^\u001b[0m\n\u001b[1;31mSyntaxError\u001b[0m\u001b[1;31m:\u001b[0m invalid syntax. Perhaps you forgot a comma?\n"
     ]
    }
   ],
   "source": [
    "print(\"=== Your Song Generator ===\")\n",
    "print(\"\"\"You'll be asked a bunch of questions\n",
    "then we'll make you up an amazing\n",
    "song, totally copyright free 😭\"\"\")\n",
    "print()\n",
    "person = input(\"Name a person famous for something good: \")\n",
    "thing = input(\"Name a thing they did: \")\n",
    "place = input(\"Name a place you like: \")\n",
    "rhyme = input(\"Give me a verb that rhymes with your person's name: \")\n",
    "print()\n",
    "print(\"There was a person called\" name)\n",
    "print(\"Who did something cool like\", thing, \"at the wonderful\", place \"where you'll find me\", rhyme)"
   ]
  },
  {
   "cell_type": "markdown",
   "id": "0643f6eb",
   "metadata": {},
   "source": [
    "## Fixed code "
   ]
  },
  {
   "cell_type": "code",
   "execution_count": 4,
   "id": "81b9c7c3",
   "metadata": {},
   "outputs": [
    {
     "name": "stdout",
     "output_type": "stream",
     "text": [
      "=== Your Song Generator ===\n",
      "You'll be asked a bunch of questions\n",
      "then we'll make you up an amazing\n",
      "song, totally copyright free 😭\n",
      "\n",
      "Name a person famous for something good: A\n",
      "Name a thing they did: B\n",
      "Name a place you like: c\n",
      "Give me a verb that rhymes with your person's name: D\n",
      "\n",
      "There was a person called A\n",
      "Who did something cool like B at the wonderful c where you'll find me D\n"
     ]
    }
   ],
   "source": [
    "print(\"=== Your Song Generator ===\")\n",
    "print(\"\"\"You'll be asked a bunch of questions\n",
    "then we'll make you up an amazing\n",
    "song, totally copyright free 😭\"\"\")\n",
    "print()\n",
    "person = input(\"Name a person famous for something good: \")\n",
    "thing = input(\"Name a thing they did: \")\n",
    "place = input(\"Name a place you like: \")\n",
    "rhyme = input(\"Give me a verb that rhymes with your person's name: \")\n",
    "print()\n",
    "print(\"There was a person called\", person)\n",
    "print(\"Who did something cool like\", thing, \"at the wonderful\", place,\"where you'll find me\", rhyme)"
   ]
  },
  {
   "cell_type": "code",
   "execution_count": null,
   "id": "4343dac2",
   "metadata": {},
   "outputs": [],
   "source": []
  }
 ],
 "metadata": {
  "kernelspec": {
   "display_name": "Python 3 (ipykernel)",
   "language": "python",
   "name": "python3"
  },
  "language_info": {
   "codemirror_mode": {
    "name": "ipython",
    "version": 3
   },
   "file_extension": ".py",
   "mimetype": "text/x-python",
   "name": "python",
   "nbconvert_exporter": "python",
   "pygments_lexer": "ipython3",
   "version": "3.11.2"
  }
 },
 "nbformat": 4,
 "nbformat_minor": 5
}
