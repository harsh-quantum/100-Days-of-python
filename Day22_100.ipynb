{
 "cells": [
  {
   "cell_type": "markdown",
   "id": "255be152",
   "metadata": {},
   "source": [
    "##   Day 22 Challenge\n",
    "\n",
    "\n",
    "### Maths Game\n"
   ]
  },
  {
   "cell_type": "markdown",
   "id": "b8089c0c",
   "metadata": {},
   "source": [
    "Copy and paste your code from Day 18.\n",
    "\n",
    "We are going to make a change to this project:\n",
    "\n",
    "Make the number generator completely random between 1 and 1,000,000. Now, the game will always have the user guess a random number each time (now the user can't cheat...)"
   ]
  },
  {
   "cell_type": "markdown",
   "id": "3932cccc",
   "metadata": {},
   "source": [
    "Totally Random One-Million-to-One\n",
    "\n",
    "What is your guess?: 500000\n",
    "Too low\n",
    "\n",
    "What is your guess?: 750000\n",
    "Too high\n",
    "\n",
    "What is your guess?: 600000\n",
    "Too low\n",
    "\n",
    "What is your guess?: 650000\n",
    "Correct!\n",
    "\n",
    "It took you 4 guesses to get the number correct.\n",
    "Click 'run' to try again with a different number."
   ]
  },
  {
   "cell_type": "code",
   "execution_count": 15,
   "id": "1ccb5e0e",
   "metadata": {
    "scrolled": true
   },
   "outputs": [],
   "source": [
    "from getpass import getpass as input"
   ]
  },
  {
   "cell_type": "code",
   "execution_count": 16,
   "id": "14ed9829",
   "metadata": {},
   "outputs": [],
   "source": [
    "import random"
   ]
  },
  {
   "cell_type": "code",
   "execution_count": 19,
   "id": "db39817c",
   "metadata": {},
   "outputs": [
    {
     "name": "stdout",
     "output_type": "stream",
     "text": [
      " *****Wecolme to the Guess the Number game******** \n",
      "\n",
      " Enter you guess (0 and 1,000,000):  ········\n",
      " Your guess is too low\n",
      " Enter you guess (0 and 1,000,000):  ········\n",
      " Your guess is too high\n",
      " Enter you guess (0 and 1,000,000):  ········\n",
      " Your guess is too high\n",
      " Enter you guess (0 and 1,000,000):  ········\n",
      " Your guess is too high\n",
      " Enter you guess (0 and 1,000,000):  ········\n",
      " Your guess is too high\n",
      " Enter you guess (0 and 1,000,000):  ········\n",
      " Your guess is too high\n",
      " Enter you guess (0 and 1,000,000):  ········\n",
      " Your guess is too low\n",
      " Enter you guess (0 and 1,000,000):  ········\n",
      " Your guess is too low\n",
      " Enter you guess (0 and 1,000,000):  ········\n",
      " Your guess is too high\n",
      " Enter you guess (0 and 1,000,000):  ········\n",
      " Your guess is too low\n",
      " Enter you guess (0 and 1,000,000):  ········\n",
      " Your guess is too high\n",
      " Enter you guess (0 and 1,000,000):  ········\n",
      " Your guess is too high\n",
      " Enter you guess (0 and 1,000,000):  ········\n",
      " Your guess is too high\n",
      " Enter you guess (0 and 1,000,000):  ········\n",
      " Your guess is too low\n",
      " Enter you guess (0 and 1,000,000):  ········\n",
      " Your guess is too low\n",
      " Enter you guess (0 and 1,000,000):  ········\n",
      " Your guess is too low\n",
      " Enter you guess (0 and 1,000,000):  ········\n",
      " Your guess is too low\n",
      " Enter you guess (0 and 1,000,000):  ········\n",
      " Your guess is too high\n",
      " Enter you guess (0 and 1,000,000):  ········\n",
      " Your guess is too high\n",
      " Enter you guess (0 and 1,000,000):  ········\n",
      " Your guess is too low\n",
      " Enter you guess (0 and 1,000,000):  ········\n",
      " Your guess is too high\n",
      " Enter you guess (0 and 1,000,000):  ········\n",
      " Your guess is too low\n",
      " Enter you guess (0 and 1,000,000):  ········\n",
      " Your guess is too low\n",
      " Enter you guess (0 and 1,000,000):  ········\n",
      " Your guess is too high\n",
      " Enter you guess (0 and 1,000,000):  ········\n",
      " Your guess is too high\n",
      " Enter you guess (0 and 1,000,000):  ········\n",
      " Your guess is too low\n",
      " Enter you guess (0 and 1,000,000):  ········\n",
      " Your guess is too high\n",
      " Enter you guess (0 and 1,000,000):  ········\n",
      " Your guess is too low\n",
      " Enter you guess (0 and 1,000,000):  ········\n",
      " Your guess is too low\n",
      " Enter you guess (0 and 1,000,000):  ········\n",
      " Your guess is too high\n",
      " Enter you guess (0 and 1,000,000):  ········\n",
      " Your guess is too high\n",
      " Enter you guess (0 and 1,000,000):  ········\n",
      " Your guess is too low\n",
      " Enter you guess (0 and 1,000,000):  ········\n",
      " Your guess is too low\n",
      " Enter you guess (0 and 1,000,000):  ········\n",
      " Yeah. You guess the correct number  520222\n",
      " Total number of attempts : 34\n"
     ]
    }
   ],
   "source": [
    "print(\" *****Wecolme to the Guess the Number game******** \")\n",
    "print()\n",
    "\n",
    "\n",
    "n1 = random.randint(1, 1000000)\n",
    "count = 0\n",
    "while(True):\n",
    "    \n",
    "    \n",
    "    p1 = int(input(\" Enter you guess (0 and 1,000,000):  \"))\n",
    "    if p1 < 0:\n",
    "        print(\"You Entered the neagtive number \")\n",
    "        break\n",
    "        \n",
    "    if p1 < n1 :\n",
    "        print(\" Your guess is too low\")\n",
    "        count+=1\n",
    "        continue\n",
    "    elif p1 > n1 :\n",
    "        print(\" Your guess is too high\")\n",
    "        count+=1\n",
    "        continue\n",
    "    else:\n",
    "        print(\" Yeah. You guess the correct number \", n1)\n",
    "        count+=1\n",
    "        print(\" Total number of attempts :\", count)\n",
    "        break"
   ]
  },
  {
   "cell_type": "code",
   "execution_count": null,
   "id": "23d97265",
   "metadata": {},
   "outputs": [],
   "source": []
  },
  {
   "cell_type": "code",
   "execution_count": null,
   "id": "b134fa6d",
   "metadata": {},
   "outputs": [],
   "source": []
  }
 ],
 "metadata": {
  "kernelspec": {
   "display_name": "Python 3 (ipykernel)",
   "language": "python",
   "name": "python3"
  },
  "language_info": {
   "codemirror_mode": {
    "name": "ipython",
    "version": 3
   },
   "file_extension": ".py",
   "mimetype": "text/x-python",
   "name": "python",
   "nbconvert_exporter": "python",
   "pygments_lexer": "ipython3",
   "version": "3.11.2"
  }
 },
 "nbformat": 4,
 "nbformat_minor": 5
}
