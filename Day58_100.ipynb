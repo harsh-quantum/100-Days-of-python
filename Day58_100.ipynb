{
 "cells": [
  {
   "cell_type": "markdown",
   "id": "255be152",
   "metadata": {},
   "source": [
    "##   Day 58 Challenge\n",
    "\n",
    "#### Debug"
   ]
  },
  {
   "cell_type": "markdown",
   "id": "b8089c0c",
   "metadata": {},
   "source": [
    "This challenge is all about using the debugger.\n",
    "\n",
    "<!-- \n",
    "![image.png](venv/picture_10.png) -->"
   ]
  },
  {
   "cell_type": "code",
   "execution_count": 3,
   "id": "e306f6e1-929c-4407-9562-38521856f94a",
   "metadata": {
    "tags": []
   },
   "outputs": [
    {
     "name": "stdin",
     "output_type": "stream",
     "text": [
      "1: Guess the random number game\n",
      "2: Total Score\n",
      "3: Exit\n",
      ">  1\n",
      "Pick a number between 1 and 100:  45\n"
     ]
    },
    {
     "name": "stdout",
     "output_type": "stream",
     "text": [
      "Too high\n"
     ]
    },
    {
     "name": "stdin",
     "output_type": "stream",
     "text": [
      "Pick a number between 1 and 100:  24\n"
     ]
    },
    {
     "name": "stdout",
     "output_type": "stream",
     "text": [
      "Too high\n"
     ]
    },
    {
     "name": "stdin",
     "output_type": "stream",
     "text": [
      "Pick a number between 1 and 100:  12\n"
     ]
    },
    {
     "name": "stdout",
     "output_type": "stream",
     "text": [
      "Too high\n"
     ]
    },
    {
     "name": "stdin",
     "output_type": "stream",
     "text": [
      "Pick a number between 1 and 100:  1\n"
     ]
    },
    {
     "name": "stdout",
     "output_type": "stream",
     "text": [
      "Too low\n"
     ]
    },
    {
     "name": "stdin",
     "output_type": "stream",
     "text": [
      "Pick a number between 1 and 100:  7\n"
     ]
    },
    {
     "name": "stdout",
     "output_type": "stream",
     "text": [
      "Too high\n"
     ]
    },
    {
     "name": "stdin",
     "output_type": "stream",
     "text": [
      "Pick a number between 1 and 100:  5\n"
     ]
    },
    {
     "name": "stdout",
     "output_type": "stream",
     "text": [
      "Too low\n"
     ]
    },
    {
     "name": "stdin",
     "output_type": "stream",
     "text": [
      "Pick a number between 1 and 100:  6\n"
     ]
    },
    {
     "name": "stdout",
     "output_type": "stream",
     "text": [
      "Just right!\n",
      "6 attempts this round\n"
     ]
    },
    {
     "name": "stdin",
     "output_type": "stream",
     "text": [
      "1: Guess the random number game\n",
      "2: Total Score\n",
      "3: Exit\n",
      ">  2\n"
     ]
    },
    {
     "name": "stdout",
     "output_type": "stream",
     "text": [
      "You've had 6 attempts\n"
     ]
    },
    {
     "name": "stdin",
     "output_type": "stream",
     "text": [
      "1: Guess the random number game\n",
      "2: Total Score\n",
      "3: Exit\n",
      ">  3\n"
     ]
    }
   ],
   "source": [
    "import random, os, time\n",
    "totalAttempts = 0\n",
    "\n",
    "def game():\n",
    "    attempts = 0\n",
    "    number = random.randint(1,100)\n",
    "    while True:\n",
    "        \n",
    "        guess = int(input(\"Pick a number between 1 and 100: \"))\n",
    "        if guess > number:\n",
    "            print(\"Too high\")\n",
    "            attempts+=1\n",
    "        elif guess < number:\n",
    "            print(\"Too low\")\n",
    "            attempts+=1\n",
    "        else:\n",
    "            print(\"Just right!\")\n",
    "            print(f\"{attempts} attempts this round\")\n",
    "            return attempts\n",
    "\n",
    "while True:\n",
    "    menu = int(input(\"1: Guess the random number game\\n2: Total Score\\n3: Exit\\n> \"))\n",
    "    if menu == 1:\n",
    "        totalAttempts+= game()\n",
    "    elif menu == 2:\n",
    "        print(f\"You've had {totalAttempts} attempts\")\n",
    "    else:\n",
    "        break"
   ]
  },
  {
   "cell_type": "code",
   "execution_count": null,
   "id": "33f16735",
   "metadata": {},
   "outputs": [],
   "source": []
  },
  {
   "cell_type": "code",
   "execution_count": null,
   "id": "f164470d",
   "metadata": {},
   "outputs": [],
   "source": []
  },
  {
   "cell_type": "code",
   "execution_count": null,
   "id": "a33f393e",
   "metadata": {},
   "outputs": [],
   "source": []
  }
 ],
 "metadata": {
  "kernelspec": {
   "display_name": "Python 3.11 (XPython)",
   "language": "python",
   "name": "xpython"
  },
  "language_info": {
   "file_extension": ".py",
   "mimetype": "text/x-python",
   "name": "python",
   "version": "3.11.6"
  }
 },
 "nbformat": 4,
 "nbformat_minor": 5
}
