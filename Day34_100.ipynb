{
 "cells": [
  {
   "cell_type": "markdown",
   "id": "255be152",
   "metadata": {},
   "source": [
    "##   Day 34 Challenge\n",
    "\n"
   ]
  },
  {
   "cell_type": "markdown",
   "id": "b8089c0c",
   "metadata": {},
   "source": [
    "Let's extend this program and build option 4: \"Get SPAMMING\".\n",
    "\n",
    "1. Print out the first 10 email addresses with a custom email sent to each of those people.\n",
    "2. Print one email at a time, pause, and then clear the screen before the next email is printed.\n",
    "\n",
    "Example:\n",
    "\n",
    "\n",
    "![SNOWFALL](venv/picture_7.png)"
   ]
  },
  {
   "cell_type": "code",
   "execution_count": 3,
   "id": "77089d9c",
   "metadata": {},
   "outputs": [
    {
     "name": "stdout",
     "output_type": "stream",
     "text": [
      "      \u001b[1;32m LIST MANAGER \u001b[0m\n",
      "\n",
      "\n",
      " Below are the following options: \n",
      "\n",
      "\u001b[1;33m Add \n",
      "\t \u001b[1;34m View \n",
      "\t\t \u001b[1;35m Remove \n",
      "\t\t\t \u001b[1;36m Edit \n",
      "\t\t\t\t \u001b[1;40m Exit \u001b[1;40m\n",
      "\n",
      " ENTER your choice: Add\n",
      "\u001b[1;0m\n",
      "\n",
      " Tell me your item: loda\n",
      "\n",
      "      \u001b[1;32m LIST MANAGER \u001b[0m\n",
      "\n",
      "\n",
      " Below are the following options: \n",
      "\n",
      "\u001b[1;33m Add \n",
      "\t \u001b[1;34m View \n",
      "\t\t \u001b[1;35m Remove \n",
      "\t\t\t \u001b[1;36m Edit \n",
      "\t\t\t\t \u001b[1;40m Exit \u001b[1;40m\n",
      "\n",
      " ENTER your choice: Exit\n",
      "\u001b[1;0m\n",
      "\n"
     ]
    }
   ],
   "source": [
    "import os, time\n",
    "\n",
    "listOfEmail = []\n",
    "\n",
    "\n",
    "def prettyPrint():\n",
    "  os.system(\"clear\")\n",
    "  print(\"listofEmail\")\n",
    "  print()\n",
    "  for index in range(len(listOfEmail)):  # len counts how many items in a list\n",
    "    print(f\"{index}: {listOfEmail[index]}\")\n",
    "  time.sleep(1)\n",
    "\n",
    "\n",
    "def spamming():\n",
    "  os.system(\"clear\")\n",
    "  print(\"Spanning email \")\n",
    "  for email in range(len(listOfEmail)):\n",
    "    if email < 10:\n",
    "      print(f\"\"\" Dear {listOfEmail[email]}\n",
    "      It has come to our attention that \n",
    "      you're missing out on the\n",
    "      amazing Replit 100 days of code.\n",
    "      We insist you do it right away. If you \n",
    "      don't we will pass on your email address \n",
    "      to every spammer we've ever encountered \n",
    "      and also sign you up to the My Little \n",
    "      Pony newsletter, because that's neat. \n",
    "      We might just do that anyway.\n",
    "      \n",
    "      Love and hugs,\n",
    "      Ian Spammington III\n",
    "      \"\"\")\n",
    "\n",
    "    time.sleep(1.5)\n",
    "    os.system(\"clear\")\n",
    "\n",
    "\n",
    "while True:\n",
    "  print(\"SPAMMER Inc.\")\n",
    "  menu = input(\n",
    "    \"1. Add email\\n2: Remove email\\n3. Show emails\\n4. Get SPAMMING\\n> \")\n",
    "  if menu == \"1\":\n",
    "    email = input(\"Email > \")\n",
    "    listOfEmail.append(email)\n",
    "  elif menu == \"2\":\n",
    "    email = input(\"Email > \")\n",
    "    if email in listOfEmail:\n",
    "      listOfEmail.remove(email)\n",
    "  elif menu == \"3\":\n",
    "    prettyPrint()\n",
    "  elif menu == \"4\":\n",
    "    spamming()\n",
    "  time.sleep(1)\n",
    "  os.system(\"clear\")\n"
   ]
  },
  {
   "cell_type": "code",
   "execution_count": null,
   "id": "12c7bd58",
   "metadata": {},
   "outputs": [],
   "source": [
    "\n",
    "\n"
   ]
  },
  {
   "cell_type": "code",
   "execution_count": null,
   "id": "2b4ea2f6",
   "metadata": {},
   "outputs": [],
   "source": []
  },
  {
   "cell_type": "code",
   "execution_count": null,
   "id": "47859e38",
   "metadata": {},
   "outputs": [],
   "source": []
  }
 ],
 "metadata": {
  "kernelspec": {
   "display_name": "Python 3 (ipykernel)",
   "language": "python",
   "name": "python3"
  },
  "language_info": {
   "codemirror_mode": {
    "name": "ipython",
    "version": 3
   },
   "file_extension": ".py",
   "mimetype": "text/x-python",
   "name": "python",
   "nbconvert_exporter": "python",
   "pygments_lexer": "ipython3",
   "version": "3.11.2"
  }
 },
 "nbformat": 4,
 "nbformat_minor": 5
}
