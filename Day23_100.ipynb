{
 "cells": [
  {
   "cell_type": "markdown",
   "id": "255be152",
   "metadata": {},
   "source": [
    "##   Day 23 Challenge\n",
    "\n"
   ]
  },
  {
   "cell_type": "markdown",
   "id": "b8089c0c",
   "metadata": {},
   "source": [
    "1. Create a subroutine with both a username and password.\n",
    "2. Create a loop to prompt the user again and again until they put in the correct login information."
   ]
  },
  {
   "cell_type": "markdown",
   "id": "5d66909f",
   "metadata": {},
   "source": [
    "\n",
    "Replit Login System\n",
    "\n",
    "What is your username?: david\n",
    "What is your password? whatAmazingHairYouHave\n",
    "\n",
    "Whoops! I don't recognize that username or password. Try again!\n",
    "\n",
    "What is your username? david\n",
    "What is your password? baldies4life\n",
    "\n",
    "Welcome to Replit!"
   ]
  },
  {
   "cell_type": "code",
   "execution_count": 20,
   "id": "1ccb5e0e",
   "metadata": {
    "scrolled": true
   },
   "outputs": [],
   "source": [
    "from getpass import getpass as input\n",
    "import random"
   ]
  },
  {
   "cell_type": "code",
   "execution_count": 25,
   "id": "6438863f",
   "metadata": {},
   "outputs": [
    {
     "name": "stdout",
     "output_type": "stream",
     "text": [
      " Welcome to login system\n",
      "What is your username?: ········\n",
      "What is your password?: ········\n",
      " Whoops! I don't recognize that username or password. Try again! \n",
      "What is your username?: ········\n",
      "What is your password?: ········\n",
      " Whoops! I don't recognize that username or password. Try again! \n",
      "What is your username?: ········\n",
      "What is your password?: ········\n",
      " Whoops! I don't recognize that username or password. Try again! \n",
      "What is your username?: ········\n",
      "What is your password?: ········\n",
      " Whoops! I don't recognize that username or password. Try again! \n",
      "What is your username?: ········\n",
      "What is your password?: ········\n",
      " Whoops! I don't recognize that username or password. Try again! \n",
      "What is your username?: ········\n",
      "What is your password?: ········\n",
      " Whoops! I don't recognize that username or password. Try again! \n",
      "What is your username?: ········\n",
      "What is your password?: ········\n",
      " Whoops! I don't recognize that username or password. Try again! \n",
      "What is your username?: ········\n",
      "What is your password?: ········\n",
      " Whoops! I don't recognize that username or password. Try again! \n",
      "What is your username?: ········\n",
      "What is your password?: ········\n",
      " Whoops! I don't recognize that username or password. Try again! \n",
      "What is your username?: ········\n",
      "What is your password?: ········\n",
      " Whoops! I don't recognize that username or password. Try again! \n",
      "What is your username?: ········\n",
      "What is your password?: ········\n",
      " Whoops! I don't recognize that username or password. Try again! \n",
      "What is your username?: ········\n",
      "What is your password?: ········\n",
      " Whoops! I don't recognize that username or password. Try again! \n",
      "What is your username?: ········\n",
      "What is your password?: ········\n",
      " Whoops! I don't recognize that username or password. Try again! \n",
      "What is your username?: ········\n",
      "What is your password?: ········\n",
      " Whoops! I don't recognize that username or password. Try again! \n",
      "What is your username?: ········\n",
      "What is your password?: ········\n",
      " Whoops! I don't recognize that username or password. Try again! \n",
      "What is your username?: ········\n",
      "What is your password?: ········\n",
      " Whoops! I don't recognize that username or password. Try again! \n",
      "What is your username?: ········\n",
      "What is your password?: ········\n",
      " Whoops! I don't recognize that username or password. Try again! \n",
      "What is your username?: ········\n",
      "What is your password?: ········\n",
      " Welcome to Replit!\n"
     ]
    }
   ],
   "source": [
    "def user_pass():\n",
    "    while (True):\n",
    "        user = input(\"What is your username?: \")\n",
    "        password = input(\"What is your password?: \") \n",
    "        if user == \"admin\" and password == \"admin\": \n",
    "            print(\" Welcome to Replit!\")\n",
    "            break\n",
    "        else: \n",
    "            print(\" Whoops! I don't recognize that username or password. Try again! \")  \n",
    "            continue\n",
    "\n",
    "print(\" Welcome to login system\")\n",
    "user_pass()"
   ]
  },
  {
   "cell_type": "code",
   "execution_count": null,
   "id": "511d53c2",
   "metadata": {},
   "outputs": [],
   "source": []
  },
  {
   "cell_type": "code",
   "execution_count": null,
   "id": "488d1cff",
   "metadata": {},
   "outputs": [],
   "source": []
  },
  {
   "cell_type": "code",
   "execution_count": 16,
   "id": "3fed0c41",
   "metadata": {},
   "outputs": [],
   "source": []
  },
  {
   "cell_type": "code",
   "execution_count": 16,
   "id": "e339b7b1",
   "metadata": {},
   "outputs": [],
   "source": []
  },
  {
   "cell_type": "code",
   "execution_count": null,
   "id": "9fdf5041",
   "metadata": {},
   "outputs": [],
   "source": []
  }
 ],
 "metadata": {
  "kernelspec": {
   "display_name": "Python 3 (ipykernel)",
   "language": "python",
   "name": "python3"
  },
  "language_info": {
   "codemirror_mode": {
    "name": "ipython",
    "version": 3
   },
   "file_extension": ".py",
   "mimetype": "text/x-python",
   "name": "python",
   "nbconvert_exporter": "python",
   "pygments_lexer": "ipython3",
   "version": "3.11.2"
  }
 },
 "nbformat": 4,
 "nbformat_minor": 5
}
