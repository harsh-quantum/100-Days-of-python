{
 "cells": [
  {
   "cell_type": "markdown",
   "id": "255be152",
   "metadata": {},
   "source": [
    "##   Day 43 Challenge\n",
    "\n",
    "#### "
   ]
  },
  {
   "cell_type": "markdown",
   "id": "b8089c0c",
   "metadata": {},
   "source": [
    "Today's challenge is to create a bingo card. Oh yes, because programming's not just for you hip, young cats. 😆\n",
    "\n",
    "Anyway, your challenge is to enable \"gambling for the elderly\" (aka Bingo), and you'll achieve it like this:\n",
    "\n",
    "1. Randomly generate a series of number between 0 and 90.\n",
    "2. Allocate each number to a place in a 2D list.\n",
    "3. The numbers should be in numerical order, left to right.\n",
    "4. Numbers should not be repeated.\n",
    "5. The center square should not contain a number. It should contain the word 'BINGO!'.\n",
    "6. When the program is run, the bingo card should be displayed on screen.\n",
    "\n",
    "<!-- \n",
    "![image.png](venv/picture_10.png) -->"
   ]
  },
  {
   "cell_type": "code",
   "execution_count": 113,
   "id": "77089d9c",
   "metadata": {},
   "outputs": [
    {
     "name": "stdout",
     "output_type": "stream",
     "text": [
      "3 | \t\n",
      "5 | \t\n",
      "11 | \t\n",
      "-------------------\n",
      "5 | \t\n",
      "BINGO | \t\n",
      "33 | \t\n",
      "-------------------\n",
      "11 | \t\n",
      "33 | \t\n",
      "35 | \t\n",
      "-------------------\n"
     ]
    }
   ],
   "source": [
    "import random \n",
    "\n",
    "list1=[]\n",
    "counter = 9\n",
    "\n",
    "while(True):\n",
    "\n",
    "    temp = random.randint(1,90)\n",
    "    if temp not in list1:\n",
    "        list1.append(temp)\n",
    "        counter-=1\n",
    "    if counter == -1 :\n",
    "        break\n",
    "\n",
    "list1.sort()\n",
    "\n",
    "\n",
    "list2 =[]\n",
    "\n",
    "for i in range(3):\n",
    "    temp=[]\n",
    "    for j in range(3):\n",
    "        temp.append(list1[3*i+j])\n",
    "        \n",
    "        \n",
    "    list2.append(temp)\n",
    "    \n",
    "list2[1][1] ='BINGO' \n",
    "\n",
    "for i in range(3):\n",
    "    for j in range(3):\n",
    "        print(list2[i][j],\"| \\t\")\n",
    "    print(\"-------------------\")"
   ]
  },
  {
   "cell_type": "code",
   "execution_count": 117,
   "id": "27ae7e15",
   "metadata": {},
   "outputs": [
    {
     "name": "stdout",
     "output_type": "stream",
     "text": [
      "    10     |     16     |     25     | \n",
      " -------------------------------------\n",
      "    16     |   BINGO    |     31     | \n",
      " -------------------------------------\n",
      "    25     |     31     |     43     | \n",
      " -------------------------------------\n"
     ]
    }
   ],
   "source": [
    "import random\n",
    "\n",
    "list1 = []\n",
    "counter = 9\n",
    "\n",
    "while (True):\n",
    "\n",
    "  temp = random.randint(1, 90)\n",
    "  if temp not in list1:\n",
    "    list1.append(temp)\n",
    "    counter -= 1\n",
    "  if counter == -1:\n",
    "    break\n",
    "\n",
    "list1.sort()\n",
    "\n",
    "list2 = []\n",
    "\n",
    "for i in range(3):\n",
    "  temp = []\n",
    "  for j in range(3):\n",
    "    temp.append(list1[i + j])\n",
    "\n",
    "  list2.append(temp)\n",
    "\n",
    "list2[1][1] = 'BINGO'\n",
    "\n",
    "for i in list2:\n",
    "  for item in i:\n",
    "    print(f\"{item:^10}\", end=\" | \")\n",
    "  print(\"\\n -------------------------------------\")  \n",
    "  # print(\"-------------------\")\n"
   ]
  },
  {
   "cell_type": "code",
   "execution_count": null,
   "id": "871ac5cc",
   "metadata": {},
   "outputs": [],
   "source": []
  },
  {
   "cell_type": "code",
   "execution_count": null,
   "id": "04600824",
   "metadata": {},
   "outputs": [],
   "source": []
  }
 ],
 "metadata": {
  "kernelspec": {
   "display_name": "Python 3 (ipykernel)",
   "language": "python",
   "name": "python3"
  },
  "language_info": {
   "codemirror_mode": {
    "name": "ipython",
    "version": 3
   },
   "file_extension": ".py",
   "mimetype": "text/x-python",
   "name": "python",
   "nbconvert_exporter": "python",
   "pygments_lexer": "ipython3",
   "version": "3.11.5"
  }
 },
 "nbformat": 4,
 "nbformat_minor": 5
}
