{
 "cells": [
  {
   "cell_type": "markdown",
   "id": "255be152",
   "metadata": {},
   "source": [
    "##   Day 49 Challenge\n",
    "\n",
    "#### Open the text file "
   ]
  },
  {
   "cell_type": "markdown",
   "id": "b8089c0c",
   "metadata": {},
   "source": [
    "In yesterday's challenge, you created a file called high.score and stored some high scores in it.\n",
    "\n",
    "We've added a version of that file to this repl.\n",
    "\n",
    "Your program should:\n",
    "\n",
    "    Read in the data from the high.score file.\n",
    "    Identify which of those users had the highest score. Automatically! (Not you doing it!)\n",
    "    Output the name and score of the winner.\n",
    "\n",
    "\n",
    "<!-- \n",
    "![image.png](venv/picture_10.png) -->"
   ]
  },
  {
   "cell_type": "code",
   "execution_count": 164,
   "id": "0e971444",
   "metadata": {},
   "outputs": [
    {
     "name": "stdout",
     "output_type": "stream",
     "text": [
      "🌟HIGH SCORE TABLE🌟\n",
      "🌟Current Leader🌟\n",
      "\n",
      "Analyzing high scores......\n",
      "\n",
      "HAR has the highest score of 44545\n"
     ]
    }
   ],
   "source": [
    "print(\"🌟HIGH SCORE TABLE🌟\")\n",
    "f= open(\"high_score.text\",\"r\")\n",
    "\n",
    "print(\"🌟Current Leader🌟\")\n",
    "\n",
    "temp = 0\n",
    "print()\n",
    "print(\"Analyzing high scores......\")\n",
    "while True:\n",
    "  \n",
    "\n",
    "    contents1 = f.readline().strip()\n",
    "    contents2 = f.readline().strip()\n",
    "#     print(contents2)\n",
    "    if contents1 == \"\":\n",
    "        break\n",
    "    if int(contents2) >= temp:\n",
    "        \n",
    "        temp = int(contents2)\n",
    "        name = contents1\n",
    "print()   \n",
    "f.close()    \n",
    "print(f\"{name} has the highest score of {temp}\")\n"
   ]
  },
  {
   "cell_type": "code",
   "execution_count": null,
   "id": "ba91e928",
   "metadata": {},
   "outputs": [],
   "source": []
  }
 ],
 "metadata": {
  "kernelspec": {
   "display_name": "Python 3 (ipykernel)",
   "language": "python",
   "name": "python3"
  },
  "language_info": {
   "codemirror_mode": {
    "name": "ipython",
    "version": 3
   },
   "file_extension": ".py",
   "mimetype": "text/x-python",
   "name": "python",
   "nbconvert_exporter": "python",
   "pygments_lexer": "ipython3",
   "version": "3.11.5"
  }
 },
 "nbformat": 4,
 "nbformat_minor": 5
}
