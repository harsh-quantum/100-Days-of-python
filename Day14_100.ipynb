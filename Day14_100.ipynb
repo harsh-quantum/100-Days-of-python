{
 "cells": [
  {
   "cell_type": "markdown",
   "id": "709cb908",
   "metadata": {},
   "source": [
    "##  Day 14 Challenge\n",
    "\n",
    "### 2 player 🪨📄✂️\n"
   ]
  },
  {
   "cell_type": "markdown",
   "id": "c95263d7",
   "metadata": {},
   "source": [
    "Are you ready for your first BIG project?!!\n",
    "\n",
    "So far you have learned\n",
    "\n",
    "input and output,\n",
    "if/elif/else statements,\n",
    "basic mathematics,\n",
    "and casting as float and int.\n",
    "WOW! That's alot in just 13 days.\n",
    "\n",
    "Today, you are going to build a rock, paper, scissors game.\n",
    "\n",
    "Start with this code below to ensure that whenever you use input, each player cannot see what the other player typed in 😉:"
   ]
  },
  {
   "cell_type": "code",
   "execution_count": 43,
   "id": "82e6e268",
   "metadata": {},
   "outputs": [],
   "source": [
    "from getpass import getpass as input"
   ]
  },
  {
   "cell_type": "markdown",
   "id": "ee15f43c",
   "metadata": {},
   "source": [
    "1. For this version, you have two players. Player 1 and Player 2.\n",
    "2. You will need to create if statements (and probably nesting) to decide who has won, lost or if the game is a tie.\n",
    "3. Make it fun and add emojis or epic comments as your players battle it out.\n",
    "4. Keep it simple for you. Don't expect the user to type in the words rock, paper, scissors. Instead, encourage them to use R, P, or S. (Can you ensure the user can still input an option even if it is typed in wrong?)"
   ]
  },
  {
   "cell_type": "code",
   "execution_count": 54,
   "id": "63750a8a",
   "metadata": {},
   "outputs": [
    {
     "name": "stdout",
     "output_type": "stream",
     "text": [
      " *****Wecolme to the EPIC battle of 🪨📄✂️******** \n",
      "\n",
      " Instead of rock , paper, scissors, you need to give input as R or P or S\n",
      "\n",
      " =====Welcome Player 1===== \n",
      " Enter you input (R or P or S) ········\n",
      "\n",
      " Wrong input. Enter the available option (R or P or S) ········\n",
      "\n",
      " =====Welcome Player 2===== \n",
      "\n",
      " Enter you input (R or P or S) ········\n",
      "\n",
      " Player 2 cuts Player 1 paper with scissor. Congrats player 2\n"
     ]
    }
   ],
   "source": [
    "print(\" *****Wecolme to the EPIC battle of 🪨📄✂️******** \")\n",
    "print()\n",
    "print(\" Instead of rock , paper, scissors, you need to give input as R or P or S\")\n",
    "print()\n",
    "print(\" =====Welcome Player 1===== \")\n",
    "p1 = input(\" Enter you input (R or P or S) \")\n",
    "\n",
    "if p1 !=\"R\" and p1 !=\"P\" and p1 !=\"S\":\n",
    "    print()\n",
    "    p1 = input(\" Wrong input. Enter the available option (R or P or S) \")\n",
    "print()\n",
    "print(\" =====Welcome Player 2===== \")\n",
    "print()\n",
    "p2 = input(\" Enter you input (R or P or S) \")\n",
    "\n",
    "if p2 !=\"R\" and p2!=\"P\" and p2!=\"S\":\n",
    "    print()\n",
    "    p2 = input(\" Wrong input. Enter the available option (R or P or S) \")\n",
    "print()\n",
    "if p1 == \"P\":\n",
    "    if p2 == \"R\":\n",
    "            print(\" Player 1 warp  Player 1  rock with paper. Congrats player 1\")\n",
    "    elif p2 == \"S\":\n",
    "            print(\" Player 2 cuts Player 1 paper with scissor. Congrats player 2\")\n",
    "    else: \n",
    "        print(\" Opps. Both choose the same option. Its a tie\")\n",
    "elif p1 == \"R\":\n",
    "    if p2 == \"P\":\n",
    "            print(\" Player 2 warp  Player 1 rock with paper. Congrats player 2\")\n",
    "    elif p2 == \"S\":\n",
    "            print(\" Player 1 breaks the Player 2 scissor with rock. Congrats player 1\")\n",
    "    else: \n",
    "        print(\" Opps. Both choose the same option. Its a tie\")      \n",
    "        \n",
    "elif p1 == \"S\":\n",
    "    if p2 == \"P\":\n",
    "            print(\" Player 1 cuts Player 2 paper with scissor. Congrats player 1\")\n",
    "    elif p2 == \"R\":\n",
    "            print(\" Player 2 breaks the Player 1 scissor with rock. Congrats player 2\")\n",
    "    else: \n",
    "        print(\" Opps. Both choose the same option. Its a tie\")       \n",
    "        \n",
    "else: \n",
    "    print(\" Seems like you dont know how to read the english.\")"
   ]
  },
  {
   "cell_type": "code",
   "execution_count": null,
   "id": "91f0244e",
   "metadata": {},
   "outputs": [],
   "source": []
  }
 ],
 "metadata": {
  "kernelspec": {
   "display_name": "Python 3 (ipykernel)",
   "language": "python",
   "name": "python3"
  },
  "language_info": {
   "codemirror_mode": {
    "name": "ipython",
    "version": 3
   },
   "file_extension": ".py",
   "mimetype": "text/x-python",
   "name": "python",
   "nbconvert_exporter": "python",
   "pygments_lexer": "ipython3",
   "version": "3.11.2"
  }
 },
 "nbformat": 4,
 "nbformat_minor": 5
}
